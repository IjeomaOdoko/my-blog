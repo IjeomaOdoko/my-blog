{
  "nbformat": 4,
  "nbformat_minor": 0,
  "metadata": {
    "colab": {
      "name": "Support Vector Machines - SVM.ipynb",
      "provenance": [],
      "collapsed_sections": []
    },
    "kernelspec": {
      "name": "python3",
      "display_name": "Python 3"
    }
  },
  "cells": [
    {
      "cell_type": "markdown",
      "metadata": {
        "id": "rbrYrEuj-Vt9"
      },
      "source": [
        "# \"Implementing Support Vector Machines (SVM) Classifier using Python\"\n",
        "\n",
        "> \"Explore how to implement the Support Vector Machine Algorithm in Python using a real-life dataset\"\n",
        "\n",
        "\n",
        "- toc: false\n",
        "- branch: master\n",
        "- badges: true\n",
        "- comments: true\n",
        "- author: Ijeoma Odoko\n",
        "- categories: [python, supervised_machine_learning, classification, support vector machines]"
      ]
    },
    {
      "cell_type": "markdown",
      "metadata": {
        "id": "_TSEa--p-mwz"
      },
      "source": [
        "## About\n",
        "\n",
        "Explore how to implement the Support Vector Machines Algorithm in Python using a classification dataset from the UCI Machine Learning Repository.\n"
      ]
    },
    {
      "cell_type": "markdown",
      "metadata": {
        "id": "iZK75RPD-0Ro"
      },
      "source": [
        "### What is Support Vector Machines\n",
        "\n",
        "Support Vector Machines also known as SVMs is a supervised machine learning algorithm that can be used to separate a dataset into two classes using a line. This line is called a maximal margin hyperplane, because the line typically has the biggest margin possible on each side of the line to the nearest point. \n",
        "\n",
        "See example below. \n",
        "![Support Vector Machines.png](data:image/png;base64,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)"
      ]
    },
    {
      "cell_type": "markdown",
      "metadata": {
        "id": "9XU1An9AQiIo"
      },
      "source": [
        "### Why and When to use Support Vector Machines?\n",
        "\n",
        "Support Vector Machine can be used for supervised machine learning problems such as classification, regressions, and outlier detection. It is found to be effective in high dimensional spaces and also versatile.\n",
        "\n",
        "They work best where there is a clear separation between classes. SVM is not ideal for large datasets that have lots of noise or overlapping classes.  If you have lots of features and large dataset, SVM might be slow. \n",
        "\n"
      ]
    },
    {
      "cell_type": "markdown",
      "metadata": {
        "id": "cDWrmeqNy3BD"
      },
      "source": [
        "## Import Libraries and load dataset"
      ]
    },
    {
      "cell_type": "code",
      "metadata": {
        "id": "flqjue-y98-e"
      },
      "source": [
        "import matplotlib.pyplot as plt\n",
        "%matplotlib inline\n",
        "import pandas as pd\n",
        "import seaborn as sns\n",
        "import numpy as np\n",
        "from google.colab import files"
      ],
      "execution_count": null,
      "outputs": []
    },
    {
      "cell_type": "code",
      "metadata": {
        "colab": {
          "resources": {
            "http://localhost:8080/nbextensions/google.colab/files.js": {
              "data": "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",
              "ok": true,
              "headers": [
                [
                  "content-type",
                  "application/javascript"
                ]
              ],
              "status": 200,
              "status_text": ""
            }
          },
          "base_uri": "https://localhost:8080/",
          "height": 73
        },
        "id": "QLI1CDl9y_YQ",
        "outputId": "c3240fc9-f491-467c-a62e-b6e75c8b1cf4"
      },
      "source": [
        "uploaded = files.upload()"
      ],
      "execution_count": null,
      "outputs": [
        {
          "output_type": "display_data",
          "data": {
            "text/html": [
              "\n",
              "     <input type=\"file\" id=\"files-a5cb9367-223a-44bf-a61d-4d91f7f179b5\" name=\"files[]\" multiple disabled\n",
              "        style=\"border:none\" />\n",
              "     <output id=\"result-a5cb9367-223a-44bf-a61d-4d91f7f179b5\">\n",
              "      Upload widget is only available when the cell has been executed in the\n",
              "      current browser session. Please rerun this cell to enable.\n",
              "      </output>\n",
              "      <script src=\"/nbextensions/google.colab/files.js\"></script> "
            ],
            "text/plain": [
              "<IPython.core.display.HTML object>"
            ]
          },
          "metadata": {
            "tags": []
          }
        },
        {
          "output_type": "stream",
          "text": [
            "Saving hcvdat0.csv to hcvdat0.csv\n"
          ],
          "name": "stdout"
        }
      ]
    },
    {
      "cell_type": "code",
      "metadata": {
        "colab": {
          "base_uri": "https://localhost:8080/",
          "height": 406
        },
        "id": "zeAaoXIUzDS2",
        "outputId": "6ec0a660-d6f3-4d5e-d667-ecf57cea39c8"
      },
      "source": [
        "import io\n",
        "hcv = pd.read_csv(io.BytesIO(uploaded['hcvdat0.csv'])) ##used BytesIO instead of StringIO\n",
        "\n",
        "hcv"
      ],
      "execution_count": null,
      "outputs": [
        {
          "output_type": "execute_result",
          "data": {
            "text/html": [
              "<div>\n",
              "<style scoped>\n",
              "    .dataframe tbody tr th:only-of-type {\n",
              "        vertical-align: middle;\n",
              "    }\n",
              "\n",
              "    .dataframe tbody tr th {\n",
              "        vertical-align: top;\n",
              "    }\n",
              "\n",
              "    .dataframe thead th {\n",
              "        text-align: right;\n",
              "    }\n",
              "</style>\n",
              "<table border=\"1\" class=\"dataframe\">\n",
              "  <thead>\n",
              "    <tr style=\"text-align: right;\">\n",
              "      <th></th>\n",
              "      <th>Unnamed: 0</th>\n",
              "      <th>Category</th>\n",
              "      <th>Age</th>\n",
              "      <th>Sex</th>\n",
              "      <th>ALB</th>\n",
              "      <th>ALP</th>\n",
              "      <th>ALT</th>\n",
              "      <th>AST</th>\n",
              "      <th>BIL</th>\n",
              "      <th>CHE</th>\n",
              "      <th>CHOL</th>\n",
              "      <th>CREA</th>\n",
              "      <th>GGT</th>\n",
              "      <th>PROT</th>\n",
              "    </tr>\n",
              "  </thead>\n",
              "  <tbody>\n",
              "    <tr>\n",
              "      <th>0</th>\n",
              "      <td>1</td>\n",
              "      <td>0=Blood Donor</td>\n",
              "      <td>32</td>\n",
              "      <td>m</td>\n",
              "      <td>38.5</td>\n",
              "      <td>52.5</td>\n",
              "      <td>7.7</td>\n",
              "      <td>22.1</td>\n",
              "      <td>7.5</td>\n",
              "      <td>6.93</td>\n",
              "      <td>3.23</td>\n",
              "      <td>106.0</td>\n",
              "      <td>12.1</td>\n",
              "      <td>69.0</td>\n",
              "    </tr>\n",
              "    <tr>\n",
              "      <th>1</th>\n",
              "      <td>2</td>\n",
              "      <td>0=Blood Donor</td>\n",
              "      <td>32</td>\n",
              "      <td>m</td>\n",
              "      <td>38.5</td>\n",
              "      <td>70.3</td>\n",
              "      <td>18.0</td>\n",
              "      <td>24.7</td>\n",
              "      <td>3.9</td>\n",
              "      <td>11.17</td>\n",
              "      <td>4.80</td>\n",
              "      <td>74.0</td>\n",
              "      <td>15.6</td>\n",
              "      <td>76.5</td>\n",
              "    </tr>\n",
              "    <tr>\n",
              "      <th>2</th>\n",
              "      <td>3</td>\n",
              "      <td>0=Blood Donor</td>\n",
              "      <td>32</td>\n",
              "      <td>m</td>\n",
              "      <td>46.9</td>\n",
              "      <td>74.7</td>\n",
              "      <td>36.2</td>\n",
              "      <td>52.6</td>\n",
              "      <td>6.1</td>\n",
              "      <td>8.84</td>\n",
              "      <td>5.20</td>\n",
              "      <td>86.0</td>\n",
              "      <td>33.2</td>\n",
              "      <td>79.3</td>\n",
              "    </tr>\n",
              "    <tr>\n",
              "      <th>3</th>\n",
              "      <td>4</td>\n",
              "      <td>0=Blood Donor</td>\n",
              "      <td>32</td>\n",
              "      <td>m</td>\n",
              "      <td>43.2</td>\n",
              "      <td>52.0</td>\n",
              "      <td>30.6</td>\n",
              "      <td>22.6</td>\n",
              "      <td>18.9</td>\n",
              "      <td>7.33</td>\n",
              "      <td>4.74</td>\n",
              "      <td>80.0</td>\n",
              "      <td>33.8</td>\n",
              "      <td>75.7</td>\n",
              "    </tr>\n",
              "    <tr>\n",
              "      <th>4</th>\n",
              "      <td>5</td>\n",
              "      <td>0=Blood Donor</td>\n",
              "      <td>32</td>\n",
              "      <td>m</td>\n",
              "      <td>39.2</td>\n",
              "      <td>74.1</td>\n",
              "      <td>32.6</td>\n",
              "      <td>24.8</td>\n",
              "      <td>9.6</td>\n",
              "      <td>9.15</td>\n",
              "      <td>4.32</td>\n",
              "      <td>76.0</td>\n",
              "      <td>29.9</td>\n",
              "      <td>68.7</td>\n",
              "    </tr>\n",
              "    <tr>\n",
              "      <th>...</th>\n",
              "      <td>...</td>\n",
              "      <td>...</td>\n",
              "      <td>...</td>\n",
              "      <td>...</td>\n",
              "      <td>...</td>\n",
              "      <td>...</td>\n",
              "      <td>...</td>\n",
              "      <td>...</td>\n",
              "      <td>...</td>\n",
              "      <td>...</td>\n",
              "      <td>...</td>\n",
              "      <td>...</td>\n",
              "      <td>...</td>\n",
              "      <td>...</td>\n",
              "    </tr>\n",
              "    <tr>\n",
              "      <th>610</th>\n",
              "      <td>611</td>\n",
              "      <td>3=Cirrhosis</td>\n",
              "      <td>62</td>\n",
              "      <td>f</td>\n",
              "      <td>32.0</td>\n",
              "      <td>416.6</td>\n",
              "      <td>5.9</td>\n",
              "      <td>110.3</td>\n",
              "      <td>50.0</td>\n",
              "      <td>5.57</td>\n",
              "      <td>6.30</td>\n",
              "      <td>55.7</td>\n",
              "      <td>650.9</td>\n",
              "      <td>68.5</td>\n",
              "    </tr>\n",
              "    <tr>\n",
              "      <th>611</th>\n",
              "      <td>612</td>\n",
              "      <td>3=Cirrhosis</td>\n",
              "      <td>64</td>\n",
              "      <td>f</td>\n",
              "      <td>24.0</td>\n",
              "      <td>102.8</td>\n",
              "      <td>2.9</td>\n",
              "      <td>44.4</td>\n",
              "      <td>20.0</td>\n",
              "      <td>1.54</td>\n",
              "      <td>3.02</td>\n",
              "      <td>63.0</td>\n",
              "      <td>35.9</td>\n",
              "      <td>71.3</td>\n",
              "    </tr>\n",
              "    <tr>\n",
              "      <th>612</th>\n",
              "      <td>613</td>\n",
              "      <td>3=Cirrhosis</td>\n",
              "      <td>64</td>\n",
              "      <td>f</td>\n",
              "      <td>29.0</td>\n",
              "      <td>87.3</td>\n",
              "      <td>3.5</td>\n",
              "      <td>99.0</td>\n",
              "      <td>48.0</td>\n",
              "      <td>1.66</td>\n",
              "      <td>3.63</td>\n",
              "      <td>66.7</td>\n",
              "      <td>64.2</td>\n",
              "      <td>82.0</td>\n",
              "    </tr>\n",
              "    <tr>\n",
              "      <th>613</th>\n",
              "      <td>614</td>\n",
              "      <td>3=Cirrhosis</td>\n",
              "      <td>46</td>\n",
              "      <td>f</td>\n",
              "      <td>33.0</td>\n",
              "      <td>NaN</td>\n",
              "      <td>39.0</td>\n",
              "      <td>62.0</td>\n",
              "      <td>20.0</td>\n",
              "      <td>3.56</td>\n",
              "      <td>4.20</td>\n",
              "      <td>52.0</td>\n",
              "      <td>50.0</td>\n",
              "      <td>71.0</td>\n",
              "    </tr>\n",
              "    <tr>\n",
              "      <th>614</th>\n",
              "      <td>615</td>\n",
              "      <td>3=Cirrhosis</td>\n",
              "      <td>59</td>\n",
              "      <td>f</td>\n",
              "      <td>36.0</td>\n",
              "      <td>NaN</td>\n",
              "      <td>100.0</td>\n",
              "      <td>80.0</td>\n",
              "      <td>12.0</td>\n",
              "      <td>9.07</td>\n",
              "      <td>5.30</td>\n",
              "      <td>67.0</td>\n",
              "      <td>34.0</td>\n",
              "      <td>68.0</td>\n",
              "    </tr>\n",
              "  </tbody>\n",
              "</table>\n",
              "<p>615 rows × 14 columns</p>\n",
              "</div>"
            ],
            "text/plain": [
              "     Unnamed: 0       Category  Age Sex   ALB  ...    CHE  CHOL   CREA    GGT  PROT\n",
              "0             1  0=Blood Donor   32   m  38.5  ...   6.93  3.23  106.0   12.1  69.0\n",
              "1             2  0=Blood Donor   32   m  38.5  ...  11.17  4.80   74.0   15.6  76.5\n",
              "2             3  0=Blood Donor   32   m  46.9  ...   8.84  5.20   86.0   33.2  79.3\n",
              "3             4  0=Blood Donor   32   m  43.2  ...   7.33  4.74   80.0   33.8  75.7\n",
              "4             5  0=Blood Donor   32   m  39.2  ...   9.15  4.32   76.0   29.9  68.7\n",
              "..          ...            ...  ...  ..   ...  ...    ...   ...    ...    ...   ...\n",
              "610         611    3=Cirrhosis   62   f  32.0  ...   5.57  6.30   55.7  650.9  68.5\n",
              "611         612    3=Cirrhosis   64   f  24.0  ...   1.54  3.02   63.0   35.9  71.3\n",
              "612         613    3=Cirrhosis   64   f  29.0  ...   1.66  3.63   66.7   64.2  82.0\n",
              "613         614    3=Cirrhosis   46   f  33.0  ...   3.56  4.20   52.0   50.0  71.0\n",
              "614         615    3=Cirrhosis   59   f  36.0  ...   9.07  5.30   67.0   34.0  68.0\n",
              "\n",
              "[615 rows x 14 columns]"
            ]
          },
          "metadata": {
            "tags": []
          },
          "execution_count": 4
        }
      ]
    },
    {
      "cell_type": "markdown",
      "metadata": {
        "id": "3b0qv9VDzYmf"
      },
      "source": [
        "## Transform Dataset\n",
        "\n",
        "This dataset has already been inspected in a previous blog post for Naive Bayes Classifier, so we just the exact same transformations. \n",
        "\n"
      ]
    },
    {
      "cell_type": "code",
      "metadata": {
        "id": "a6ysNe0SzSsQ"
      },
      "source": [
        "# change the objects to category type data \n",
        "hcv['Category'] = hcv['Category'].astype('category')  # change the objects to category type data \n",
        "hcv['Sex'] = hcv[\"Sex\"].astype('category')"
      ],
      "execution_count": null,
      "outputs": []
    },
    {
      "cell_type": "code",
      "metadata": {
        "colab": {
          "base_uri": "https://localhost:8080/",
          "height": 406
        },
        "id": "sQJ7ttAlzXHR",
        "outputId": "d63924f8-959d-4ca6-bf0a-827b91ac1ed8"
      },
      "source": [
        "from sklearn.preprocessing import LabelEncoder # use label encoder for male vs female \n",
        "\n",
        "label = LabelEncoder()  #initialize \n",
        "hcv['Gender'] = label.fit_transform(hcv['Sex'])\n",
        "hcv"
      ],
      "execution_count": null,
      "outputs": [
        {
          "output_type": "execute_result",
          "data": {
            "text/html": [
              "<div>\n",
              "<style scoped>\n",
              "    .dataframe tbody tr th:only-of-type {\n",
              "        vertical-align: middle;\n",
              "    }\n",
              "\n",
              "    .dataframe tbody tr th {\n",
              "        vertical-align: top;\n",
              "    }\n",
              "\n",
              "    .dataframe thead th {\n",
              "        text-align: right;\n",
              "    }\n",
              "</style>\n",
              "<table border=\"1\" class=\"dataframe\">\n",
              "  <thead>\n",
              "    <tr style=\"text-align: right;\">\n",
              "      <th></th>\n",
              "      <th>Unnamed: 0</th>\n",
              "      <th>Category</th>\n",
              "      <th>Age</th>\n",
              "      <th>Sex</th>\n",
              "      <th>ALB</th>\n",
              "      <th>ALP</th>\n",
              "      <th>ALT</th>\n",
              "      <th>AST</th>\n",
              "      <th>BIL</th>\n",
              "      <th>CHE</th>\n",
              "      <th>CHOL</th>\n",
              "      <th>CREA</th>\n",
              "      <th>GGT</th>\n",
              "      <th>PROT</th>\n",
              "      <th>Gender</th>\n",
              "      <th>New Category</th>\n",
              "    </tr>\n",
              "  </thead>\n",
              "  <tbody>\n",
              "    <tr>\n",
              "      <th>0</th>\n",
              "      <td>1</td>\n",
              "      <td>0=Blood Donor</td>\n",
              "      <td>32</td>\n",
              "      <td>m</td>\n",
              "      <td>38.5</td>\n",
              "      <td>52.5</td>\n",
              "      <td>7.7</td>\n",
              "      <td>22.1</td>\n",
              "      <td>7.5</td>\n",
              "      <td>6.93</td>\n",
              "      <td>3.23</td>\n",
              "      <td>106.0</td>\n",
              "      <td>12.1</td>\n",
              "      <td>69.0</td>\n",
              "      <td>1</td>\n",
              "      <td>0</td>\n",
              "    </tr>\n",
              "    <tr>\n",
              "      <th>1</th>\n",
              "      <td>2</td>\n",
              "      <td>0=Blood Donor</td>\n",
              "      <td>32</td>\n",
              "      <td>m</td>\n",
              "      <td>38.5</td>\n",
              "      <td>70.3</td>\n",
              "      <td>18.0</td>\n",
              "      <td>24.7</td>\n",
              "      <td>3.9</td>\n",
              "      <td>11.17</td>\n",
              "      <td>4.80</td>\n",
              "      <td>74.0</td>\n",
              "      <td>15.6</td>\n",
              "      <td>76.5</td>\n",
              "      <td>1</td>\n",
              "      <td>0</td>\n",
              "    </tr>\n",
              "    <tr>\n",
              "      <th>2</th>\n",
              "      <td>3</td>\n",
              "      <td>0=Blood Donor</td>\n",
              "      <td>32</td>\n",
              "      <td>m</td>\n",
              "      <td>46.9</td>\n",
              "      <td>74.7</td>\n",
              "      <td>36.2</td>\n",
              "      <td>52.6</td>\n",
              "      <td>6.1</td>\n",
              "      <td>8.84</td>\n",
              "      <td>5.20</td>\n",
              "      <td>86.0</td>\n",
              "      <td>33.2</td>\n",
              "      <td>79.3</td>\n",
              "      <td>1</td>\n",
              "      <td>0</td>\n",
              "    </tr>\n",
              "    <tr>\n",
              "      <th>3</th>\n",
              "      <td>4</td>\n",
              "      <td>0=Blood Donor</td>\n",
              "      <td>32</td>\n",
              "      <td>m</td>\n",
              "      <td>43.2</td>\n",
              "      <td>52.0</td>\n",
              "      <td>30.6</td>\n",
              "      <td>22.6</td>\n",
              "      <td>18.9</td>\n",
              "      <td>7.33</td>\n",
              "      <td>4.74</td>\n",
              "      <td>80.0</td>\n",
              "      <td>33.8</td>\n",
              "      <td>75.7</td>\n",
              "      <td>1</td>\n",
              "      <td>0</td>\n",
              "    </tr>\n",
              "    <tr>\n",
              "      <th>4</th>\n",
              "      <td>5</td>\n",
              "      <td>0=Blood Donor</td>\n",
              "      <td>32</td>\n",
              "      <td>m</td>\n",
              "      <td>39.2</td>\n",
              "      <td>74.1</td>\n",
              "      <td>32.6</td>\n",
              "      <td>24.8</td>\n",
              "      <td>9.6</td>\n",
              "      <td>9.15</td>\n",
              "      <td>4.32</td>\n",
              "      <td>76.0</td>\n",
              "      <td>29.9</td>\n",
              "      <td>68.7</td>\n",
              "      <td>1</td>\n",
              "      <td>0</td>\n",
              "    </tr>\n",
              "    <tr>\n",
              "      <th>...</th>\n",
              "      <td>...</td>\n",
              "      <td>...</td>\n",
              "      <td>...</td>\n",
              "      <td>...</td>\n",
              "      <td>...</td>\n",
              "      <td>...</td>\n",
              "      <td>...</td>\n",
              "      <td>...</td>\n",
              "      <td>...</td>\n",
              "      <td>...</td>\n",
              "      <td>...</td>\n",
              "      <td>...</td>\n",
              "      <td>...</td>\n",
              "      <td>...</td>\n",
              "      <td>...</td>\n",
              "      <td>...</td>\n",
              "    </tr>\n",
              "    <tr>\n",
              "      <th>608</th>\n",
              "      <td>609</td>\n",
              "      <td>3=Cirrhosis</td>\n",
              "      <td>58</td>\n",
              "      <td>f</td>\n",
              "      <td>34.0</td>\n",
              "      <td>46.4</td>\n",
              "      <td>15.0</td>\n",
              "      <td>150.0</td>\n",
              "      <td>8.0</td>\n",
              "      <td>6.26</td>\n",
              "      <td>3.98</td>\n",
              "      <td>56.0</td>\n",
              "      <td>49.7</td>\n",
              "      <td>80.6</td>\n",
              "      <td>0</td>\n",
              "      <td>3</td>\n",
              "    </tr>\n",
              "    <tr>\n",
              "      <th>609</th>\n",
              "      <td>610</td>\n",
              "      <td>3=Cirrhosis</td>\n",
              "      <td>59</td>\n",
              "      <td>f</td>\n",
              "      <td>39.0</td>\n",
              "      <td>51.3</td>\n",
              "      <td>19.6</td>\n",
              "      <td>285.8</td>\n",
              "      <td>40.0</td>\n",
              "      <td>5.77</td>\n",
              "      <td>4.51</td>\n",
              "      <td>136.1</td>\n",
              "      <td>101.1</td>\n",
              "      <td>70.5</td>\n",
              "      <td>0</td>\n",
              "      <td>3</td>\n",
              "    </tr>\n",
              "    <tr>\n",
              "      <th>610</th>\n",
              "      <td>611</td>\n",
              "      <td>3=Cirrhosis</td>\n",
              "      <td>62</td>\n",
              "      <td>f</td>\n",
              "      <td>32.0</td>\n",
              "      <td>416.6</td>\n",
              "      <td>5.9</td>\n",
              "      <td>110.3</td>\n",
              "      <td>50.0</td>\n",
              "      <td>5.57</td>\n",
              "      <td>6.30</td>\n",
              "      <td>55.7</td>\n",
              "      <td>650.9</td>\n",
              "      <td>68.5</td>\n",
              "      <td>0</td>\n",
              "      <td>3</td>\n",
              "    </tr>\n",
              "    <tr>\n",
              "      <th>611</th>\n",
              "      <td>612</td>\n",
              "      <td>3=Cirrhosis</td>\n",
              "      <td>64</td>\n",
              "      <td>f</td>\n",
              "      <td>24.0</td>\n",
              "      <td>102.8</td>\n",
              "      <td>2.9</td>\n",
              "      <td>44.4</td>\n",
              "      <td>20.0</td>\n",
              "      <td>1.54</td>\n",
              "      <td>3.02</td>\n",
              "      <td>63.0</td>\n",
              "      <td>35.9</td>\n",
              "      <td>71.3</td>\n",
              "      <td>0</td>\n",
              "      <td>3</td>\n",
              "    </tr>\n",
              "    <tr>\n",
              "      <th>612</th>\n",
              "      <td>613</td>\n",
              "      <td>3=Cirrhosis</td>\n",
              "      <td>64</td>\n",
              "      <td>f</td>\n",
              "      <td>29.0</td>\n",
              "      <td>87.3</td>\n",
              "      <td>3.5</td>\n",
              "      <td>99.0</td>\n",
              "      <td>48.0</td>\n",
              "      <td>1.66</td>\n",
              "      <td>3.63</td>\n",
              "      <td>66.7</td>\n",
              "      <td>64.2</td>\n",
              "      <td>82.0</td>\n",
              "      <td>0</td>\n",
              "      <td>3</td>\n",
              "    </tr>\n",
              "  </tbody>\n",
              "</table>\n",
              "<p>582 rows × 16 columns</p>\n",
              "</div>"
            ],
            "text/plain": [
              "     Unnamed: 0       Category  Age Sex  ...    GGT  PROT  Gender  New Category\n",
              "0             1  0=Blood Donor   32   m  ...   12.1  69.0       1             0\n",
              "1             2  0=Blood Donor   32   m  ...   15.6  76.5       1             0\n",
              "2             3  0=Blood Donor   32   m  ...   33.2  79.3       1             0\n",
              "3             4  0=Blood Donor   32   m  ...   33.8  75.7       1             0\n",
              "4             5  0=Blood Donor   32   m  ...   29.9  68.7       1             0\n",
              "..          ...            ...  ...  ..  ...    ...   ...     ...           ...\n",
              "608         609    3=Cirrhosis   58   f  ...   49.7  80.6       0             3\n",
              "609         610    3=Cirrhosis   59   f  ...  101.1  70.5       0             3\n",
              "610         611    3=Cirrhosis   62   f  ...  650.9  68.5       0             3\n",
              "611         612    3=Cirrhosis   64   f  ...   35.9  71.3       0             3\n",
              "612         613    3=Cirrhosis   64   f  ...   64.2  82.0       0             3\n",
              "\n",
              "[582 rows x 16 columns]"
            ]
          },
          "metadata": {
            "tags": []
          },
          "execution_count": 70
        }
      ]
    },
    {
      "cell_type": "code",
      "metadata": {
        "id": "grQsHsVvzk_m"
      },
      "source": [
        "drop_index = hcv.loc[hcv['Category'] == '0s=suspect Blood Donor'].index  # Drop rows with Os=suspect blood donor\n",
        "hcv.drop(drop_index, inplace=True)"
      ],
      "execution_count": null,
      "outputs": []
    },
    {
      "cell_type": "code",
      "metadata": {
        "colab": {
          "base_uri": "https://localhost:8080/",
          "height": 406
        },
        "id": "emeYFzILznsU",
        "outputId": "5ed8009c-476a-48fa-d764-b775585b6f30"
      },
      "source": [
        "hcv_dict = {'0=Blood Donor': 0, '1=Hepatitis' : 1, '2=Fibrosis' : 2, '3=Cirrhosis': 3}\n",
        "\n",
        "hcv[\"New Category\"] = hcv['Category'].map(hcv_dict).astype('int32') # create new column for Category to remap values \n",
        "hcv"
      ],
      "execution_count": null,
      "outputs": [
        {
          "output_type": "execute_result",
          "data": {
            "text/html": [
              "<div>\n",
              "<style scoped>\n",
              "    .dataframe tbody tr th:only-of-type {\n",
              "        vertical-align: middle;\n",
              "    }\n",
              "\n",
              "    .dataframe tbody tr th {\n",
              "        vertical-align: top;\n",
              "    }\n",
              "\n",
              "    .dataframe thead th {\n",
              "        text-align: right;\n",
              "    }\n",
              "</style>\n",
              "<table border=\"1\" class=\"dataframe\">\n",
              "  <thead>\n",
              "    <tr style=\"text-align: right;\">\n",
              "      <th></th>\n",
              "      <th>Unnamed: 0</th>\n",
              "      <th>Category</th>\n",
              "      <th>Age</th>\n",
              "      <th>Sex</th>\n",
              "      <th>ALB</th>\n",
              "      <th>ALP</th>\n",
              "      <th>ALT</th>\n",
              "      <th>AST</th>\n",
              "      <th>BIL</th>\n",
              "      <th>CHE</th>\n",
              "      <th>CHOL</th>\n",
              "      <th>CREA</th>\n",
              "      <th>GGT</th>\n",
              "      <th>PROT</th>\n",
              "      <th>Gender</th>\n",
              "      <th>New Category</th>\n",
              "    </tr>\n",
              "  </thead>\n",
              "  <tbody>\n",
              "    <tr>\n",
              "      <th>0</th>\n",
              "      <td>1</td>\n",
              "      <td>0=Blood Donor</td>\n",
              "      <td>32</td>\n",
              "      <td>m</td>\n",
              "      <td>38.5</td>\n",
              "      <td>52.5</td>\n",
              "      <td>7.7</td>\n",
              "      <td>22.1</td>\n",
              "      <td>7.5</td>\n",
              "      <td>6.93</td>\n",
              "      <td>3.23</td>\n",
              "      <td>106.0</td>\n",
              "      <td>12.1</td>\n",
              "      <td>69.0</td>\n",
              "      <td>1</td>\n",
              "      <td>0</td>\n",
              "    </tr>\n",
              "    <tr>\n",
              "      <th>1</th>\n",
              "      <td>2</td>\n",
              "      <td>0=Blood Donor</td>\n",
              "      <td>32</td>\n",
              "      <td>m</td>\n",
              "      <td>38.5</td>\n",
              "      <td>70.3</td>\n",
              "      <td>18.0</td>\n",
              "      <td>24.7</td>\n",
              "      <td>3.9</td>\n",
              "      <td>11.17</td>\n",
              "      <td>4.80</td>\n",
              "      <td>74.0</td>\n",
              "      <td>15.6</td>\n",
              "      <td>76.5</td>\n",
              "      <td>1</td>\n",
              "      <td>0</td>\n",
              "    </tr>\n",
              "    <tr>\n",
              "      <th>2</th>\n",
              "      <td>3</td>\n",
              "      <td>0=Blood Donor</td>\n",
              "      <td>32</td>\n",
              "      <td>m</td>\n",
              "      <td>46.9</td>\n",
              "      <td>74.7</td>\n",
              "      <td>36.2</td>\n",
              "      <td>52.6</td>\n",
              "      <td>6.1</td>\n",
              "      <td>8.84</td>\n",
              "      <td>5.20</td>\n",
              "      <td>86.0</td>\n",
              "      <td>33.2</td>\n",
              "      <td>79.3</td>\n",
              "      <td>1</td>\n",
              "      <td>0</td>\n",
              "    </tr>\n",
              "    <tr>\n",
              "      <th>3</th>\n",
              "      <td>4</td>\n",
              "      <td>0=Blood Donor</td>\n",
              "      <td>32</td>\n",
              "      <td>m</td>\n",
              "      <td>43.2</td>\n",
              "      <td>52.0</td>\n",
              "      <td>30.6</td>\n",
              "      <td>22.6</td>\n",
              "      <td>18.9</td>\n",
              "      <td>7.33</td>\n",
              "      <td>4.74</td>\n",
              "      <td>80.0</td>\n",
              "      <td>33.8</td>\n",
              "      <td>75.7</td>\n",
              "      <td>1</td>\n",
              "      <td>0</td>\n",
              "    </tr>\n",
              "    <tr>\n",
              "      <th>4</th>\n",
              "      <td>5</td>\n",
              "      <td>0=Blood Donor</td>\n",
              "      <td>32</td>\n",
              "      <td>m</td>\n",
              "      <td>39.2</td>\n",
              "      <td>74.1</td>\n",
              "      <td>32.6</td>\n",
              "      <td>24.8</td>\n",
              "      <td>9.6</td>\n",
              "      <td>9.15</td>\n",
              "      <td>4.32</td>\n",
              "      <td>76.0</td>\n",
              "      <td>29.9</td>\n",
              "      <td>68.7</td>\n",
              "      <td>1</td>\n",
              "      <td>0</td>\n",
              "    </tr>\n",
              "    <tr>\n",
              "      <th>...</th>\n",
              "      <td>...</td>\n",
              "      <td>...</td>\n",
              "      <td>...</td>\n",
              "      <td>...</td>\n",
              "      <td>...</td>\n",
              "      <td>...</td>\n",
              "      <td>...</td>\n",
              "      <td>...</td>\n",
              "      <td>...</td>\n",
              "      <td>...</td>\n",
              "      <td>...</td>\n",
              "      <td>...</td>\n",
              "      <td>...</td>\n",
              "      <td>...</td>\n",
              "      <td>...</td>\n",
              "      <td>...</td>\n",
              "    </tr>\n",
              "    <tr>\n",
              "      <th>608</th>\n",
              "      <td>609</td>\n",
              "      <td>3=Cirrhosis</td>\n",
              "      <td>58</td>\n",
              "      <td>f</td>\n",
              "      <td>34.0</td>\n",
              "      <td>46.4</td>\n",
              "      <td>15.0</td>\n",
              "      <td>150.0</td>\n",
              "      <td>8.0</td>\n",
              "      <td>6.26</td>\n",
              "      <td>3.98</td>\n",
              "      <td>56.0</td>\n",
              "      <td>49.7</td>\n",
              "      <td>80.6</td>\n",
              "      <td>0</td>\n",
              "      <td>3</td>\n",
              "    </tr>\n",
              "    <tr>\n",
              "      <th>609</th>\n",
              "      <td>610</td>\n",
              "      <td>3=Cirrhosis</td>\n",
              "      <td>59</td>\n",
              "      <td>f</td>\n",
              "      <td>39.0</td>\n",
              "      <td>51.3</td>\n",
              "      <td>19.6</td>\n",
              "      <td>285.8</td>\n",
              "      <td>40.0</td>\n",
              "      <td>5.77</td>\n",
              "      <td>4.51</td>\n",
              "      <td>136.1</td>\n",
              "      <td>101.1</td>\n",
              "      <td>70.5</td>\n",
              "      <td>0</td>\n",
              "      <td>3</td>\n",
              "    </tr>\n",
              "    <tr>\n",
              "      <th>610</th>\n",
              "      <td>611</td>\n",
              "      <td>3=Cirrhosis</td>\n",
              "      <td>62</td>\n",
              "      <td>f</td>\n",
              "      <td>32.0</td>\n",
              "      <td>416.6</td>\n",
              "      <td>5.9</td>\n",
              "      <td>110.3</td>\n",
              "      <td>50.0</td>\n",
              "      <td>5.57</td>\n",
              "      <td>6.30</td>\n",
              "      <td>55.7</td>\n",
              "      <td>650.9</td>\n",
              "      <td>68.5</td>\n",
              "      <td>0</td>\n",
              "      <td>3</td>\n",
              "    </tr>\n",
              "    <tr>\n",
              "      <th>611</th>\n",
              "      <td>612</td>\n",
              "      <td>3=Cirrhosis</td>\n",
              "      <td>64</td>\n",
              "      <td>f</td>\n",
              "      <td>24.0</td>\n",
              "      <td>102.8</td>\n",
              "      <td>2.9</td>\n",
              "      <td>44.4</td>\n",
              "      <td>20.0</td>\n",
              "      <td>1.54</td>\n",
              "      <td>3.02</td>\n",
              "      <td>63.0</td>\n",
              "      <td>35.9</td>\n",
              "      <td>71.3</td>\n",
              "      <td>0</td>\n",
              "      <td>3</td>\n",
              "    </tr>\n",
              "    <tr>\n",
              "      <th>612</th>\n",
              "      <td>613</td>\n",
              "      <td>3=Cirrhosis</td>\n",
              "      <td>64</td>\n",
              "      <td>f</td>\n",
              "      <td>29.0</td>\n",
              "      <td>87.3</td>\n",
              "      <td>3.5</td>\n",
              "      <td>99.0</td>\n",
              "      <td>48.0</td>\n",
              "      <td>1.66</td>\n",
              "      <td>3.63</td>\n",
              "      <td>66.7</td>\n",
              "      <td>64.2</td>\n",
              "      <td>82.0</td>\n",
              "      <td>0</td>\n",
              "      <td>3</td>\n",
              "    </tr>\n",
              "  </tbody>\n",
              "</table>\n",
              "<p>582 rows × 16 columns</p>\n",
              "</div>"
            ],
            "text/plain": [
              "     Unnamed: 0       Category  Age Sex  ...    GGT  PROT  Gender  New Category\n",
              "0             1  0=Blood Donor   32   m  ...   12.1  69.0       1             0\n",
              "1             2  0=Blood Donor   32   m  ...   15.6  76.5       1             0\n",
              "2             3  0=Blood Donor   32   m  ...   33.2  79.3       1             0\n",
              "3             4  0=Blood Donor   32   m  ...   33.8  75.7       1             0\n",
              "4             5  0=Blood Donor   32   m  ...   29.9  68.7       1             0\n",
              "..          ...            ...  ...  ..  ...    ...   ...     ...           ...\n",
              "608         609    3=Cirrhosis   58   f  ...   49.7  80.6       0             3\n",
              "609         610    3=Cirrhosis   59   f  ...  101.1  70.5       0             3\n",
              "610         611    3=Cirrhosis   62   f  ...  650.9  68.5       0             3\n",
              "611         612    3=Cirrhosis   64   f  ...   35.9  71.3       0             3\n",
              "612         613    3=Cirrhosis   64   f  ...   64.2  82.0       0             3\n",
              "\n",
              "[582 rows x 16 columns]"
            ]
          },
          "metadata": {
            "tags": []
          },
          "execution_count": 72
        }
      ]
    },
    {
      "cell_type": "code",
      "metadata": {
        "id": "jQSt7Eiczrgt"
      },
      "source": [
        "hcv.dropna(how='any', inplace=True) # drop rows with null values \n",
        "\n",
        "## split into features and label/target\n",
        "\n",
        "X = hcv.iloc[:, 2:-1].drop(columns = 'Sex').to_numpy() # features\n",
        "\n",
        "y = hcv.iloc[:, -1].to_numpy() # label/target"
      ],
      "execution_count": null,
      "outputs": []
    },
    {
      "cell_type": "markdown",
      "metadata": {
        "id": "eGWuZ0A-1CGi"
      },
      "source": [
        "## Create model "
      ]
    },
    {
      "cell_type": "code",
      "metadata": {
        "id": "YvqOwBlqzuip"
      },
      "source": [
        "from sklearn.model_selection import train_test_split\n",
        "\n",
        "X_train, X_test, y_train, y_test = train_test_split(X, y, test_size=0.33, random_state=42)"
      ],
      "execution_count": null,
      "outputs": []
    },
    {
      "cell_type": "code",
      "metadata": {
        "id": "uHE-JZQQ-U_-"
      },
      "source": [
        "from sklearn import svm\n",
        "\n",
        "clf = svm.SVC() # Initiate svm.SVC (support vector classifier)\n",
        "\n",
        "clf.fit(X_train, y_train)  # train model\n",
        "\n",
        "y_pred = clf.predict(X_test) # perform prediction "
      ],
      "execution_count": null,
      "outputs": []
    },
    {
      "cell_type": "markdown",
      "metadata": {
        "id": "U8OltNdr0lTM"
      },
      "source": [
        "Time the SVM classifier"
      ]
    },
    {
      "cell_type": "code",
      "metadata": {
        "colab": {
          "base_uri": "https://localhost:8080/"
        },
        "id": "QN9sdeJk0hLD",
        "outputId": "e87041f7-d47a-44d3-cf87-e0c13e0f823b"
      },
      "source": [
        "import time\n",
        "start = time.time()\n",
        "\n",
        "from sklearn import svm\n",
        "\n",
        "clf = svm.SVC() # Initiate svm.SVC (support vector classifier)\n",
        "\n",
        "clf.fit(X_train, y_train)  # train model\n",
        "\n",
        "stop = time.time()\n",
        "\n",
        "print ('training time: ', round(stop - start, 3), 's')"
      ],
      "execution_count": null,
      "outputs": [
        {
          "output_type": "stream",
          "text": [
            "training time:  0.005 s\n"
          ],
          "name": "stdout"
        }
      ]
    },
    {
      "cell_type": "code",
      "metadata": {
        "colab": {
          "base_uri": "https://localhost:8080/"
        },
        "id": "yM1WkGRN02K_",
        "outputId": "0a55467a-e998-40ae-acdc-bb207ef3f1b6"
      },
      "source": [
        "start = time.time()\n",
        "\n",
        "y_pred = clf.predict(X_test) # perform prediction \n",
        "\n",
        "stop = time.time()\n",
        "\n",
        "print ('prediction time: ', round(stop - start, 3), 's')\n"
      ],
      "execution_count": null,
      "outputs": [
        {
          "output_type": "stream",
          "text": [
            "prediction time:  0.002 s\n"
          ],
          "name": "stdout"
        }
      ]
    },
    {
      "cell_type": "markdown",
      "metadata": {
        "id": "Tw1cOIsZ1FQ9"
      },
      "source": [
        "## Get accuracy "
      ]
    },
    {
      "cell_type": "code",
      "metadata": {
        "colab": {
          "base_uri": "https://localhost:8080/"
        },
        "id": "_iH8R7o_1Ema",
        "outputId": "e8a85f79-1acd-4a0f-b335-b42600bd31ce"
      },
      "source": [
        "from sklearn.metrics import accuracy_score\n",
        "\n",
        "accuracy_score(y_test, y_pred)"
      ],
      "execution_count": null,
      "outputs": [
        {
          "output_type": "execute_result",
          "data": {
            "text/plain": [
              "0.9430051813471503"
            ]
          },
          "metadata": {
            "tags": []
          },
          "execution_count": 78
        }
      ]
    },
    {
      "cell_type": "markdown",
      "metadata": {
        "id": "UQ7bgEZU2ZMe"
      },
      "source": [
        "## Try with different Kernels to see if performance improves. \n",
        "\n",
        "There are different Kernels that can be used with svm.SVC: {‘linear’, ‘poly’, ‘rbf’, ‘sigmoid’, ‘precomputed’}.\n",
        "\n",
        "However default=’rbf’.\n",
        "\n",
        "The non-linear kernels are used where the relationship between X and y may not be linear. The decision boundary can be linear or non-linear."
      ]
    },
    {
      "cell_type": "code",
      "metadata": {
        "id": "JEnQ1HRh3tB0"
      },
      "source": [
        "clf_linear = svm.SVC(kernel='linear') # Initiate SVM classifier with linear kernel\n",
        "\n",
        "clf_linear.fit(X_train, y_train)  # train model\n",
        "y_pred_linear= clf_linear.predict(X_test)"
      ],
      "execution_count": null,
      "outputs": []
    },
    {
      "cell_type": "code",
      "metadata": {
        "id": "ZDRBUwNC35vU"
      },
      "source": [
        "clf_rbf = svm.SVC(kernel='rbf') # Initiate SVM classifier with rbf kernel\n",
        "\n",
        "clf_rbf.fit(X_train, y_train)  # train model\n",
        "y_pred_rbf= clf_rbf.predict(X_test)"
      ],
      "execution_count": null,
      "outputs": []
    },
    {
      "cell_type": "code",
      "metadata": {
        "id": "USa3LSX14G8b"
      },
      "source": [
        "clf_poly = svm.SVC(kernel='poly') # Initiate SVM classifier with poly kernel\n",
        "\n",
        "clf_poly.fit(X_train, y_train)  # train model\n",
        "y_pred_poly= clf_poly.predict(X_test)"
      ],
      "execution_count": null,
      "outputs": []
    },
    {
      "cell_type": "code",
      "metadata": {
        "id": "dNOQJaxn2lON"
      },
      "source": [
        "model_eval = pd.DataFrame(columns=['Score'])"
      ],
      "execution_count": null,
      "outputs": []
    },
    {
      "cell_type": "code",
      "metadata": {
        "colab": {
          "base_uri": "https://localhost:8080/",
          "height": 137
        },
        "id": "ayU7Lc1i46OO",
        "outputId": "91d8df8d-0256-4bad-bd9f-50969f806e48"
      },
      "source": [
        "model_eval.loc['Linear','Score'] = accuracy_score(y_pred_linear, y_test)\n",
        "\n",
        "model_eval.loc['RBF','Score'] = accuracy_score(y_pred_rbf, y_test)\n",
        "\n",
        "model_eval.loc['Polynomial','Score'] = accuracy_score(y_pred_poly, y_test)\n",
        "\n",
        "model_eval"
      ],
      "execution_count": null,
      "outputs": [
        {
          "output_type": "execute_result",
          "data": {
            "text/html": [
              "<div>\n",
              "<style scoped>\n",
              "    .dataframe tbody tr th:only-of-type {\n",
              "        vertical-align: middle;\n",
              "    }\n",
              "\n",
              "    .dataframe tbody tr th {\n",
              "        vertical-align: top;\n",
              "    }\n",
              "\n",
              "    .dataframe thead th {\n",
              "        text-align: right;\n",
              "    }\n",
              "</style>\n",
              "<table border=\"1\" class=\"dataframe\">\n",
              "  <thead>\n",
              "    <tr style=\"text-align: right;\">\n",
              "      <th></th>\n",
              "      <th>Score</th>\n",
              "    </tr>\n",
              "  </thead>\n",
              "  <tbody>\n",
              "    <tr>\n",
              "      <th>Linear</th>\n",
              "      <td>0.953368</td>\n",
              "    </tr>\n",
              "    <tr>\n",
              "      <th>RBF</th>\n",
              "      <td>0.943005</td>\n",
              "    </tr>\n",
              "    <tr>\n",
              "      <th>Polynomial</th>\n",
              "      <td>0.932642</td>\n",
              "    </tr>\n",
              "  </tbody>\n",
              "</table>\n",
              "</div>"
            ],
            "text/plain": [
              "               Score\n",
              "Linear      0.953368\n",
              "RBF         0.943005\n",
              "Polynomial  0.932642"
            ]
          },
          "metadata": {
            "tags": []
          },
          "execution_count": 83
        }
      ]
    },
    {
      "cell_type": "markdown",
      "metadata": {
        "id": "p7_kPivJARll"
      },
      "source": [
        "## Other parameters you can pass to your Classifier when initiating it \n",
        "\n",
        "C: float, default=1.0 is a regularization parameter which trades off correct classification of the training set with the maximization of the margin for the decision boundary. With a larger value of C, you get a more accurate prediction but a more complex decision boundary.\n",
        "\n",
        "gamma: {‘scale’, ‘auto’} or float, default=’scale’ is typically only used with the non-linear kernel.  When the gamma value is very low, the model is unable to capture or complexity of the data, it will be more similar to a linear model. However with a higher gamma value, there is greater chance of overfitting.\n",
        "\n",
        "There are many other parameters you can pass, reference the Scikit Learn library (https://scikit-learn.org/stable/modules/generated/sklearn.svm.SVC.html). "
      ]
    },
    {
      "cell_type": "code",
      "metadata": {
        "colab": {
          "base_uri": "https://localhost:8080/"
        },
        "id": "gbtXqqtQ4cIz",
        "outputId": "97d297dd-b57f-4341-f5f1-6b571903f580"
      },
      "source": [
        "clf_rbf2 = svm.SVC(kernel='rbf', C=10) # Initiate SVM classifier with linear kernel\n",
        "\n",
        "clf_rbf2.fit(X_train, y_train)  # train model\n",
        "y_pred_linear= clf_rbf2.predict(X_test)\n",
        "\n",
        "accuracy_score(y_pred_linear, y_test)"
      ],
      "execution_count": null,
      "outputs": [
        {
          "output_type": "execute_result",
          "data": {
            "text/plain": [
              "0.9637305699481865"
            ]
          },
          "metadata": {
            "tags": []
          },
          "execution_count": 87
        }
      ]
    },
    {
      "cell_type": "code",
      "metadata": {
        "colab": {
          "base_uri": "https://localhost:8080/"
        },
        "id": "TvzWnrco6joU",
        "outputId": "5896496e-a78f-4c1e-9d1c-00f307eafd37"
      },
      "source": [
        "clf_rbf2 = svm.SVC(kernel='rbf', C=1) # Initiate SVM classifier with linear kernel\n",
        "\n",
        "clf_rbf2.fit(X_train, y_train)  # train model\n",
        "y_pred_linear= clf_rbf2.predict(X_test)\n",
        "\n",
        "accuracy_score(y_pred_linear, y_test)"
      ],
      "execution_count": null,
      "outputs": [
        {
          "output_type": "execute_result",
          "data": {
            "text/plain": [
              "0.9430051813471503"
            ]
          },
          "metadata": {
            "tags": []
          },
          "execution_count": 91
        }
      ]
    },
    {
      "cell_type": "markdown",
      "metadata": {
        "id": "LvlsHP15pTKl"
      },
      "source": [
        "## Overfitting \n",
        "\n",
        "Overfitting data is something that you want to avoid. It is typically happens by over tweaking the parameters for the Support Vector Machines. "
      ]
    },
    {
      "cell_type": "markdown",
      "metadata": {
        "id": "TYKUq1mGze5s"
      },
      "source": [
        "## Speed Accuracy Tradeoff\n",
        "\n",
        "There are many instances when real time prediction is more important than accuracy. Example could be credit fraud detection. Training a smaller training set will be faster, but will sacrifice some accuracy. "
      ]
    },
    {
      "cell_type": "code",
      "metadata": {
        "colab": {
          "base_uri": "https://localhost:8080/"
        },
        "id": "mlJSqoR0pO0G",
        "outputId": "b1277c95-e8b0-40d5-abc8-a7e7e638d1b3"
      },
      "source": [
        "#X_train = X_train[1:10]\n",
        "#y_train = y_train[1:10]\n",
        "import time\n",
        "start = time.time()\n",
        "from sklearn import svm\n",
        "\n",
        "clf = svm.SVC() # Initiate svm.SVC (support vector classifier)\n",
        "\n",
        "clf.fit(X_train, y_train)  # train model\n",
        "stop = time.time()\n",
        "\n",
        "print ('training time: ', round(stop - start, 3), 's')\n",
        "\n",
        "y_pred = clf.predict(X_test) # perform prediction \n",
        "\n",
        "from sklearn.metrics import accuracy_score\n",
        "\n",
        "accuracy_score(y_test, y_pred)"
      ],
      "execution_count": null,
      "outputs": [
        {
          "output_type": "stream",
          "text": [
            "training time:  0.004 s\n"
          ],
          "name": "stdout"
        },
        {
          "output_type": "execute_result",
          "data": {
            "text/plain": [
              "0.9430051813471503"
            ]
          },
          "metadata": {
            "tags": []
          },
          "execution_count": 85
        }
      ]
    },
    {
      "cell_type": "markdown",
      "metadata": {
        "id": "r4OW1VDJ4cNQ"
      },
      "source": [
        "## References\n",
        "\n",
        "[scikit learn - Support Vector Machines](https://scikit-learn.org/stable/modules/svm.html)\n",
        "\n",
        "Support Vector Regression (SVR) using linear and non-linear kernels (https://scikit-learn.org/stable/auto_examples/svm/plot_svm_regression.html#sphx-glr-auto-examples-svm-plot-svm-regression-py)\n",
        "\n",
        "https://scikit-learn.org/stable/modules/generated/sklearn.svm.SVC.html\n",
        "\n",
        "https://scikit-learn.org/stable/auto_examples/svm/plot_rbf_parameters.html\n",
        "\n",
        "[UCI Machine Learning Repository - HCV dataset](https://archive.ics.uci.edu/ml/datasets/HCV+data). Accessed 15-Nov-2020.\n"
      ]
    }
  ]
}