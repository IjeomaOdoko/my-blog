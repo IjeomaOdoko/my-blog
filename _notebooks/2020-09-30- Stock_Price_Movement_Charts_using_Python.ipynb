{
  "nbformat": 4,
  "nbformat_minor": 0,
  "metadata": {
    "colab": {
      "name": "Stock Price Movement Charts using Python.ipynb",
      "provenance": [],
      "collapsed_sections": [
        "ZV5aI8abWSOl",
        "IOgffNUW10uX",
        "ROVv-kEOzCQ1",
        "KUOD4Vbl00x1",
        "L2eVzLIn1Cll"
      ]
    },
    "kernelspec": {
      "name": "python3",
      "display_name": "Python 3"
    },
    "widgets": {
      "application/vnd.jupyter.widget-state+json": {
        "4bf73220e4b145ac84c642401bfc6940": {
          "model_module": "@jupyter-widgets/controls",
          "model_name": "DropdownModel",
          "state": {
            "_options_labels": [
              "MMM",
              "AOS",
              "AAN",
              "ABB",
              "ABT",
              "ABBV",
              "ABM",
              "ACN",
              "AYI",
              "GOLF",
              "ADCT",
              "ADT",
              "AAP",
              "ADSW",
              "WMS",
              "ACM",
              "AEG",
              "AER",
              "AJRD",
              "AMG",
              "AFL",
              "AGCO",
              "A",
              "AEM",
              "ADC",
              "AL",
              "APD",
              "AGI",
              "ALK",
              "ALB",
              "ACI",
              "AA",
              "ALC",
              "ARE",
              "AQN",
              "BABA",
              "Y"
            ],
            "_view_name": "DropdownView",
            "style": "IPY_MODEL_919ee6cc6ceb46198dea3a5c7e9c5fc5",
            "_dom_classes": [],
            "description": "Select Stock Ticker",
            "_model_name": "DropdownModel",
            "index": 35,
            "_view_module": "@jupyter-widgets/controls",
            "_model_module_version": "1.5.0",
            "_view_count": null,
            "disabled": false,
            "_view_module_version": "1.5.0",
            "description_tooltip": null,
            "_model_module": "@jupyter-widgets/controls",
            "layout": "IPY_MODEL_f207cc106ae048a28196e946c4a727dd"
          }
        },
        "919ee6cc6ceb46198dea3a5c7e9c5fc5": {
          "model_module": "@jupyter-widgets/controls",
          "model_name": "DescriptionStyleModel",
          "state": {
            "_view_name": "StyleView",
            "_model_name": "DescriptionStyleModel",
            "description_width": "initial",
            "_view_module": "@jupyter-widgets/base",
            "_model_module_version": "1.5.0",
            "_view_count": null,
            "_view_module_version": "1.2.0",
            "_model_module": "@jupyter-widgets/controls"
          }
        },
        "f207cc106ae048a28196e946c4a727dd": {
          "model_module": "@jupyter-widgets/base",
          "model_name": "LayoutModel",
          "state": {
            "_view_name": "LayoutView",
            "grid_template_rows": null,
            "right": null,
            "justify_content": null,
            "_view_module": "@jupyter-widgets/base",
            "overflow": null,
            "_model_module_version": "1.2.0",
            "_view_count": null,
            "flex_flow": null,
            "width": "200px",
            "min_width": null,
            "border": null,
            "align_items": null,
            "bottom": null,
            "_model_module": "@jupyter-widgets/base",
            "top": null,
            "grid_column": null,
            "overflow_y": null,
            "overflow_x": null,
            "grid_auto_flow": null,
            "grid_area": null,
            "grid_template_columns": null,
            "flex": null,
            "_model_name": "LayoutModel",
            "justify_items": null,
            "grid_row": null,
            "max_height": null,
            "align_content": null,
            "visibility": null,
            "align_self": null,
            "height": null,
            "min_height": null,
            "padding": null,
            "grid_auto_rows": null,
            "grid_gap": null,
            "max_width": null,
            "order": null,
            "_view_module_version": "1.2.0",
            "grid_template_areas": null,
            "object_position": null,
            "object_fit": null,
            "grid_auto_columns": null,
            "margin": null,
            "display": null,
            "left": null
          }
        },
        "bd0e45a2a6144e5f8533520dfc39f0cc": {
          "model_module": "@jupyter-widgets/controls",
          "model_name": "IntSliderModel",
          "state": {
            "_view_name": "IntSliderView",
            "style": "IPY_MODEL_564e65ff21214d2094b605a6e7fd8996",
            "_dom_classes": [],
            "description": "Calendar days",
            "step": 1,
            "_model_name": "IntSliderModel",
            "orientation": "horizontal",
            "max": 365,
            "_view_module": "@jupyter-widgets/controls",
            "_model_module_version": "1.5.0",
            "value": 53,
            "_view_count": null,
            "disabled": false,
            "_view_module_version": "1.5.0",
            "min": 5,
            "continuous_update": false,
            "readout_format": "d",
            "description_tooltip": null,
            "readout": true,
            "_model_module": "@jupyter-widgets/controls",
            "layout": "IPY_MODEL_dd25b86780084e88893016f8a0391c93"
          }
        },
        "564e65ff21214d2094b605a6e7fd8996": {
          "model_module": "@jupyter-widgets/controls",
          "model_name": "SliderStyleModel",
          "state": {
            "_view_name": "StyleView",
            "handle_color": "blue",
            "_model_name": "SliderStyleModel",
            "description_width": "initial",
            "_view_module": "@jupyter-widgets/base",
            "_model_module_version": "1.5.0",
            "_view_count": null,
            "_view_module_version": "1.2.0",
            "_model_module": "@jupyter-widgets/controls"
          }
        },
        "dd25b86780084e88893016f8a0391c93": {
          "model_module": "@jupyter-widgets/base",
          "model_name": "LayoutModel",
          "state": {
            "_view_name": "LayoutView",
            "grid_template_rows": null,
            "right": null,
            "justify_content": null,
            "_view_module": "@jupyter-widgets/base",
            "overflow": null,
            "_model_module_version": "1.2.0",
            "_view_count": null,
            "flex_flow": null,
            "width": "400px",
            "min_width": null,
            "border": null,
            "align_items": null,
            "bottom": null,
            "_model_module": "@jupyter-widgets/base",
            "top": null,
            "grid_column": null,
            "overflow_y": null,
            "overflow_x": null,
            "grid_auto_flow": null,
            "grid_area": null,
            "grid_template_columns": null,
            "flex": null,
            "_model_name": "LayoutModel",
            "justify_items": null,
            "grid_row": null,
            "max_height": null,
            "align_content": null,
            "visibility": null,
            "align_self": null,
            "height": null,
            "min_height": null,
            "padding": null,
            "grid_auto_rows": null,
            "grid_gap": null,
            "max_width": null,
            "order": null,
            "_view_module_version": "1.2.0",
            "grid_template_areas": null,
            "object_position": null,
            "object_fit": null,
            "grid_auto_columns": null,
            "margin": null,
            "display": null,
            "left": null
          }
        },
        "f9adcebd84944783b8c292f4e7da57d1": {
          "model_module": "@jupyter-widgets/output",
          "model_name": "OutputModel",
          "state": {
            "_view_name": "OutputView",
            "msg_id": "",
            "_dom_classes": [],
            "_model_name": "OutputModel",
            "outputs": [
              {
                "output_type": "stream",
                "metadata": {
                  "tags": []
                },
                "text": "Start Date:  2020-08-09                   Last Date:  2020-10-01\n",
                "stream": "stdout"
              }
            ],
            "_view_module": "@jupyter-widgets/output",
            "_model_module_version": "1.0.0",
            "_view_count": null,
            "_view_module_version": "1.0.0",
            "layout": "IPY_MODEL_f3269e11ee644808b620b06798379c88",
            "_model_module": "@jupyter-widgets/output"
          }
        },
        "f3269e11ee644808b620b06798379c88": {
          "model_module": "@jupyter-widgets/base",
          "model_name": "LayoutModel",
          "state": {
            "_view_name": "LayoutView",
            "grid_template_rows": null,
            "right": null,
            "justify_content": null,
            "_view_module": "@jupyter-widgets/base",
            "overflow": null,
            "_model_module_version": "1.2.0",
            "_view_count": null,
            "flex_flow": null,
            "width": null,
            "min_width": null,
            "border": null,
            "align_items": null,
            "bottom": null,
            "_model_module": "@jupyter-widgets/base",
            "top": null,
            "grid_column": null,
            "overflow_y": null,
            "overflow_x": null,
            "grid_auto_flow": null,
            "grid_area": null,
            "grid_template_columns": null,
            "flex": null,
            "_model_name": "LayoutModel",
            "justify_items": null,
            "grid_row": null,
            "max_height": null,
            "align_content": null,
            "visibility": null,
            "align_self": null,
            "height": null,
            "min_height": null,
            "padding": null,
            "grid_auto_rows": null,
            "grid_gap": null,
            "max_width": null,
            "order": null,
            "_view_module_version": "1.2.0",
            "grid_template_areas": null,
            "object_position": null,
            "object_fit": null,
            "grid_auto_columns": null,
            "margin": null,
            "display": null,
            "left": null
          }
        },
        "966e026afe0a4650a53e6ef03da2cf6b": {
          "model_module": "@jupyter-widgets/controls",
          "model_name": "TextModel",
          "state": {
            "_view_name": "TextView",
            "style": "IPY_MODEL_65249d7ec19a4c8893d049203f711556",
            "_dom_classes": [],
            "description": "Stockticker:",
            "_model_name": "TextModel",
            "placeholder": "​",
            "_view_module": "@jupyter-widgets/controls",
            "_model_module_version": "1.5.0",
            "value": "BABA",
            "_view_count": null,
            "disabled": true,
            "_view_module_version": "1.5.0",
            "continuous_update": true,
            "description_tooltip": null,
            "_model_module": "@jupyter-widgets/controls",
            "layout": "IPY_MODEL_bc93d37035d749cba449be3d5f8b545b"
          }
        },
        "65249d7ec19a4c8893d049203f711556": {
          "model_module": "@jupyter-widgets/controls",
          "model_name": "DescriptionStyleModel",
          "state": {
            "_view_name": "StyleView",
            "_model_name": "DescriptionStyleModel",
            "description_width": "",
            "_view_module": "@jupyter-widgets/base",
            "_model_module_version": "1.5.0",
            "_view_count": null,
            "_view_module_version": "1.2.0",
            "_model_module": "@jupyter-widgets/controls"
          }
        },
        "bc93d37035d749cba449be3d5f8b545b": {
          "model_module": "@jupyter-widgets/base",
          "model_name": "LayoutModel",
          "state": {
            "_view_name": "LayoutView",
            "grid_template_rows": null,
            "right": null,
            "justify_content": null,
            "_view_module": "@jupyter-widgets/base",
            "overflow": null,
            "_model_module_version": "1.2.0",
            "_view_count": null,
            "flex_flow": null,
            "width": null,
            "min_width": null,
            "border": null,
            "align_items": null,
            "bottom": null,
            "_model_module": "@jupyter-widgets/base",
            "top": null,
            "grid_column": null,
            "overflow_y": null,
            "overflow_x": null,
            "grid_auto_flow": null,
            "grid_area": null,
            "grid_template_columns": null,
            "flex": null,
            "_model_name": "LayoutModel",
            "justify_items": null,
            "grid_row": null,
            "max_height": null,
            "align_content": null,
            "visibility": null,
            "align_self": null,
            "height": null,
            "min_height": null,
            "padding": null,
            "grid_auto_rows": null,
            "grid_gap": null,
            "max_width": null,
            "order": null,
            "_view_module_version": "1.2.0",
            "grid_template_areas": null,
            "object_position": null,
            "object_fit": null,
            "grid_auto_columns": null,
            "margin": null,
            "display": null,
            "left": null
          }
        },
        "6751aa151ea143cf81e76e06d462f4ce": {
          "model_module": "@jupyter-widgets/controls",
          "model_name": "VBoxModel",
          "state": {
            "_view_name": "VBoxView",
            "_dom_classes": [
              "widget-interact"
            ],
            "_model_name": "VBoxModel",
            "_view_module": "@jupyter-widgets/controls",
            "_model_module_version": "1.5.0",
            "_view_count": null,
            "_view_module_version": "1.5.0",
            "box_style": "",
            "layout": "IPY_MODEL_50bb9780272a4bf1a7d99211d294feef",
            "_model_module": "@jupyter-widgets/controls",
            "children": [
              "IPY_MODEL_9de13558ea2a4f2bb98e08385e1c7742",
              "IPY_MODEL_82b08dc3c6104ff79f21213befe79a07",
              "IPY_MODEL_19e0fffb712944feb58bab70b5e36413"
            ]
          }
        },
        "50bb9780272a4bf1a7d99211d294feef": {
          "model_module": "@jupyter-widgets/base",
          "model_name": "LayoutModel",
          "state": {
            "_view_name": "LayoutView",
            "grid_template_rows": null,
            "right": null,
            "justify_content": null,
            "_view_module": "@jupyter-widgets/base",
            "overflow": null,
            "_model_module_version": "1.2.0",
            "_view_count": null,
            "flex_flow": null,
            "width": null,
            "min_width": null,
            "border": null,
            "align_items": null,
            "bottom": null,
            "_model_module": "@jupyter-widgets/base",
            "top": null,
            "grid_column": null,
            "overflow_y": null,
            "overflow_x": null,
            "grid_auto_flow": null,
            "grid_area": null,
            "grid_template_columns": null,
            "flex": null,
            "_model_name": "LayoutModel",
            "justify_items": null,
            "grid_row": null,
            "max_height": null,
            "align_content": null,
            "visibility": null,
            "align_self": null,
            "height": null,
            "min_height": null,
            "padding": null,
            "grid_auto_rows": null,
            "grid_gap": null,
            "max_width": null,
            "order": null,
            "_view_module_version": "1.2.0",
            "grid_template_areas": null,
            "object_position": null,
            "object_fit": null,
            "grid_auto_columns": null,
            "margin": null,
            "display": null,
            "left": null
          }
        },
        "9de13558ea2a4f2bb98e08385e1c7742": {
          "model_module": "@jupyter-widgets/controls",
          "model_name": "DropdownModel",
          "state": {
            "_options_labels": [
              "Line Price Chart",
              "Renko Price Chart",
              "PNF Price Chart",
              "Candlestick Price Chart",
              "OHLC Price Chart"
            ],
            "_view_name": "DropdownView",
            "style": "IPY_MODEL_12d8734af7694aac8f892d2fe5dd6b3f",
            "_dom_classes": [],
            "description": "Select Chart Type",
            "_model_name": "DropdownModel",
            "index": 4,
            "_view_module": "@jupyter-widgets/controls",
            "_model_module_version": "1.5.0",
            "_view_count": null,
            "disabled": false,
            "_view_module_version": "1.5.0",
            "description_tooltip": null,
            "_model_module": "@jupyter-widgets/controls",
            "layout": "IPY_MODEL_e4b5789735044adeb7cc34fb45af00b8"
          }
        },
        "82b08dc3c6104ff79f21213befe79a07": {
          "model_module": "@jupyter-widgets/controls",
          "model_name": "DropdownModel",
          "state": {
            "_options_labels": [
              "binance",
              "blueskies",
              "brasil",
              "charles",
              "checkers",
              "classic",
              "default",
              "mike",
              "nightclouds",
              "sas",
              "starsandstripes",
              "yahoo"
            ],
            "_view_name": "DropdownView",
            "style": "IPY_MODEL_614bcc89cddf4ee59e0ddff70928ea25",
            "_dom_classes": [],
            "description": "Select Style",
            "_model_name": "DropdownModel",
            "index": 11,
            "_view_module": "@jupyter-widgets/controls",
            "_model_module_version": "1.5.0",
            "_view_count": null,
            "disabled": false,
            "_view_module_version": "1.5.0",
            "description_tooltip": null,
            "_model_module": "@jupyter-widgets/controls",
            "layout": "IPY_MODEL_37d1cb3332494d72897b2ccec46db144"
          }
        },
        "19e0fffb712944feb58bab70b5e36413": {
          "model_module": "@jupyter-widgets/output",
          "model_name": "OutputModel",
          "state": {
            "_view_name": "OutputView",
            "msg_id": "",
            "_dom_classes": [],
            "_model_name": "OutputModel",
            "outputs": [
              {
                "output_type": "display_data",
                "metadata": {
                  "tags": []
                },
                "image/png": "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\n",
                "text/plain": "<Figure size 1617.19x862.5 with 4 Axes>"
              }
            ],
            "_view_module": "@jupyter-widgets/output",
            "_model_module_version": "1.0.0",
            "_view_count": null,
            "_view_module_version": "1.0.0",
            "layout": "IPY_MODEL_045156d2c62e4a1b83167c6e70235044",
            "_model_module": "@jupyter-widgets/output"
          }
        },
        "12d8734af7694aac8f892d2fe5dd6b3f": {
          "model_module": "@jupyter-widgets/controls",
          "model_name": "DescriptionStyleModel",
          "state": {
            "_view_name": "StyleView",
            "_model_name": "DescriptionStyleModel",
            "description_width": "initial",
            "_view_module": "@jupyter-widgets/base",
            "_model_module_version": "1.5.0",
            "_view_count": null,
            "_view_module_version": "1.2.0",
            "_model_module": "@jupyter-widgets/controls"
          }
        },
        "e4b5789735044adeb7cc34fb45af00b8": {
          "model_module": "@jupyter-widgets/base",
          "model_name": "LayoutModel",
          "state": {
            "_view_name": "LayoutView",
            "grid_template_rows": null,
            "right": null,
            "justify_content": null,
            "_view_module": "@jupyter-widgets/base",
            "overflow": null,
            "_model_module_version": "1.2.0",
            "_view_count": null,
            "flex_flow": null,
            "width": "300px",
            "min_width": null,
            "border": null,
            "align_items": null,
            "bottom": null,
            "_model_module": "@jupyter-widgets/base",
            "top": null,
            "grid_column": null,
            "overflow_y": null,
            "overflow_x": null,
            "grid_auto_flow": null,
            "grid_area": null,
            "grid_template_columns": null,
            "flex": null,
            "_model_name": "LayoutModel",
            "justify_items": null,
            "grid_row": null,
            "max_height": null,
            "align_content": null,
            "visibility": null,
            "align_self": null,
            "height": null,
            "min_height": null,
            "padding": null,
            "grid_auto_rows": null,
            "grid_gap": null,
            "max_width": null,
            "order": null,
            "_view_module_version": "1.2.0",
            "grid_template_areas": null,
            "object_position": null,
            "object_fit": null,
            "grid_auto_columns": null,
            "margin": null,
            "display": null,
            "left": null
          }
        },
        "614bcc89cddf4ee59e0ddff70928ea25": {
          "model_module": "@jupyter-widgets/controls",
          "model_name": "DescriptionStyleModel",
          "state": {
            "_view_name": "StyleView",
            "_model_name": "DescriptionStyleModel",
            "description_width": "initial",
            "_view_module": "@jupyter-widgets/base",
            "_model_module_version": "1.5.0",
            "_view_count": null,
            "_view_module_version": "1.2.0",
            "_model_module": "@jupyter-widgets/controls"
          }
        },
        "37d1cb3332494d72897b2ccec46db144": {
          "model_module": "@jupyter-widgets/base",
          "model_name": "LayoutModel",
          "state": {
            "_view_name": "LayoutView",
            "grid_template_rows": null,
            "right": null,
            "justify_content": null,
            "_view_module": "@jupyter-widgets/base",
            "overflow": null,
            "_model_module_version": "1.2.0",
            "_view_count": null,
            "flex_flow": null,
            "width": "300px",
            "min_width": null,
            "border": null,
            "align_items": null,
            "bottom": null,
            "_model_module": "@jupyter-widgets/base",
            "top": null,
            "grid_column": null,
            "overflow_y": null,
            "overflow_x": null,
            "grid_auto_flow": null,
            "grid_area": null,
            "grid_template_columns": null,
            "flex": null,
            "_model_name": "LayoutModel",
            "justify_items": null,
            "grid_row": null,
            "max_height": null,
            "align_content": null,
            "visibility": null,
            "align_self": null,
            "height": null,
            "min_height": null,
            "padding": null,
            "grid_auto_rows": null,
            "grid_gap": null,
            "max_width": null,
            "order": null,
            "_view_module_version": "1.2.0",
            "grid_template_areas": null,
            "object_position": null,
            "object_fit": null,
            "grid_auto_columns": null,
            "margin": null,
            "display": null,
            "left": null
          }
        },
        "045156d2c62e4a1b83167c6e70235044": {
          "model_module": "@jupyter-widgets/base",
          "model_name": "LayoutModel",
          "state": {
            "_view_name": "LayoutView",
            "grid_template_rows": null,
            "right": null,
            "justify_content": null,
            "_view_module": "@jupyter-widgets/base",
            "overflow": null,
            "_model_module_version": "1.2.0",
            "_view_count": null,
            "flex_flow": null,
            "width": null,
            "min_width": null,
            "border": null,
            "align_items": null,
            "bottom": null,
            "_model_module": "@jupyter-widgets/base",
            "top": null,
            "grid_column": null,
            "overflow_y": null,
            "overflow_x": null,
            "grid_auto_flow": null,
            "grid_area": null,
            "grid_template_columns": null,
            "flex": null,
            "_model_name": "LayoutModel",
            "justify_items": null,
            "grid_row": null,
            "max_height": null,
            "align_content": null,
            "visibility": null,
            "align_self": null,
            "height": null,
            "min_height": null,
            "padding": null,
            "grid_auto_rows": null,
            "grid_gap": null,
            "max_width": null,
            "order": null,
            "_view_module_version": "1.2.0",
            "grid_template_areas": null,
            "object_position": null,
            "object_fit": null,
            "grid_auto_columns": null,
            "margin": null,
            "display": null,
            "left": null
          }
        }
      }
    }
  },
  "cells": [
    {
      "cell_type": "markdown",
      "metadata": {
        "id": "Y4ZwVr3JkG5Z"
      },
      "source": [
        "# Stock Price Movement Charts using Python"
      ]
    },
    {
      "cell_type": "markdown",
      "metadata": {
        "id": "bk6ZS9Vkkbp5"
      },
      "source": [
        "This purpose of this project was to create stock price movement charts with widgets for interactivity using the available python libraries.\n"
      ]
    },
    {
      "cell_type": "markdown",
      "metadata": {
        "id": "ZIiDm5C1l1AU"
      },
      "source": [
        "# Price Movement Charts"
      ]
    },
    {
      "cell_type": "markdown",
      "metadata": {
        "id": "8MXevkFZlpP9"
      },
      "source": [
        "Price movement charts help with timing the market for buying or selling opportunities by determining up and down trends in price movement. These charts can typically be used with any financial time series like stocks, bonds, options, futures or commodities."
      ]
    },
    {
      "cell_type": "markdown",
      "metadata": {
        "id": "PtBmgUcEkktp"
      },
      "source": [
        "##  Renko \n",
        "\n",
        "Is a type of price movement chart that has no time dimension. The key parameter it requires is the box size which signifies each brick (price movement size). The box size can be set to a specific value, or it be set to be equal to the ATR (average true range) which is derived from the closing price of the stock. With these charts its able to quickly tell the direction of trend changes."
      ]
    },
    {
      "cell_type": "markdown",
      "metadata": {
        "id": "BEC-aHipmDrn"
      },
      "source": [
        "## PNF\n",
        "\n",
        "PNF otherwise known as Point and Figure Chart is very similar to the renko chart, in that it also does not have a time dimension. An X represents when the price has moved higher, and an O represents when the price has dropped. The PNF also has a box size that can be set as a specific value, or be equal to the ATR (average true range)."
      ]
    },
    {
      "cell_type": "markdown",
      "metadata": {
        "id": "-aKz7P2kmH-z"
      },
      "source": [
        "## OHLC \n",
        "This is a type of price movement chart that captures the open, high, low and closing prices for each given trading day.\n",
        "\n",
        "The vertical line represents the range in prices from high to low for the day. The horizontal lines extending out from the vertical line, represents open price for the left, and close price for the right.\n",
        "![OHLC price Indicator .png](data:image/png;base64,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)"
      ]
    },
    {
      "cell_type": "markdown",
      "metadata": {
        "id": "ztM3Pj-TmPho"
      },
      "source": [
        "## Candlestick\n",
        "\n",
        "Also known as Japanese candlesticks are a type of price movement chart that takes into consideration both price, time and volume. It helps to determine the sentiment of the market - Bullish or Bearish. Bullish - would indicate a buy, while Bearish - would indicate short or sell for a stock trader.\n",
        "\n",
        "Candlestick patterns can help determine price direction and momentum. One key thing to note when using candlesticks to understand price movement, it is important to first identify the market trend, before finding candlestick patterns in the data. Candlestick patterns are also best suited for identifying short term price movements."
      ]
    },
    {
      "cell_type": "markdown",
      "metadata": {
        "id": "Nb_B64RTmQpY"
      },
      "source": [
        "### Long and short days\n",
        "\n",
        "Long days refers to large price movement within the trading day, and short days refers to low price movement within the trading day. This comparison however is best suited for short-term price movement of about 5-10days.\n",
        "![Candlestick indicator .png](data:image/png;base64,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)"
      ]
    },
    {
      "cell_type": "markdown",
      "metadata": {
        "id": "ZV5aI8abWSOl"
      },
      "source": [
        "# Load required libraries\n",
        "\n",
        "*  *Pandas_datareader* to import historical data on stocks from yahoo.\n",
        "*   *Pandas* for working with large data sets. \n",
        "*   *Datetime* for handling date datatypes.\n",
        "*   *Matplotlib* for data visualization.\n",
        "*   *ipwidgets* for interactive widgets\n",
        "*   *Numpy* for handling numeric arrays.\n",
        "*   *mplfinance* for creating price movement charts\n",
        "\n",
        "\n",
        "\n",
        "\n",
        "\n",
        "\n"
      ]
    },
    {
      "cell_type": "code",
      "metadata": {
        "id": "QPPxH3an1hml",
        "outputId": "470af919-0b1e-41d3-9df2-30ee1552b3dc",
        "colab": {
          "base_uri": "https://localhost:8080/",
          "height": 194
        }
      },
      "source": [
        "!pip install mplfinance"
      ],
      "execution_count": 1,
      "outputs": [
        {
          "output_type": "stream",
          "text": [
            "Requirement already satisfied: mplfinance in /usr/local/lib/python3.6/dist-packages (0.12.7a0)\n",
            "Requirement already satisfied: pandas in /usr/local/lib/python3.6/dist-packages (from mplfinance) (1.1.2)\n",
            "Requirement already satisfied: matplotlib in /usr/local/lib/python3.6/dist-packages (from mplfinance) (3.2.2)\n",
            "Requirement already satisfied: numpy>=1.15.4 in /usr/local/lib/python3.6/dist-packages (from pandas->mplfinance) (1.18.5)\n",
            "Requirement already satisfied: python-dateutil>=2.7.3 in /usr/local/lib/python3.6/dist-packages (from pandas->mplfinance) (2.8.1)\n",
            "Requirement already satisfied: pytz>=2017.2 in /usr/local/lib/python3.6/dist-packages (from pandas->mplfinance) (2018.9)\n",
            "Requirement already satisfied: pyparsing!=2.0.4,!=2.1.2,!=2.1.6,>=2.0.1 in /usr/local/lib/python3.6/dist-packages (from matplotlib->mplfinance) (2.4.7)\n",
            "Requirement already satisfied: cycler>=0.10 in /usr/local/lib/python3.6/dist-packages (from matplotlib->mplfinance) (0.10.0)\n",
            "Requirement already satisfied: kiwisolver>=1.0.1 in /usr/local/lib/python3.6/dist-packages (from matplotlib->mplfinance) (1.2.0)\n",
            "Requirement already satisfied: six>=1.5 in /usr/local/lib/python3.6/dist-packages (from python-dateutil>=2.7.3->pandas->mplfinance) (1.15.0)\n"
          ],
          "name": "stdout"
        }
      ]
    },
    {
      "cell_type": "code",
      "metadata": {
        "id": "pXAFEq8UVqwB",
        "outputId": "4e1f2d03-fa0c-4848-eb7d-9d126f866dca",
        "colab": {
          "base_uri": "https://localhost:8080/",
          "height": 35
        }
      },
      "source": [
        "from pandas_datareader import data\n",
        "import numpy as np\n",
        "from datetime import datetime \n",
        "from datetime import date, timedelta\n",
        "import pandas as pd\n",
        "import matplotlib.pyplot as plt\n",
        "%matplotlib inline\n",
        "\n",
        "# import ipwidgets library and functions\n",
        "from __future__ import print_function\n",
        "from ipywidgets import interact, interactive, fixed\n",
        "import ipywidgets as widgets\n",
        "from IPython.display import display\n",
        "\n",
        "import mplfinance as mpf\n",
        "mpf.__version__\n",
        "\n"
      ],
      "execution_count": 2,
      "outputs": [
        {
          "output_type": "execute_result",
          "data": {
            "application/vnd.google.colaboratory.intrinsic+json": {
              "type": "string"
            },
            "text/plain": [
              "'0.12.7a0'"
            ]
          },
          "metadata": {
            "tags": []
          },
          "execution_count": 2
        }
      ]
    },
    {
      "cell_type": "markdown",
      "metadata": {
        "id": "IOgffNUW10uX"
      },
      "source": [
        "# Create widgets and dataframe for the stock data\n",
        "\n",
        "\n",
        "*Instructions for use. *\n",
        "1.   Insert tuple of stock list.  \n",
        "2.   Select stock from dropdown. \n",
        "3.   Select number of calendar days for dates from the last trading day. \n",
        "4.   Rerun all code after.\n",
        "\n"
      ]
    },
    {
      "cell_type": "markdown",
      "metadata": {
        "id": "O77c7v_PYssa"
      },
      "source": [
        "## Create widget for stock list and number of calendar days\n"
      ]
    },
    {
      "cell_type": "code",
      "metadata": {
        "id": "ebWd6RNuX8Lu",
        "outputId": "0405a22d-7865-42b3-a0b0-e180eda2f387",
        "colab": {
          "base_uri": "https://localhost:8080/",
          "height": 96,
          "referenced_widgets": [
            "4bf73220e4b145ac84c642401bfc6940",
            "919ee6cc6ceb46198dea3a5c7e9c5fc5",
            "f207cc106ae048a28196e946c4a727dd",
            "bd0e45a2a6144e5f8533520dfc39f0cc",
            "564e65ff21214d2094b605a6e7fd8996",
            "dd25b86780084e88893016f8a0391c93",
            "f9adcebd84944783b8c292f4e7da57d1",
            "f3269e11ee644808b620b06798379c88"
          ]
        }
      },
      "source": [
        "# Insert a tuple of unique tickers into the options variables.\n",
        "options = ('MMM', 'AOS', 'AAN', 'ABB', 'ABT', 'ABBV', 'ABM', 'ACN', 'AYI', 'GOLF', 'ADCT', 'ADT', 'AAP', 'ADSW', 'WMS', 'ACM', 'AEG', 'AER', 'AJRD', 'AMG', 'AFL', 'AGCO', 'A', 'AEM', 'ADC', 'AL', 'APD', 'AGI', 'ALK', 'ALB', 'ACI', 'AA', 'ALC', 'ARE', 'AQN', 'BABA', 'Y')\n",
        "\n",
        "# create dropdown for selected stocks\n",
        "stock_ticker = widgets.Dropdown(\n",
        "    options= options,\n",
        "    description='Select Stock Ticker',\n",
        "    disabled=False,\n",
        "    style = {'description_width': 'initial'}, \n",
        "    layout = {'width': '200px'}\n",
        ")\n",
        "\n",
        "# create selection slider for days\n",
        "w = widgets.IntSlider(\n",
        "    value=90,\n",
        "    min=5,\n",
        "    max=365,\n",
        "    step=1,\n",
        "    description = 'Calendar days',\n",
        "    disabled=False,\n",
        "    continuous_update=False,\n",
        "    orientation='horizontal',\n",
        "    readout=True,\n",
        "    readout_format='d',\n",
        "    style = {'description_width': 'initial','handle_color' : 'blue'}, \n",
        "    layout = {'width': '400px'}\n",
        ")\n",
        "\n",
        "# create function for time frame of selected calendar days from today\n",
        "def timeframe(w):\n",
        "    days = timedelta(w)\n",
        "    start = date.today() - days\n",
        "    today = date.today()\n",
        "    print('Start Date: ',start, '                 ' ,'Last Date: ',today)\n",
        "       \n",
        "dates = widgets.interactive_output(timeframe, {'w': w} )\n",
        "\n",
        "display(stock_ticker, w, dates)"
      ],
      "execution_count": 3,
      "outputs": [
        {
          "output_type": "display_data",
          "data": {
            "application/vnd.jupyter.widget-view+json": {
              "model_id": "4bf73220e4b145ac84c642401bfc6940",
              "version_minor": 0,
              "version_major": 2
            },
            "text/plain": [
              "Dropdown(description='Select Stock Ticker', layout=Layout(width='200px'), options=('MMM', 'AOS', 'AAN', 'ABB',…"
            ]
          },
          "metadata": {
            "tags": []
          }
        },
        {
          "output_type": "display_data",
          "data": {
            "application/vnd.jupyter.widget-view+json": {
              "model_id": "bd0e45a2a6144e5f8533520dfc39f0cc",
              "version_minor": 0,
              "version_major": 2
            },
            "text/plain": [
              "IntSlider(value=90, continuous_update=False, description='Calendar days', layout=Layout(width='400px'), max=36…"
            ]
          },
          "metadata": {
            "tags": []
          }
        },
        {
          "output_type": "display_data",
          "data": {
            "application/vnd.jupyter.widget-view+json": {
              "model_id": "f9adcebd84944783b8c292f4e7da57d1",
              "version_minor": 0,
              "version_major": 2
            },
            "text/plain": [
              "Output()"
            ]
          },
          "metadata": {
            "tags": []
          }
        }
      ]
    },
    {
      "cell_type": "markdown",
      "metadata": {
        "id": "ROVv-kEOzCQ1"
      },
      "source": [
        "## Download data for the stock "
      ]
    },
    {
      "cell_type": "code",
      "metadata": {
        "id": "1tsYN61uzK_5",
        "outputId": "0ef7512c-cf6c-420f-80cc-163941d0bd9c",
        "colab": {
          "base_uri": "https://localhost:8080/",
          "height": 1000,
          "referenced_widgets": [
            "966e026afe0a4650a53e6ef03da2cf6b",
            "65249d7ec19a4c8893d049203f711556",
            "bc93d37035d749cba449be3d5f8b545b"
          ]
        }
      },
      "source": [
        "# create text to show stock ticker \n",
        "\n",
        "v = widgets.Text(\n",
        "    value=stock_ticker.value,\n",
        "    description='Stockticker:',\n",
        "    disabled=True\n",
        ")\n",
        "\n",
        "# create function to load stock data from yahoo \n",
        "def load_stock_data(stock_ticker, w):\n",
        "    start = date.today() - timedelta(w)\n",
        "    today = date.today()\n",
        "    stock_data = data.DataReader(stock_ticker, start=start, end=today,\n",
        "                       data_source='yahoo')\n",
        "    return stock_data\n",
        "\n",
        "# create dataframe for selected stock\n",
        "stock = load_stock_data(stock_ticker.value, w.value)\n",
        "\n",
        "# display ticker and dataframe\n",
        "\n",
        "display(v, stock)"
      ],
      "execution_count": 7,
      "outputs": [
        {
          "output_type": "display_data",
          "data": {
            "application/vnd.jupyter.widget-view+json": {
              "model_id": "966e026afe0a4650a53e6ef03da2cf6b",
              "version_minor": 0,
              "version_major": 2
            },
            "text/plain": [
              "Text(value='BABA', description='Stockticker:', disabled=True)"
            ]
          },
          "metadata": {
            "tags": []
          }
        },
        {
          "output_type": "display_data",
          "data": {
            "text/html": [
              "<div>\n",
              "<style scoped>\n",
              "    .dataframe tbody tr th:only-of-type {\n",
              "        vertical-align: middle;\n",
              "    }\n",
              "\n",
              "    .dataframe tbody tr th {\n",
              "        vertical-align: top;\n",
              "    }\n",
              "\n",
              "    .dataframe thead th {\n",
              "        text-align: right;\n",
              "    }\n",
              "</style>\n",
              "<table border=\"1\" class=\"dataframe\">\n",
              "  <thead>\n",
              "    <tr style=\"text-align: right;\">\n",
              "      <th></th>\n",
              "      <th>High</th>\n",
              "      <th>Low</th>\n",
              "      <th>Open</th>\n",
              "      <th>Close</th>\n",
              "      <th>Volume</th>\n",
              "      <th>Adj Close</th>\n",
              "    </tr>\n",
              "    <tr>\n",
              "      <th>Date</th>\n",
              "      <th></th>\n",
              "      <th></th>\n",
              "      <th></th>\n",
              "      <th></th>\n",
              "      <th></th>\n",
              "      <th></th>\n",
              "    </tr>\n",
              "  </thead>\n",
              "  <tbody>\n",
              "    <tr>\n",
              "      <th>2020-08-10</th>\n",
              "      <td>251.750000</td>\n",
              "      <td>246.100006</td>\n",
              "      <td>249.339996</td>\n",
              "      <td>248.130005</td>\n",
              "      <td>13621700</td>\n",
              "      <td>248.130005</td>\n",
              "    </tr>\n",
              "    <tr>\n",
              "      <th>2020-08-11</th>\n",
              "      <td>252.880005</td>\n",
              "      <td>247.830002</td>\n",
              "      <td>251.289993</td>\n",
              "      <td>248.419998</td>\n",
              "      <td>10681800</td>\n",
              "      <td>248.419998</td>\n",
              "    </tr>\n",
              "    <tr>\n",
              "      <th>2020-08-12</th>\n",
              "      <td>256.079987</td>\n",
              "      <td>248.679993</td>\n",
              "      <td>249.250000</td>\n",
              "      <td>255.190002</td>\n",
              "      <td>11120400</td>\n",
              "      <td>255.190002</td>\n",
              "    </tr>\n",
              "    <tr>\n",
              "      <th>2020-08-13</th>\n",
              "      <td>256.970001</td>\n",
              "      <td>252.880005</td>\n",
              "      <td>256.390015</td>\n",
              "      <td>253.720001</td>\n",
              "      <td>8794500</td>\n",
              "      <td>253.720001</td>\n",
              "    </tr>\n",
              "    <tr>\n",
              "      <th>2020-08-14</th>\n",
              "      <td>255.770004</td>\n",
              "      <td>251.639999</td>\n",
              "      <td>255.490005</td>\n",
              "      <td>253.970001</td>\n",
              "      <td>7876400</td>\n",
              "      <td>253.970001</td>\n",
              "    </tr>\n",
              "    <tr>\n",
              "      <th>2020-08-17</th>\n",
              "      <td>257.375000</td>\n",
              "      <td>250.085007</td>\n",
              "      <td>253.000000</td>\n",
              "      <td>256.959991</td>\n",
              "      <td>9760000</td>\n",
              "      <td>256.959991</td>\n",
              "    </tr>\n",
              "    <tr>\n",
              "      <th>2020-08-18</th>\n",
              "      <td>261.420013</td>\n",
              "      <td>256.059998</td>\n",
              "      <td>258.709991</td>\n",
              "      <td>259.200012</td>\n",
              "      <td>13267800</td>\n",
              "      <td>259.200012</td>\n",
              "    </tr>\n",
              "    <tr>\n",
              "      <th>2020-08-19</th>\n",
              "      <td>261.290009</td>\n",
              "      <td>257.380005</td>\n",
              "      <td>260.890015</td>\n",
              "      <td>260.589996</td>\n",
              "      <td>14096500</td>\n",
              "      <td>260.589996</td>\n",
              "    </tr>\n",
              "    <tr>\n",
              "      <th>2020-08-20</th>\n",
              "      <td>258.880005</td>\n",
              "      <td>254.179993</td>\n",
              "      <td>256.890015</td>\n",
              "      <td>257.970001</td>\n",
              "      <td>21460800</td>\n",
              "      <td>257.970001</td>\n",
              "    </tr>\n",
              "    <tr>\n",
              "      <th>2020-08-21</th>\n",
              "      <td>267.429993</td>\n",
              "      <td>258.309998</td>\n",
              "      <td>259.029999</td>\n",
              "      <td>265.799988</td>\n",
              "      <td>25648200</td>\n",
              "      <td>265.799988</td>\n",
              "    </tr>\n",
              "    <tr>\n",
              "      <th>2020-08-24</th>\n",
              "      <td>276.970001</td>\n",
              "      <td>271.619995</td>\n",
              "      <td>273.239990</td>\n",
              "      <td>276.019989</td>\n",
              "      <td>22475800</td>\n",
              "      <td>276.019989</td>\n",
              "    </tr>\n",
              "    <tr>\n",
              "      <th>2020-08-25</th>\n",
              "      <td>289.119995</td>\n",
              "      <td>276.040009</td>\n",
              "      <td>278.059998</td>\n",
              "      <td>286.000000</td>\n",
              "      <td>27535500</td>\n",
              "      <td>286.000000</td>\n",
              "    </tr>\n",
              "    <tr>\n",
              "      <th>2020-08-26</th>\n",
              "      <td>292.480011</td>\n",
              "      <td>284.100006</td>\n",
              "      <td>289.260010</td>\n",
              "      <td>291.959991</td>\n",
              "      <td>19530300</td>\n",
              "      <td>291.959991</td>\n",
              "    </tr>\n",
              "    <tr>\n",
              "      <th>2020-08-27</th>\n",
              "      <td>290.250000</td>\n",
              "      <td>282.100006</td>\n",
              "      <td>290.170013</td>\n",
              "      <td>284.170013</td>\n",
              "      <td>14805800</td>\n",
              "      <td>284.170013</td>\n",
              "    </tr>\n",
              "    <tr>\n",
              "      <th>2020-08-28</th>\n",
              "      <td>289.500000</td>\n",
              "      <td>283.570007</td>\n",
              "      <td>285.089996</td>\n",
              "      <td>289.000000</td>\n",
              "      <td>9689600</td>\n",
              "      <td>289.000000</td>\n",
              "    </tr>\n",
              "    <tr>\n",
              "      <th>2020-08-31</th>\n",
              "      <td>289.190002</td>\n",
              "      <td>283.609985</td>\n",
              "      <td>288.619995</td>\n",
              "      <td>287.029999</td>\n",
              "      <td>13253800</td>\n",
              "      <td>287.029999</td>\n",
              "    </tr>\n",
              "    <tr>\n",
              "      <th>2020-09-01</th>\n",
              "      <td>298.000000</td>\n",
              "      <td>288.869995</td>\n",
              "      <td>289.200012</td>\n",
              "      <td>298.000000</td>\n",
              "      <td>13815900</td>\n",
              "      <td>298.000000</td>\n",
              "    </tr>\n",
              "    <tr>\n",
              "      <th>2020-09-02</th>\n",
              "      <td>299.000000</td>\n",
              "      <td>289.790009</td>\n",
              "      <td>299.000000</td>\n",
              "      <td>296.070007</td>\n",
              "      <td>12638600</td>\n",
              "      <td>296.070007</td>\n",
              "    </tr>\n",
              "    <tr>\n",
              "      <th>2020-09-03</th>\n",
              "      <td>290.733002</td>\n",
              "      <td>278.160004</td>\n",
              "      <td>289.000000</td>\n",
              "      <td>282.500000</td>\n",
              "      <td>16766200</td>\n",
              "      <td>282.500000</td>\n",
              "    </tr>\n",
              "    <tr>\n",
              "      <th>2020-09-04</th>\n",
              "      <td>283.779999</td>\n",
              "      <td>267.390015</td>\n",
              "      <td>279.600006</td>\n",
              "      <td>281.390015</td>\n",
              "      <td>15885800</td>\n",
              "      <td>281.390015</td>\n",
              "    </tr>\n",
              "    <tr>\n",
              "      <th>2020-09-08</th>\n",
              "      <td>273.970001</td>\n",
              "      <td>266.589996</td>\n",
              "      <td>270.230011</td>\n",
              "      <td>270.019989</td>\n",
              "      <td>12734000</td>\n",
              "      <td>270.019989</td>\n",
              "    </tr>\n",
              "    <tr>\n",
              "      <th>2020-09-09</th>\n",
              "      <td>275.640015</td>\n",
              "      <td>270.880005</td>\n",
              "      <td>274.450012</td>\n",
              "      <td>273.149994</td>\n",
              "      <td>9465700</td>\n",
              "      <td>273.149994</td>\n",
              "    </tr>\n",
              "    <tr>\n",
              "      <th>2020-09-10</th>\n",
              "      <td>277.100006</td>\n",
              "      <td>267.399994</td>\n",
              "      <td>274.899994</td>\n",
              "      <td>267.549988</td>\n",
              "      <td>10676800</td>\n",
              "      <td>267.549988</td>\n",
              "    </tr>\n",
              "    <tr>\n",
              "      <th>2020-09-11</th>\n",
              "      <td>274.529999</td>\n",
              "      <td>268.119995</td>\n",
              "      <td>272.630005</td>\n",
              "      <td>271.609985</td>\n",
              "      <td>9412800</td>\n",
              "      <td>271.609985</td>\n",
              "    </tr>\n",
              "    <tr>\n",
              "      <th>2020-09-14</th>\n",
              "      <td>276.290009</td>\n",
              "      <td>271.760010</td>\n",
              "      <td>275.359985</td>\n",
              "      <td>274.100006</td>\n",
              "      <td>7883300</td>\n",
              "      <td>274.100006</td>\n",
              "    </tr>\n",
              "    <tr>\n",
              "      <th>2020-09-15</th>\n",
              "      <td>279.100006</td>\n",
              "      <td>274.799988</td>\n",
              "      <td>278.000000</td>\n",
              "      <td>277.959991</td>\n",
              "      <td>8291400</td>\n",
              "      <td>277.959991</td>\n",
              "    </tr>\n",
              "    <tr>\n",
              "      <th>2020-09-16</th>\n",
              "      <td>283.605011</td>\n",
              "      <td>278.000000</td>\n",
              "      <td>281.029999</td>\n",
              "      <td>278.140015</td>\n",
              "      <td>9583500</td>\n",
              "      <td>278.140015</td>\n",
              "    </tr>\n",
              "    <tr>\n",
              "      <th>2020-09-17</th>\n",
              "      <td>275.899994</td>\n",
              "      <td>272.321014</td>\n",
              "      <td>273.109985</td>\n",
              "      <td>275.720001</td>\n",
              "      <td>8016900</td>\n",
              "      <td>275.720001</td>\n",
              "    </tr>\n",
              "    <tr>\n",
              "      <th>2020-09-18</th>\n",
              "      <td>277.269989</td>\n",
              "      <td>270.549988</td>\n",
              "      <td>275.980011</td>\n",
              "      <td>272.410004</td>\n",
              "      <td>11753500</td>\n",
              "      <td>272.410004</td>\n",
              "    </tr>\n",
              "    <tr>\n",
              "      <th>2020-09-21</th>\n",
              "      <td>274.220001</td>\n",
              "      <td>266.399994</td>\n",
              "      <td>269.100006</td>\n",
              "      <td>273.820007</td>\n",
              "      <td>9076400</td>\n",
              "      <td>273.820007</td>\n",
              "    </tr>\n",
              "    <tr>\n",
              "      <th>2020-09-22</th>\n",
              "      <td>276.320007</td>\n",
              "      <td>270.049988</td>\n",
              "      <td>276.019989</td>\n",
              "      <td>275.290009</td>\n",
              "      <td>9673300</td>\n",
              "      <td>275.290009</td>\n",
              "    </tr>\n",
              "    <tr>\n",
              "      <th>2020-09-23</th>\n",
              "      <td>277.829987</td>\n",
              "      <td>271.500000</td>\n",
              "      <td>275.399994</td>\n",
              "      <td>272.950012</td>\n",
              "      <td>7353200</td>\n",
              "      <td>272.950012</td>\n",
              "    </tr>\n",
              "    <tr>\n",
              "      <th>2020-09-24</th>\n",
              "      <td>271.250000</td>\n",
              "      <td>267.334015</td>\n",
              "      <td>267.929993</td>\n",
              "      <td>269.730011</td>\n",
              "      <td>9562100</td>\n",
              "      <td>269.730011</td>\n",
              "    </tr>\n",
              "    <tr>\n",
              "      <th>2020-09-25</th>\n",
              "      <td>271.809998</td>\n",
              "      <td>264.559998</td>\n",
              "      <td>267.570007</td>\n",
              "      <td>271.089996</td>\n",
              "      <td>11466600</td>\n",
              "      <td>271.089996</td>\n",
              "    </tr>\n",
              "    <tr>\n",
              "      <th>2020-09-28</th>\n",
              "      <td>278.839996</td>\n",
              "      <td>274.199005</td>\n",
              "      <td>275.529999</td>\n",
              "      <td>276.010010</td>\n",
              "      <td>8761700</td>\n",
              "      <td>276.010010</td>\n",
              "    </tr>\n",
              "    <tr>\n",
              "      <th>2020-09-29</th>\n",
              "      <td>279.299988</td>\n",
              "      <td>274.899994</td>\n",
              "      <td>275.429993</td>\n",
              "      <td>276.929993</td>\n",
              "      <td>7673300</td>\n",
              "      <td>276.929993</td>\n",
              "    </tr>\n",
              "    <tr>\n",
              "      <th>2020-09-30</th>\n",
              "      <td>295.000000</td>\n",
              "      <td>283.709991</td>\n",
              "      <td>284.010010</td>\n",
              "      <td>293.980011</td>\n",
              "      <td>24709900</td>\n",
              "      <td>293.980011</td>\n",
              "    </tr>\n",
              "  </tbody>\n",
              "</table>\n",
              "</div>"
            ],
            "text/plain": [
              "                  High         Low  ...    Volume   Adj Close\n",
              "Date                                ...                      \n",
              "2020-08-10  251.750000  246.100006  ...  13621700  248.130005\n",
              "2020-08-11  252.880005  247.830002  ...  10681800  248.419998\n",
              "2020-08-12  256.079987  248.679993  ...  11120400  255.190002\n",
              "2020-08-13  256.970001  252.880005  ...   8794500  253.720001\n",
              "2020-08-14  255.770004  251.639999  ...   7876400  253.970001\n",
              "2020-08-17  257.375000  250.085007  ...   9760000  256.959991\n",
              "2020-08-18  261.420013  256.059998  ...  13267800  259.200012\n",
              "2020-08-19  261.290009  257.380005  ...  14096500  260.589996\n",
              "2020-08-20  258.880005  254.179993  ...  21460800  257.970001\n",
              "2020-08-21  267.429993  258.309998  ...  25648200  265.799988\n",
              "2020-08-24  276.970001  271.619995  ...  22475800  276.019989\n",
              "2020-08-25  289.119995  276.040009  ...  27535500  286.000000\n",
              "2020-08-26  292.480011  284.100006  ...  19530300  291.959991\n",
              "2020-08-27  290.250000  282.100006  ...  14805800  284.170013\n",
              "2020-08-28  289.500000  283.570007  ...   9689600  289.000000\n",
              "2020-08-31  289.190002  283.609985  ...  13253800  287.029999\n",
              "2020-09-01  298.000000  288.869995  ...  13815900  298.000000\n",
              "2020-09-02  299.000000  289.790009  ...  12638600  296.070007\n",
              "2020-09-03  290.733002  278.160004  ...  16766200  282.500000\n",
              "2020-09-04  283.779999  267.390015  ...  15885800  281.390015\n",
              "2020-09-08  273.970001  266.589996  ...  12734000  270.019989\n",
              "2020-09-09  275.640015  270.880005  ...   9465700  273.149994\n",
              "2020-09-10  277.100006  267.399994  ...  10676800  267.549988\n",
              "2020-09-11  274.529999  268.119995  ...   9412800  271.609985\n",
              "2020-09-14  276.290009  271.760010  ...   7883300  274.100006\n",
              "2020-09-15  279.100006  274.799988  ...   8291400  277.959991\n",
              "2020-09-16  283.605011  278.000000  ...   9583500  278.140015\n",
              "2020-09-17  275.899994  272.321014  ...   8016900  275.720001\n",
              "2020-09-18  277.269989  270.549988  ...  11753500  272.410004\n",
              "2020-09-21  274.220001  266.399994  ...   9076400  273.820007\n",
              "2020-09-22  276.320007  270.049988  ...   9673300  275.290009\n",
              "2020-09-23  277.829987  271.500000  ...   7353200  272.950012\n",
              "2020-09-24  271.250000  267.334015  ...   9562100  269.730011\n",
              "2020-09-25  271.809998  264.559998  ...  11466600  271.089996\n",
              "2020-09-28  278.839996  274.199005  ...   8761700  276.010010\n",
              "2020-09-29  279.299988  274.899994  ...   7673300  276.929993\n",
              "2020-09-30  295.000000  283.709991  ...  24709900  293.980011\n",
              "\n",
              "[37 rows x 6 columns]"
            ]
          },
          "metadata": {
            "tags": []
          }
        }
      ]
    },
    {
      "cell_type": "markdown",
      "metadata": {
        "id": "KUOD4Vbl00x1"
      },
      "source": [
        "# Visualize percentage daily changes for the selected stock over time"
      ]
    },
    {
      "cell_type": "code",
      "metadata": {
        "id": "3L82rPZD0-Bu",
        "outputId": "5bf5ea5e-a27a-464c-a82b-753ac2362a0d",
        "colab": {
          "base_uri": "https://localhost:8080/",
          "height": 548
        }
      },
      "source": [
        "# show returns using Adj Close for the selected stock\n",
        "stock_data_return = stock['Adj Close'].pct_change().mul(100)\n",
        "stock_data_return.plot(figsize=[12,6], grid=True, title = stock_ticker.value)\n",
        "plt.ylabel(\"Adjusted Close Returns\")\n",
        "\n",
        "plt.show()"
      ],
      "execution_count": 8,
      "outputs": [
        {
          "output_type": "display_data",
          "data": {
            "image/png": "[encoded data removed]",
            "text/plain": [
              "<Figure size 1200x600 with 1 Axes>"
            ]
          },
          "metadata": {
            "tags": []
          }
        }
      ]
    },
    {
      "cell_type": "markdown",
      "metadata": {
        "id": "L2eVzLIn1Cll"
      },
      "source": [
        "# Visualise the stock price data using different price movement indicators\n",
        "\n",
        "*Instruction for use.*\n",
        "1. Select Chart Type and style. "
      ]
    },
    {
      "cell_type": "markdown",
      "metadata": {
        "id": "zlHnVdI11MyW"
      },
      "source": [
        "All the charts assume 10, 20 or 50 days for moving average"
      ]
    },
    {
      "cell_type": "code",
      "metadata": {
        "id": "fcl4udJA1NGd",
        "outputId": "f2de073c-c379-4bdd-f085-c2e60b1a1572",
        "colab": {
          "base_uri": "https://localhost:8080/",
          "height": 864,
          "referenced_widgets": [
            "6751aa151ea143cf81e76e06d462f4ce",
            "50bb9780272a4bf1a7d99211d294feef",
            "9de13558ea2a4f2bb98e08385e1c7742",
            "82b08dc3c6104ff79f21213befe79a07",
            "19e0fffb712944feb58bab70b5e36413",
            "12d8734af7694aac8f892d2fe5dd6b3f",
            "e4b5789735044adeb7cc34fb45af00b8",
            "614bcc89cddf4ee59e0ddff70928ea25",
            "37d1cb3332494d72897b2ccec46db144",
            "045156d2c62e4a1b83167c6e70235044"
          ]
        }
      },
      "source": [
        "# create dropdown for selected chart-type\n",
        "\n",
        "chart_types = [('Line Price Chart', 'line'),\n",
        "               ('Renko Price Chart', 'renko'), \n",
        "               ('PNF Price Chart','pnf'),\n",
        "               ('Candlestick Price Chart', 'candle'),\n",
        "               ('OHLC Price Chart', 'ohlc')]\n",
        "\n",
        "chart = widgets.Dropdown(\n",
        "    options= chart_types,\n",
        "    description='Select Chart Type',\n",
        "    disabled=False,\n",
        "    style = {'description_width': 'initial'}, \n",
        "    layout = {'width': '300px'}\n",
        ")\n",
        "\n",
        "# create drop down using mplfinance library built-in styles\n",
        "\n",
        "style_options = ['binance',\n",
        " 'blueskies',\n",
        " 'brasil',\n",
        " 'charles',\n",
        " 'checkers',\n",
        " 'classic',\n",
        " 'default',\n",
        " 'mike',\n",
        " 'nightclouds',\n",
        " 'sas',\n",
        " 'starsandstripes',\n",
        " 'yahoo']\n",
        "\n",
        "style_option = widgets.Dropdown(\n",
        "    options= style_options,\n",
        "    description='Select Style',\n",
        "    disabled=False,\n",
        "    style = {'description_width': 'initial'}, \n",
        "    layout = {'width': '300px'}\n",
        ")\n",
        "\n",
        "# create plot function using mplfinance library \n",
        "# fixed values for moving average (mav), figratio, and figscale, volume=True\n",
        "# default settings for renko and pnf charts (bricksize = 'atr', box_size='atr')\n",
        "\n",
        "\n",
        "def create_plot(chart, style_option):\n",
        "    return mpf.plot(stock, type=chart, volume=True, mav = (10,20,50), figratio=(15, 8) , figscale=1.5, style=style_option, title = '\\n'f'{stock_ticker.value}')\n",
        "widgets.interactive(create_plot, chart=chart, style_option=style_option) "
      ],
      "execution_count": 9,
      "outputs": [
        {
          "output_type": "display_data",
          "data": {
            "application/vnd.jupyter.widget-view+json": {
              "model_id": "6751aa151ea143cf81e76e06d462f4ce",
              "version_minor": 0,
              "version_major": 2
            },
            "text/plain": [
              "interactive(children=(Dropdown(description='Select Chart Type', layout=Layout(width='300px'), options=(('Line …"
            ]
          },
          "metadata": {
            "tags": []
          }
        }
      ]
    },
    {
      "cell_type": "markdown",
      "metadata": {
        "id": "W1EG_GxSV0nq"
      },
      "source": [
        "# References\n",
        "\n",
        "1.   [mplfinance](https://github.com/matplotlib/mplfinance)\n",
        "\n",
        "2.   [Jupyter Widgets](https://ipywidgets.readthedocs.io/en/latest/)\n",
        "\n",
        "3.   [Datareader basic example (Yahoo Finance)](https://riptutorial.com/pandas/example/6232/datareader-basic-example--yahoo-finance-)\n",
        "\n",
        "4.   Morris, Gregory L., 1948-, Candlestick charting explained timeless \n",
        "techniques for trading stocks and futures [electronic resource], New York : McGraw-Hill, c2006, 3rd ed.\n",
        "\n",
        "5.   [Price Movement Charts](https://github.com/matplotlib/mplfinance/blob/master/examples/price-movement_plots.ipynb)\n",
        "\n",
        "6.   [Renko Charts](https://www.investopedia.com/terms/r/renkochart.asp)\n",
        "\n",
        "7.   [PNF Charts](https://www.investopedia.com/terms/p/pointandfigurechart.asp)\n",
        "\n",
        "\n",
        "\n",
        "\n",
        "\n",
        "\n",
        "\n",
        "\n",
        "\n"
      ]
    }
  ]
}