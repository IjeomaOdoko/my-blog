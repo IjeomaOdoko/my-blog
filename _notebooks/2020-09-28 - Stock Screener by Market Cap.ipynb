{
 "cells": [
  {
   "cell_type": "markdown",
   "metadata": {},
   "source": [
    "# Import Libraries"
   ]
  },
  {
   "cell_type": "markdown",
   "metadata": {},
   "source": [
    "# Generate list of stock tickers\n",
    "\n",
    "The [get_all tickers](https://https://github.com/shilewenuw/get_all_tickers) python library allows us to get all tickers from NYSE, NASDAQ and Amex, and also filter by market cap. \n",
    "\n",
    "The ipwidgets python library enables us to create interactive widgets. \n"
   ]
  },
  {
   "cell_type": "code",
   "execution_count": 2,
   "metadata": {},
   "outputs": [],
   "source": [
    "# import ipwidgets library and functions\n",
    "\n",
    "from __future__ import print_function\n",
    "from ipywidgets import interact, interactive, fixed\n",
    "import ipywidgets as widgets\n",
    "from IPython.display import display\n",
    "\n",
    "# import get_all_tickers library to get list of tickers\n",
    "from get_all_tickers import get_tickers as gt\n"
   ]
  },
  {
   "cell_type": "code",
   "execution_count": 3,
   "metadata": {},
   "outputs": [
    {
     "data": {
      "application/vnd.jupyter.widget-view+json": {
       "model_id": "cb1fae5ae6f94439a0cf3da050ee1b9b",
       "version_major": 2,
       "version_minor": 0
      },
      "text/plain": [
       "interactive(children=(IntRangeSlider(value=(2000, 20000), continuous_update=False, description='Market Cap in …"
      ]
     },
     "metadata": {},
     "output_type": "display_data"
    },
    {
     "data": {
      "application/vnd.jupyter.widget-view+json": {
       "model_id": "2c3d6e154b154494aa9e55294903d8f2",
       "version_major": 2,
       "version_minor": 0
      },
      "text/plain": [
       "IntSlider(value=10, continuous_update=False, description='Number of Stocks to display', layout=Layout(width='4…"
      ]
     },
     "metadata": {},
     "output_type": "display_data"
    },
    {
     "data": {
      "application/vnd.jupyter.widget-view+json": {
       "model_id": "87b4ee8946ee4f7e85aeeafd4f1be533",
       "version_major": 2,
       "version_minor": 0
      },
      "text/plain": [
       "Output()"
      ]
     },
     "metadata": {},
     "output_type": "display_data"
    }
   ],
   "source": [
    "# create selection slider for market cap range between 200 million and 2 billion dollars\n",
    "market_cap = widgets.IntRangeSlider(\n",
    "    value=[2000, 20000],\n",
    "    min=200,\n",
    "    max=2000000,\n",
    "    step=100,\n",
    "    description = 'Market Cap in millions of dollars ',\n",
    "    disabled=False,\n",
    "    continuous_update=False,\n",
    "    orientation='horizontal',\n",
    "    readout=True,\n",
    "    readout_format='d',\n",
    "    style = {'description_width': 'initial','handle_color' : 'blue'}, \n",
    "    layout = {'width': '600px'}\n",
    ")\n",
    "\n",
    "# create selection slider for stock_number\n",
    "stock_number = widgets.IntSlider(\n",
    "    value=10,\n",
    "    min=1,\n",
    "    max=50,\n",
    "    step=1,\n",
    "    description = 'Number of Stocks to display',\n",
    "    disabled=False,\n",
    "    continuous_update=False,\n",
    "    orientation='horizontal',\n",
    "    readout=True,\n",
    "    readout_format='d',\n",
    "    style = {'description_width': 'initial','handle_color' : 'blue'}, \n",
    "    layout = {'width': '400px'}\n",
    ")\n",
    "\n",
    "# create function to return number of stocks in stock list generated.\n",
    "def number_of_stocks(market_cap):\n",
    "    \"\"\"\n",
    "    this function is linked to the market_cap sliders and generates the number of stocks selected\n",
    "    \"\"\"\n",
    "    # assign the tuple values to two variables for min and max \n",
    "    min_cap, max_cap = market_cap\n",
    "    stocks = gt.get_tickers_filtered(min_cap, max_cap)\n",
    "    # Check the amount of tickers\n",
    "    print(\"The number of stocks generated: \" + str(len(stocks)))  \n",
    "\n",
    "# create function to return stock list with market cap and number of stocks to display defined.\n",
    "def stocks_list(market_cap, stock_number):\n",
    "    \"\"\"\n",
    "    this function is linked to the sliders and generates a list of stocks based on the market cap and stock number selected. \n",
    "    \"\"\"\n",
    "    # assign the tuple values to two variables for min and max \n",
    "    min_cap, max_cap = market_cap\n",
    "    stock_list = gt.get_tickers_filtered(min_cap, max_cap)[:stock_number]\n",
    "    print(tuple(stock_list))\n",
    "   \n",
    "    \n",
    "# make widgets interactive to create stocklist and limit number of stocks returned using the widgets created  \n",
    "n = widgets.interactive(number_of_stocks, market_cap = market_cap)\n",
    "\n",
    "# make widgets interactive to create stocklist and limit number of stocks returned using the widgets created \n",
    "m = widgets.interactive(stocks_list, market_cap=market_cap, stock_number=stock_number).children[1]\n",
    "out = widgets.interactive_output(stocks_list, {'market_cap': market_cap, 'stock_number':stock_number})\n",
    "\n",
    "display(n, m, out)\n",
    "\n",
    "\n",
    "## Note to find list of possible attributes  use keys for example for layout and style respectively for market_cap slider, use marketcap.layout.keys or marketcap.style.keys "
   ]
  },
  {
   "cell_type": "code",
   "execution_count": null,
   "metadata": {},
   "outputs": [],
   "source": []
  }
 ],
 "metadata": {
  "kernelspec": {
   "display_name": "Python 3",
   "language": "python",
   "name": "python3"
  },
  "language_info": {
   "codemirror_mode": {
    "name": "ipython",
    "version": 3
   },
   "file_extension": ".py",
   "mimetype": "text/x-python",
   "name": "python",
   "nbconvert_exporter": "python",
   "pygments_lexer": "ipython3",
   "version": "3.7.6"
  }
 },
 "nbformat": 4,
 "nbformat_minor": 4
}
