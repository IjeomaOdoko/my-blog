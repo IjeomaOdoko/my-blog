{
  "nbformat": 4,
  "nbformat_minor": 0,
  "metadata": {
    "colab": {
      "name": "Scrape and Summarize News Articles about Stocks.ipynb",
      "provenance": [],
      "collapsed_sections": []
    },
    "kernelspec": {
      "name": "python3",
      "display_name": "Python 3"
    }
  },
  "cells": [
    {
      "cell_type": "markdown",
      "metadata": {
        "id": "YL9rYP3jpYtJ"
      },
      "source": [
        "# Scrape and Summarize News Articles using Python"
      ]
    },
    {
      "cell_type": "markdown",
      "metadata": {
        "id": "LyxMSNEh0rBa"
      },
      "source": [
        "toc:true- branch: master- badges: true- comments: true\n",
        "\n",
        "author: Ijeoma Odoko\n",
        "\n",
        "categories: [python, nlp, scrape_website, jupyter]\n"
      ]
    },
    {
      "cell_type": "markdown",
      "metadata": {
        "id": "plveqN5w0_dR"
      },
      "source": [
        "## About "
      ]
    },
    {
      "cell_type": "markdown",
      "metadata": {
        "id": "_EaDsqw4-me4"
      },
      "source": [
        "This project will scrape and summarize news articles using nltk and newspaper3K python libraries. \n",
        "\n",
        "We will try to download a summary of all the articles based on the news headlines for a particular ticker symbol in this case 'NDX' (the NASDAQ-100 index) from the [Nasdaq website.](https://www.nasdaq.com/)\n",
        "\n",
        "To go to the url for a specific ticker simply replace the **ticker value** with your ticker of choice. \n",
        "\n",
        "http://www.nasdaq.com/symbol/**ndx**/news-headlines\n"
      ]
    },
    {
      "cell_type": "markdown",
      "metadata": {
        "id": "dgkzKMtk-7jM"
      },
      "source": [
        "## Install Required Libraries"
      ]
    },
    {
      "cell_type": "code",
      "metadata": {
        "id": "a-zJkUpz9ikQ",
        "outputId": "e5006cc7-21e0-4557-e4af-3cde5a162f28",
        "colab": {
          "base_uri": "https://localhost:8080/",
          "height": 941
        }
      },
      "source": [
        "# install required libraries \n",
        "\n",
        "!pip install nltk\n",
        "!pip install newspaper3k"
      ],
      "execution_count": 1,
      "outputs": [
        {
          "output_type": "stream",
          "text": [
            "Requirement already satisfied: nltk in /usr/local/lib/python3.6/dist-packages (3.2.5)\n",
            "Requirement already satisfied: six in /usr/local/lib/python3.6/dist-packages (from nltk) (1.15.0)\n",
            "Collecting newspaper3k\n",
            "\u001b[?25l  Downloading https://files.pythonhosted.org/packages/d7/b9/51afecb35bb61b188a4b44868001de348a0e8134b4dfa00ffc191567c4b9/newspaper3k-0.2.8-py3-none-any.whl (211kB)\n",
            "\u001b[K     |████████████████████████████████| 215kB 6.2MB/s \n",
            "\u001b[?25hCollecting tldextract>=2.0.1\n",
            "\u001b[?25l  Downloading https://files.pythonhosted.org/packages/12/cf/d0ff82625e53bd245d6173ce6333d190abbfcd94e4c30e54b4e16b474216/tldextract-2.2.3-py2.py3-none-any.whl (48kB)\n",
            "\u001b[K     |████████████████████████████████| 51kB 4.6MB/s \n",
            "\u001b[?25hRequirement already satisfied: lxml>=3.6.0 in /usr/local/lib/python3.6/dist-packages (from newspaper3k) (4.2.6)\n",
            "Requirement already satisfied: PyYAML>=3.11 in /usr/local/lib/python3.6/dist-packages (from newspaper3k) (3.13)\n",
            "Requirement already satisfied: nltk>=3.2.1 in /usr/local/lib/python3.6/dist-packages (from newspaper3k) (3.2.5)\n",
            "Requirement already satisfied: Pillow>=3.3.0 in /usr/local/lib/python3.6/dist-packages (from newspaper3k) (7.0.0)\n",
            "Collecting feedfinder2>=0.0.4\n",
            "  Downloading https://files.pythonhosted.org/packages/35/82/1251fefec3bb4b03fd966c7e7f7a41c9fc2bb00d823a34c13f847fd61406/feedfinder2-0.0.4.tar.gz\n",
            "Collecting tinysegmenter==0.3\n",
            "  Downloading https://files.pythonhosted.org/packages/17/82/86982e4b6d16e4febc79c2a1d68ee3b707e8a020c5d2bc4af8052d0f136a/tinysegmenter-0.3.tar.gz\n",
            "Requirement already satisfied: requests>=2.10.0 in /usr/local/lib/python3.6/dist-packages (from newspaper3k) (2.23.0)\n",
            "Requirement already satisfied: python-dateutil>=2.5.3 in /usr/local/lib/python3.6/dist-packages (from newspaper3k) (2.8.1)\n",
            "Requirement already satisfied: beautifulsoup4>=4.4.1 in /usr/local/lib/python3.6/dist-packages (from newspaper3k) (4.6.3)\n",
            "Collecting cssselect>=0.9.2\n",
            "  Downloading https://files.pythonhosted.org/packages/3b/d4/3b5c17f00cce85b9a1e6f91096e1cc8e8ede2e1be8e96b87ce1ed09e92c5/cssselect-1.1.0-py2.py3-none-any.whl\n",
            "Collecting jieba3k>=0.35.1\n",
            "\u001b[?25l  Downloading https://files.pythonhosted.org/packages/a9/cb/2c8332bcdc14d33b0bedd18ae0a4981a069c3513e445120da3c3f23a8aaa/jieba3k-0.35.1.zip (7.4MB)\n",
            "\u001b[K     |████████████████████████████████| 7.4MB 7.8MB/s \n",
            "\u001b[?25hCollecting feedparser>=5.2.1\n",
            "\u001b[?25l  Downloading https://files.pythonhosted.org/packages/2c/84/df6de99cba01afc82344c9cb3a79df100a00ac33396120f8aa66c72f0d84/feedparser-6.0.1-py2.py3-none-any.whl (80kB)\n",
            "\u001b[K     |████████████████████████████████| 81kB 11.0MB/s \n",
            "\u001b[?25hRequirement already satisfied: idna in /usr/local/lib/python3.6/dist-packages (from tldextract>=2.0.1->newspaper3k) (2.10)\n",
            "Collecting requests-file>=1.4\n",
            "  Downloading https://files.pythonhosted.org/packages/77/86/cdb5e8eaed90796aa83a6d9f75cfbd37af553c47a291cd47bc410ef9bdb2/requests_file-1.5.1-py2.py3-none-any.whl\n",
            "Requirement already satisfied: six in /usr/local/lib/python3.6/dist-packages (from nltk>=3.2.1->newspaper3k) (1.15.0)\n",
            "Requirement already satisfied: chardet<4,>=3.0.2 in /usr/local/lib/python3.6/dist-packages (from requests>=2.10.0->newspaper3k) (3.0.4)\n",
            "Requirement already satisfied: certifi>=2017.4.17 in /usr/local/lib/python3.6/dist-packages (from requests>=2.10.0->newspaper3k) (2020.6.20)\n",
            "Requirement already satisfied: urllib3!=1.25.0,!=1.25.1,<1.26,>=1.21.1 in /usr/local/lib/python3.6/dist-packages (from requests>=2.10.0->newspaper3k) (1.24.3)\n",
            "Collecting sgmllib3k\n",
            "  Downloading https://files.pythonhosted.org/packages/9e/bd/3704a8c3e0942d711c1299ebf7b9091930adae6675d7c8f476a7ce48653c/sgmllib3k-1.0.0.tar.gz\n",
            "Building wheels for collected packages: feedfinder2, tinysegmenter, jieba3k, sgmllib3k\n",
            "  Building wheel for feedfinder2 (setup.py) ... \u001b[?25l\u001b[?25hdone\n",
            "  Created wheel for feedfinder2: filename=feedfinder2-0.0.4-cp36-none-any.whl size=3355 sha256=1b71779d74c361b9b768a0dbd198e99d70e962056340288622e62ecb0a6e0794\n",
            "  Stored in directory: /root/.cache/pip/wheels/de/03/ca/778e3a7a627e3d98836cc890e7cb40c7575424cfd3340f40ed\n",
            "  Building wheel for tinysegmenter (setup.py) ... \u001b[?25l\u001b[?25hdone\n",
            "  Created wheel for tinysegmenter: filename=tinysegmenter-0.3-cp36-none-any.whl size=13538 sha256=e1da8e1547aedfdc1f2aa2e5e017041686bbc6589fb883ddde31a567f5526d2d\n",
            "  Stored in directory: /root/.cache/pip/wheels/81/2b/43/a02ede72324dd40cdd7ca53aad718c7710628e91b8b0dc0f02\n",
            "  Building wheel for jieba3k (setup.py) ... \u001b[?25l\u001b[?25hdone\n",
            "  Created wheel for jieba3k: filename=jieba3k-0.35.1-cp36-none-any.whl size=7398406 sha256=6aaac329d190b67ecf575a82598ae47129a458a6ddf1c0af67e83c70bc0f1a91\n",
            "  Stored in directory: /root/.cache/pip/wheels/83/15/9c/a3f1f67e7f7181170ad37d32e503c35da20627c013f438ed34\n",
            "  Building wheel for sgmllib3k (setup.py) ... \u001b[?25l\u001b[?25hdone\n",
            "  Created wheel for sgmllib3k: filename=sgmllib3k-1.0.0-cp36-none-any.whl size=6067 sha256=c97ed1f0b21b5d3486517fe4053af065a1ca26e0fac76e49b6e25ea1e2c93fe1\n",
            "  Stored in directory: /root/.cache/pip/wheels/f1/80/5a/444ba08a550cdd241bd9baf8bae44be750efe370adb944506a\n",
            "Successfully built feedfinder2 tinysegmenter jieba3k sgmllib3k\n",
            "Installing collected packages: requests-file, tldextract, feedfinder2, tinysegmenter, cssselect, jieba3k, sgmllib3k, feedparser, newspaper3k\n",
            "Successfully installed cssselect-1.1.0 feedfinder2-0.0.4 feedparser-6.0.1 jieba3k-0.35.1 newspaper3k-0.2.8 requests-file-1.5.1 sgmllib3k-1.0.0 tinysegmenter-0.3 tldextract-2.2.3\n"
          ],
          "name": "stdout"
        }
      ]
    },
    {
      "cell_type": "code",
      "metadata": {
        "id": "Nz9DlUAr-_eW"
      },
      "source": [
        "import nltk\n",
        "import newspaper\n",
        "import datetime\n",
        "import pandas as pd\n"
      ],
      "execution_count": 2,
      "outputs": []
    },
    {
      "cell_type": "markdown",
      "metadata": {
        "id": "cTU3KnBLKEK7"
      },
      "source": [
        "## Load the newspaper articles"
      ]
    },
    {
      "cell_type": "code",
      "metadata": {
        "id": "b0aynVnxCyOj",
        "outputId": "6d99b077-25c8-4d84-d9ce-82950a35b084",
        "colab": {
          "base_uri": "https://localhost:8080/",
          "height": 1000
        }
      },
      "source": [
        "  ndx_news = newspaper.build('https://www.nasdaq.com/market-activity/index/ndx/news-headlines')\n",
        "\n",
        "  for article in ndx_news.articles:\n",
        "    print(article.url)"
      ],
      "execution_count": 3,
      "outputs": [
        {
          "output_type": "stream",
          "text": [
            "https://www.nasdaq.com/articles/nasdaqs-johan-toll-wins-fintech-person-year-2018-05-16\n",
            "https://www.nasdaq.com/articles/adena-friedman%3A-esg-ai-cryptocurrency-in-focus-at-davos-2019-01-21\n",
            "https://www.nasdaq.com/article/invesco-qqq-celebrates-20-years-of-curating-innovation-cm1112647?utm_source=Nasdaq_LINKEDIN_COMPANY_2185074219&utm_medium=QQQ%20anniversary%20__%20%C2%A0\n",
            "https://www.nasdaq.com/solutions/midpoint-extended-life-order-m-elo\n",
            "https://www.nasdaq.com/articles/weekly-preview%3A-stocks-to-watch-amzn-intc-msft-nflx-tsla-2020-10-18\n",
            "https://www.nasdaq.com/articles/3-high-yield-stocks-at-rock-bottom-prices-2020-10-16\n",
            "https://www.nasdaq.com/articles/making-a-portfolio-election-proof-2020-10-12\n",
            "https://www.nasdaq.com/articles/getting-in-the-game-with-a-high-flying-video-game-etf-2020-10-16\n",
            "https://www.nasdaq.com/articles/canaccord-predicts-over-100-rally-for-these-3-strong-buy-stocks-2020-10-16\n",
            "https://www.nasdaq.com/videos/tradetalks%3A-what-trends-will-dominate-the-next-decade\n",
            "https://www.nasdaq.com/videos/can-stock-picking-ever-be-fun-again\n",
            "https://www.nasdaq.com/videos/tradetalks%3A-the-need-to-invest-in-community-services-to-address-racial-and-social-health\n",
            "https://www.nasdaq.com/videos/tradetalks%3A-how-holiday2020-is-going-to-look-a-little-different\n",
            "https://www.nasdaq.com/videos/tradetalks%3A-trends-in-volatility-volq-and-vlq-futures-and-a-trade-that-potentially-isolates\n",
            "https://www.nasdaq.com/videos/tradetalks%3A-expansion-investor-behavior-and-the-online-brokerage-environment-in-asia\n",
            "https://www.nasdaq.com/videos/tradetalks%3A-whats-driving-the-heightened-volatility-in-the-market\n",
            "https://www.nasdaq.com/videos/tradetalks%3A-opportunities-in-the-market-for-investors-and-traders\n",
            "https://www.nasdaq.com/videos/tradetalks%3A-the-launch-of-the-companys-equality-diversity-and-inclusion-initiative-lila\n",
            "https://www.nasdaq.com/videos/investing-strategies%3A-crowdstrike-ceo-insights-how-to-handle-election-2020-market-volatility\n",
            "https://www.nasdaq.com/videos/investing-strategies%3A-long-term-investing%3A-tips-to-maximize-returns-as-you-set-and-forget\n",
            "https://www.nasdaq.com/videos/investing-strategies%3A-election-2020%3A-how-to-handle-your-portfolio-amid-market-moving\n",
            "https://www.nasdaq.com/videos/investing-strategies%3A-crowdstrike-ceo-on-security-software-leadership-work-from-anywhere\n",
            "https://www.nasdaq.com/videos/investing-strategies%3A-one-on-one-with-cadence-ceo-a-look-at-blank-check-ipos-analysis-of\n",
            "https://www.nasdaq.com/videos/investing-strategies%3A-top-stocks-to-watch%3A-cadence-ceo-on-track-record-of-innovation-growth\n",
            "https://www.nasdaq.com/videos/investing-strategies%3A-virgin-galactic-draftkings-nikola-whats-next-everything-you-need-to\n",
            "https://www.nasdaq.com/videos/investing-strategies%3A-analyzing-strength-of-large-cap-tech-stocks-in-current-bull-market\n",
            "https://www.nasdaq.com/videos/investing-strategies%3A-health-care-trends-to-watch-with-medical-sector-on-the-move\n",
            "https://www.nasdaq.com/videos/investing-strategies%3A-trader-education%3A-ibds-top-investing-rules-for-beginners\n",
            "https://www.nasdaq.com/videos/markets-undergoing-a-reality-check%3A-fidelitys-richards\n",
            "https://www.nasdaq.com/videos/its-getting-tougher-for-opec-to-cut-oil-output%3A-nomura\n",
            "https://www.nasdaq.com/videos/how-goldmans-koch-is-positioning-ahead-of-the-election\n",
            "https://www.nasdaq.com/videos/abby-joseph-cohen-says-blue-wave-could-bring-markets-more-policy-certainty\n",
            "https://www.nasdaq.com/videos/yales-roach-says-lack-of-stimulus-sets-economy-up-for-relapse\n",
            "https://www.nasdaq.com/videos/oil-range-from-%2439-to-%2445-for-next-month%3A-daman-investments\n",
            "https://www.nasdaq.com/videos/morgan-stanleys-caron-says-owning-duration-makes-sense-here\n",
            "https://www.nasdaq.com/news-and-insights/in-the-money-with-fidelity-investments-dan-nathan\n",
            "http://ir.nasdaq.com/Income-Statement-Trend-Summary-and-GAAP-to-Non-GAAP-Reconciliation\n",
            "http://ir.nasdaq.com/events/event-details/barclays-global-financial-services-conference-2020\n",
            "http://ir.nasdaq.com/events/event-details/ubs-virtual-financial-services-conference-2020\n",
            "https://www.nasdaq.com/articles/what-apple-aapl-investors-can-expect-following-tomorrows-event-2020-10-12\n",
            "https://www.nasdaq.com/articles/3-top-5g-stocks-to-buy-right-now-2020-10-09\n",
            "https://www.nasdaq.com/articles/why-cloudflare-stock-soared-on-monday-2020-10-12\n",
            "https://www.nasdaq.com/articles/delta-airlines-dal-3rd-quarter-earnings%3A-what-to-expect-2020-10-12\n",
            "https://www.nasdaq.com/articles/wells-fargo-wfc-3rd-quarter-earnings%3A-what-to-expect-2020-10-13\n",
            "https://www.nasdaq.com/articles/bank-of-america-bac-3rd-quarter-earnings%3A-what-to-expect-2020-10-13\n",
            "https://www.nasdaq.com/articles/stay-at-home-stocks-can-still-thrive-even-when-covid-19-retreats-2020-10-16\n",
            "https://www.nasdaq.com/articles/fastlys-fsly-drop-has-created-an-opportunity-but-its-not-where-you-probably-think-2020-10\n",
            "https://www.nasdaq.com/articles/the-case-against-another-airline-bailout-2020-10-14\n",
            "https://www.nasdaq.com/articles/2-picks-in-the-booming-used-car-industry-2020-10-13\n",
            "https://www.nasdaq.com/articles/daily-markets%3A-weakening-economic-data-and-rising-political-uncertainty-weigh-on-investors\n",
            "https://www.nasdaq.com/articles/wall-street-bank-trading-boom-does-little-to-assuage-concerns-about-lending-2020-10-16\n",
            "https://www.nasdaq.com/articles/4-top-stock-trades-for-monday%3A-pton-pfe-fsly-spaq-2020-10-16\n",
            "https://www.nasdaq.com/articles/3-biotech-stocks-to-buy-right-now-2020-10-16\n",
            "https://www.nasdaq.com/articles/buy-the-next-dip-in-red-hot-nvidia-stock-2020-10-16\n",
            "https://www.nasdaq.com/articles/get-ready-to-bull-trade-novavax-stock-for-a-second-wave-2020-10-16\n",
            "https://www.nasdaq.com/articles/gol-american-airlines-codeshare-pact-to-boost-connectivity-2020-10-17\n",
            "https://www.nasdaq.com/articles/this-decades-stock-leaders-2020-10-16\n",
            "https://www.nasdaq.com/articles/what-taiwan-semiconductor-earnings-indicate-about-these-top-tech-players-2020-10-16\n",
            "https://www.nasdaq.com/articles/enbridge-enb-outpaces-stock-market-gains%3A-what-you-should-know-2020-10-16\n",
            "https://www.nasdaq.com/articles/dominion-energy-d-outpaces-stock-market-gains%3A-what-you-should-know-2020-10-16\n",
            "https://www.nasdaq.com/articles/united-parcel-service-ups-outpaces-stock-market-gains%3A-what-you-should-know-2020-10-16\n",
            "https://www.nasdaq.com/articles/anaplan-plan-outpaces-stock-market-gains%3A-what-you-should-know-2020-10-16\n"
          ],
          "name": "stdout"
        }
      ]
    },
    {
      "cell_type": "code",
      "metadata": {
        "id": "kABKRhpgd7XQ",
        "outputId": "c716c07d-0c83-426c-e3ee-7c9c79e12865",
        "colab": {
          "base_uri": "https://localhost:8080/",
          "height": 265
        }
      },
      "source": [
        "# extract source categories\n",
        "for category in ndx_news.category_urls():\n",
        "  print(category)"
      ],
      "execution_count": 4,
      "outputs": [
        {
          "output_type": "stream",
          "text": [
            "https://www.nasdaq.com/mediakit\n",
            "https://www.nasdaq.com/market-activity/index/ndx/news-headlines\n",
            "https://www.nasdaq.com/solutions\n",
            "https://www.nasdaq.com\n",
            "https://www.nasdaq.com/videos\n",
            "http://ir.nasdaq.com\n",
            "https://www.nasdaq.com/marketsite\n",
            "https://www.nasdaq.com/public-policy\n",
            "https://www.nasdaq.com/ESG-Guide\n",
            "https://www.nasdaq.com/GlobalIndexes\n",
            "https://www.nasdaq.com/trust-center\n",
            "https://portfolio.nasdaq.com\n",
            "https://www.nasdaq.com/symbol\n",
            "https://www.nasdaq.com/TotalMarkets\n"
          ],
          "name": "stdout"
        }
      ]
    },
    {
      "cell_type": "code",
      "metadata": {
        "id": "uVh1KYvSICLD",
        "outputId": "0e842b7f-d6fc-4bdc-fc92-52672b159ffd",
        "colab": {
          "base_uri": "https://localhost:8080/",
          "height": 52
        }
      },
      "source": [
        "ndx_article = ndx_news.articles[0]\n",
        "ndx_article.download()\n",
        "ndx_article.parse()\n",
        "nltk.download('punkt')\n",
        "ndx_article.nlp()"
      ],
      "execution_count": 5,
      "outputs": [
        {
          "output_type": "stream",
          "text": [
            "[nltk_data] Downloading package punkt to /root/nltk_data...\n",
            "[nltk_data]   Unzipping tokenizers/punkt.zip.\n"
          ],
          "name": "stdout"
        }
      ]
    },
    {
      "cell_type": "code",
      "metadata": {
        "id": "sCYp7lNLI3PU",
        "outputId": "4c3cdf66-33b6-4a42-d1a3-6b1889cd86a0",
        "colab": {
          "base_uri": "https://localhost:8080/",
          "height": 88
        }
      },
      "source": [
        "ndx_article.summary"
      ],
      "execution_count": 6,
      "outputs": [
        {
          "output_type": "execute_result",
          "data": {
            "application/vnd.google.colaboratory.intrinsic+json": {
              "type": "string"
            },
            "text/plain": [
              "'Johan Toll, head of Blockchain Product Management within Nasdaq’s Market Technology business, has been awarded the FinTech Person of the Year from the Financial Technology Forum (FTF) News Technology Innovation Awards for his expertise and developments on blockchain integration with the Nasdaq Financial Framework, as well as other areas of Nasdaq.\\nThe framework consists of a single operational core that ties together the Nasdaq’s technology portfolio that has proven business functionality across the trade lifecycle.\\nSince joining Nasdaq in 2007, Johan has focused on many areas of the trade lifecycle.\\nWe sat down with Johan to learn more about the blockchain initiatives at Nasdaq and where he sees the technology transforming in the future.\\nTo learn more about Nasdaq Market Technology initiatives with blockchain, please read: Blockchain Forges AheadTo learn more about the Nasdaq Financial Framework, please visit that section of our website.'"
            ]
          },
          "metadata": {
            "tags": []
          },
          "execution_count": 6
        }
      ]
    },
    {
      "cell_type": "code",
      "metadata": {
        "id": "I4fKlY_oJCYP",
        "outputId": "a0af08cc-26bc-4add-ef2f-8297150416fd",
        "colab": {
          "base_uri": "https://localhost:8080/",
          "height": 283
        }
      },
      "source": [
        "ndx_article.keywords"
      ],
      "execution_count": 7,
      "outputs": [
        {
          "output_type": "execute_result",
          "data": {
            "text/plain": [
              "['wins',\n",
              " 'business',\n",
              " 'framework',\n",
              " 'blockchain',\n",
              " 'nasdaqs',\n",
              " 'trade',\n",
              " 'world',\n",
              " 'johan',\n",
              " 'markets',\n",
              " 'technology',\n",
              " 'nasdaq',\n",
              " 'financial',\n",
              " 'person',\n",
              " 'toll',\n",
              " 'fintech']"
            ]
          },
          "metadata": {
            "tags": []
          },
          "execution_count": 7
        }
      ]
    },
    {
      "cell_type": "code",
      "metadata": {
        "id": "dYonpyvmJMMQ",
        "outputId": "e47cc65f-ab0a-429f-ad38-032fe7ced338",
        "colab": {
          "base_uri": "https://localhost:8080/",
          "height": 34
        }
      },
      "source": [
        "ndx_article.publish_date"
      ],
      "execution_count": 8,
      "outputs": [
        {
          "output_type": "execute_result",
          "data": {
            "text/plain": [
              "datetime.datetime(2018, 5, 16, 0, 0)"
            ]
          },
          "metadata": {
            "tags": []
          },
          "execution_count": 8
        }
      ]
    },
    {
      "cell_type": "code",
      "metadata": {
        "id": "dkVW9nDEByxI",
        "outputId": "a7702265-c436-4d9d-c84e-35302621b228",
        "colab": {
          "base_uri": "https://localhost:8080/",
          "height": 34
        }
      },
      "source": [
        "ndx_article.authors"
      ],
      "execution_count": 9,
      "outputs": [
        {
          "output_type": "execute_result",
          "data": {
            "text/plain": [
              "[]"
            ]
          },
          "metadata": {
            "tags": []
          },
          "execution_count": 9
        }
      ]
    },
    {
      "cell_type": "code",
      "metadata": {
        "id": "hTJ0_5vYCIzW",
        "outputId": "7c1fb9bf-dbb7-40b2-ef88-14c85345f320",
        "colab": {
          "base_uri": "https://localhost:8080/",
          "height": 35
        }
      },
      "source": [
        "ndx_article.title"
      ],
      "execution_count": 10,
      "outputs": [
        {
          "output_type": "execute_result",
          "data": {
            "application/vnd.google.colaboratory.intrinsic+json": {
              "type": "string"
            },
            "text/plain": [
              "\"Nasdaq's Johan Toll Wins FinTech Person of the Year\""
            ]
          },
          "metadata": {
            "tags": []
          },
          "execution_count": 10
        }
      ]
    },
    {
      "cell_type": "markdown",
      "metadata": {
        "id": "owOI2vvCKLdT"
      },
      "source": [
        "## Create Dataframe for the articles \n",
        "\n"
      ]
    },
    {
      "cell_type": "code",
      "metadata": {
        "id": "3Ak0yuNiKNhl"
      },
      "source": [
        "url = []\n",
        "keywords = []\n",
        "title = []\n",
        "published =[]\n",
        "summary = []\n",
        "authors=[]\n",
        "videos = []\n",
        "\n",
        "\n",
        "for article in ndx_news.articles:\n",
        "    url.append(article.url)\n",
        "    article.download()\n",
        "    article.parse()\n",
        "    article.nlp()\n",
        "    keywords.append(article.keywords)\n",
        "    title.append(article.title)\n",
        "    published.append(article.publish_date)\n",
        "    summary.append(article.summary)\n",
        "    authors.append(article.authors)\n",
        "    videos.append(article.movies)\n",
        "   \n",
        "\n",
        " "
      ],
      "execution_count": 11,
      "outputs": []
    },
    {
      "cell_type": "code",
      "metadata": {
        "id": "w8P0matfSJ5n",
        "outputId": "227bdf6d-4abe-438b-cb03-76dc71b8a70c",
        "colab": {
          "base_uri": "https://localhost:8080/",
          "height": 34
        }
      },
      "source": [
        "type(url)"
      ],
      "execution_count": 12,
      "outputs": [
        {
          "output_type": "execute_result",
          "data": {
            "text/plain": [
              "list"
            ]
          },
          "metadata": {
            "tags": []
          },
          "execution_count": 12
        }
      ]
    },
    {
      "cell_type": "code",
      "metadata": {
        "id": "L1KEHJp4Uipe",
        "outputId": "47163ec9-1de8-41ac-b83b-180d5c3d576c",
        "colab": {
          "base_uri": "https://localhost:8080/",
          "height": 34
        }
      },
      "source": [
        "len(url)"
      ],
      "execution_count": 13,
      "outputs": [
        {
          "output_type": "execute_result",
          "data": {
            "text/plain": [
              "62"
            ]
          },
          "metadata": {
            "tags": []
          },
          "execution_count": 13
        }
      ]
    },
    {
      "cell_type": "code",
      "metadata": {
        "id": "xO7kbvDgS75y",
        "outputId": "f5c1fa51-b6e7-4f0c-9a2d-4b9fb093a116",
        "colab": {
          "base_uri": "https://localhost:8080/",
          "height": 406
        }
      },
      "source": [
        "# convert the lists to dataframe columns\n",
        "data = [url, title, published, authors, summary, keywords, videos] # create list of lists\n",
        "\n",
        "df = pd.DataFrame(data).transpose()  #transpose to get 7 columns instead of 62\n",
        "\n",
        "df.columns=['url', 'title', 'published', 'authors', 'summary', 'keywords', 'videos']  # name the columns\n",
        "\n",
        "df"
      ],
      "execution_count": 14,
      "outputs": [
        {
          "output_type": "execute_result",
          "data": {
            "text/html": [
              "<div>\n",
              "<style scoped>\n",
              "    .dataframe tbody tr th:only-of-type {\n",
              "        vertical-align: middle;\n",
              "    }\n",
              "\n",
              "    .dataframe tbody tr th {\n",
              "        vertical-align: top;\n",
              "    }\n",
              "\n",
              "    .dataframe thead th {\n",
              "        text-align: right;\n",
              "    }\n",
              "</style>\n",
              "<table border=\"1\" class=\"dataframe\">\n",
              "  <thead>\n",
              "    <tr style=\"text-align: right;\">\n",
              "      <th></th>\n",
              "      <th>url</th>\n",
              "      <th>title</th>\n",
              "      <th>published</th>\n",
              "      <th>authors</th>\n",
              "      <th>summary</th>\n",
              "      <th>keywords</th>\n",
              "      <th>videos</th>\n",
              "    </tr>\n",
              "  </thead>\n",
              "  <tbody>\n",
              "    <tr>\n",
              "      <th>0</th>\n",
              "      <td>https://www.nasdaq.com/articles/nasdaqs-johan-...</td>\n",
              "      <td>Nasdaq's Johan Toll Wins FinTech Person of the...</td>\n",
              "      <td>2018-05-16</td>\n",
              "      <td>[]</td>\n",
              "      <td>Johan Toll, head of Blockchain Product Managem...</td>\n",
              "      <td>[wins, business, framework, blockchain, nasdaq...</td>\n",
              "      <td>[]</td>\n",
              "    </tr>\n",
              "    <tr>\n",
              "      <th>1</th>\n",
              "      <td>https://www.nasdaq.com/articles/adena-friedman...</td>\n",
              "      <td>Adena Friedman: ESG, AI, Cryptocurrency In Foc...</td>\n",
              "      <td>2019-01-21</td>\n",
              "      <td>[]</td>\n",
              "      <td>The world economy is growing more slowly than ...</td>\n",
              "      <td>[focus, economic, cryptocurrency, companies, d...</td>\n",
              "      <td>[]</td>\n",
              "    </tr>\n",
              "    <tr>\n",
              "      <th>2</th>\n",
              "      <td>https://www.nasdaq.com/article/invesco-qqq-cel...</td>\n",
              "      <td>Invesco QQQ Celebrates 20 Years of Curating In...</td>\n",
              "      <td>NaT</td>\n",
              "      <td>[]</td>\n",
              "      <td>Invesco recognizes leading ETF’s long-standing...</td>\n",
              "      <td>[funds, invesco, celebrates, rank, growth, 31,...</td>\n",
              "      <td>[]</td>\n",
              "    </tr>\n",
              "    <tr>\n",
              "      <th>3</th>\n",
              "      <td>https://www.nasdaq.com/solutions/midpoint-exte...</td>\n",
              "      <td>Midpoint Extended Life Order (M-ELO)</td>\n",
              "      <td>NaT</td>\n",
              "      <td>[]</td>\n",
              "      <td>See M-ELO in action and learn moreNasdaq's EVP...</td>\n",
              "      <td>[services, life, nasdaqs, morenasdaqs, extende...</td>\n",
              "      <td>[]</td>\n",
              "    </tr>\n",
              "    <tr>\n",
              "      <th>4</th>\n",
              "      <td>https://www.nasdaq.com/articles/weekly-preview...</td>\n",
              "      <td>Weekly Preview: Stocks To Watch (AMZN, INTC, M...</td>\n",
              "      <td>2020-10-18</td>\n",
              "      <td>[]</td>\n",
              "      <td>We will also get results from Microsoft (MSFT)...</td>\n",
              "      <td>[tesla, street, preview, watch, revenue, billi...</td>\n",
              "      <td>[]</td>\n",
              "    </tr>\n",
              "    <tr>\n",
              "      <th>...</th>\n",
              "      <td>...</td>\n",
              "      <td>...</td>\n",
              "      <td>...</td>\n",
              "      <td>...</td>\n",
              "      <td>...</td>\n",
              "      <td>...</td>\n",
              "      <td>...</td>\n",
              "    </tr>\n",
              "    <tr>\n",
              "      <th>57</th>\n",
              "      <td>https://www.nasdaq.com/articles/what-taiwan-se...</td>\n",
              "      <td>What Taiwan Semiconductor Earnings Indicate Ab...</td>\n",
              "      <td>2020-10-16</td>\n",
              "      <td>[Sejuti Banerjea]</td>\n",
              "      <td>Taiwan Semiconductor Manufacturing Company TSM...</td>\n",
              "      <td>[growth, tech, players, zacks, taiwan, expecte...</td>\n",
              "      <td>[]</td>\n",
              "    </tr>\n",
              "    <tr>\n",
              "      <th>58</th>\n",
              "      <td>https://www.nasdaq.com/articles/enbridge-enb-o...</td>\n",
              "      <td>Enbridge (ENB) Outpaces Stock Market Gains: Wh...</td>\n",
              "      <td>2020-10-16</td>\n",
              "      <td>[Zacks Equity Research]</td>\n",
              "      <td>In the latest trading session, Enbridge (ENB) ...</td>\n",
              "      <td>[gains, rank, enbridge, zacks, changes, stocks...</td>\n",
              "      <td>[]</td>\n",
              "    </tr>\n",
              "    <tr>\n",
              "      <th>59</th>\n",
              "      <td>https://www.nasdaq.com/articles/dominion-energ...</td>\n",
              "      <td>Dominion Energy (D) Outpaces Stock Market Gain...</td>\n",
              "      <td>2020-10-16</td>\n",
              "      <td>[Zacks Equity Research]</td>\n",
              "      <td>Dominion Energy (D) closed at $81.41 in the la...</td>\n",
              "      <td>[gains, rank, latest, zacks, d, estimate, chan...</td>\n",
              "      <td>[]</td>\n",
              "    </tr>\n",
              "    <tr>\n",
              "      <th>60</th>\n",
              "      <td>https://www.nasdaq.com/articles/united-parcel-...</td>\n",
              "      <td>United Parcel Service (UPS) Outpaces Stock Mar...</td>\n",
              "      <td>2020-10-16</td>\n",
              "      <td>[Zacks Equity Research]</td>\n",
              "      <td>In the latest trading session, United Parcel S...</td>\n",
              "      <td>[gains, rank, zacks, united, parcel, estimate,...</td>\n",
              "      <td>[]</td>\n",
              "    </tr>\n",
              "    <tr>\n",
              "      <th>61</th>\n",
              "      <td>https://www.nasdaq.com/articles/anaplan-plan-o...</td>\n",
              "      <td>Anaplan (PLAN) Outpaces Stock Market Gains: Wh...</td>\n",
              "      <td>2020-10-16</td>\n",
              "      <td>[Zacks Equity Research]</td>\n",
              "      <td>In the latest trading session, Anaplan (PLAN) ...</td>\n",
              "      <td>[gains, rank, plan, latest, zacks, estimate, s...</td>\n",
              "      <td>[]</td>\n",
              "    </tr>\n",
              "  </tbody>\n",
              "</table>\n",
              "<p>62 rows × 7 columns</p>\n",
              "</div>"
            ],
            "text/plain": [
              "                                                  url  ... videos\n",
              "0   https://www.nasdaq.com/articles/nasdaqs-johan-...  ...     []\n",
              "1   https://www.nasdaq.com/articles/adena-friedman...  ...     []\n",
              "2   https://www.nasdaq.com/article/invesco-qqq-cel...  ...     []\n",
              "3   https://www.nasdaq.com/solutions/midpoint-exte...  ...     []\n",
              "4   https://www.nasdaq.com/articles/weekly-preview...  ...     []\n",
              "..                                                ...  ...    ...\n",
              "57  https://www.nasdaq.com/articles/what-taiwan-se...  ...     []\n",
              "58  https://www.nasdaq.com/articles/enbridge-enb-o...  ...     []\n",
              "59  https://www.nasdaq.com/articles/dominion-energ...  ...     []\n",
              "60  https://www.nasdaq.com/articles/united-parcel-...  ...     []\n",
              "61  https://www.nasdaq.com/articles/anaplan-plan-o...  ...     []\n",
              "\n",
              "[62 rows x 7 columns]"
            ]
          },
          "metadata": {
            "tags": []
          },
          "execution_count": 14
        }
      ]
    },
    {
      "cell_type": "markdown",
      "metadata": {
        "id": "tpHHBaxtddP1"
      },
      "source": [
        "## Inspect the data "
      ]
    },
    {
      "cell_type": "code",
      "metadata": {
        "id": "JKPPdpcrNmpP",
        "outputId": "e960401c-b59a-4acc-cfc6-c3baf83ade40",
        "colab": {
          "base_uri": "https://localhost:8080/",
          "height": 125
        }
      },
      "source": [
        "print(df.loc[0,'summary'])"
      ],
      "execution_count": 15,
      "outputs": [
        {
          "output_type": "stream",
          "text": [
            "Johan Toll, head of Blockchain Product Management within Nasdaq’s Market Technology business, has been awarded the FinTech Person of the Year from the Financial Technology Forum (FTF) News Technology Innovation Awards for his expertise and developments on blockchain integration with the Nasdaq Financial Framework, as well as other areas of Nasdaq.\n",
            "The framework consists of a single operational core that ties together the Nasdaq’s technology portfolio that has proven business functionality across the trade lifecycle.\n",
            "Since joining Nasdaq in 2007, Johan has focused on many areas of the trade lifecycle.\n",
            "We sat down with Johan to learn more about the blockchain initiatives at Nasdaq and where he sees the technology transforming in the future.\n",
            "To learn more about Nasdaq Market Technology initiatives with blockchain, please read: Blockchain Forges AheadTo learn more about the Nasdaq Financial Framework, please visit that section of our website.\n"
          ],
          "name": "stdout"
        }
      ]
    },
    {
      "cell_type": "code",
      "metadata": {
        "id": "bM_qDVcmYo2D",
        "outputId": "b9212663-df29-4a9e-ec38-e63add8d49ef",
        "colab": {
          "base_uri": "https://localhost:8080/",
          "height": 161
        }
      },
      "source": [
        "for i in df.columns: \n",
        "  print(df.loc[3, i])"
      ],
      "execution_count": 16,
      "outputs": [
        {
          "output_type": "stream",
          "text": [
            "https://www.nasdaq.com/solutions/midpoint-extended-life-order-m-elo\n",
            "Midpoint Extended Life Order (M-ELO)\n",
            "NaT\n",
            "[]\n",
            "See M-ELO in action and learn moreNasdaq's EVP of North American Market Services, Tal Cohen, is looking to engage the industry on key public policy, market structure initiatives and Nasdaq's commitment to providing clients and the investing public with an efficient and effective marketplace.\n",
            "['services', 'life', 'nasdaqs', 'morenasdaqs', 'extended', 'midpoint', 'structure', 'order', 'tal', 'melo', 'providing', 'market', 'policy', 'north', 'public']\n",
            "[]\n"
          ],
          "name": "stdout"
        }
      ]
    },
    {
      "cell_type": "code",
      "metadata": {
        "id": "kyr-jHOkdcwB",
        "outputId": "d6acad88-c887-4af8-b8fb-6f7aad388da8",
        "colab": {
          "base_uri": "https://localhost:8080/",
          "height": 265
        }
      },
      "source": [
        "# check the dataframe info\n",
        "\n",
        "df.info()\n"
      ],
      "execution_count": 17,
      "outputs": [
        {
          "output_type": "stream",
          "text": [
            "<class 'pandas.core.frame.DataFrame'>\n",
            "RangeIndex: 62 entries, 0 to 61\n",
            "Data columns (total 7 columns):\n",
            " #   Column     Non-Null Count  Dtype         \n",
            "---  ------     --------------  -----         \n",
            " 0   url        62 non-null     object        \n",
            " 1   title      62 non-null     object        \n",
            " 2   published  28 non-null     datetime64[ns]\n",
            " 3   authors    62 non-null     object        \n",
            " 4   summary    62 non-null     object        \n",
            " 5   keywords   62 non-null     object        \n",
            " 6   videos     62 non-null     object        \n",
            "dtypes: datetime64[ns](1), object(6)\n",
            "memory usage: 3.5+ KB\n"
          ],
          "name": "stdout"
        }
      ]
    },
    {
      "cell_type": "code",
      "metadata": {
        "id": "Gag9Odc1hRES",
        "outputId": "6aef2706-7b2e-47ba-a66a-59ef0b1aa7c8",
        "colab": {
          "base_uri": "https://localhost:8080/",
          "height": 123
        }
      },
      "source": [
        "df['published'].unique()"
      ],
      "execution_count": 18,
      "outputs": [
        {
          "output_type": "execute_result",
          "data": {
            "text/plain": [
              "array(['2018-05-16T00:00:00.000000000', '2019-01-21T00:00:00.000000000',\n",
              "                                 'NaT', '2020-10-18T00:00:00.000000000',\n",
              "       '2020-10-16T00:00:00.000000000', '2020-10-12T00:00:00.000000000',\n",
              "       '2020-10-09T00:00:00.000000000', '2020-10-13T00:00:00.000000000',\n",
              "       '2020-10-14T00:00:00.000000000', '2020-10-17T00:00:00.000000000'],\n",
              "      dtype='datetime64[ns]')"
            ]
          },
          "metadata": {
            "tags": []
          },
          "execution_count": 18
        }
      ]
    },
    {
      "cell_type": "code",
      "metadata": {
        "id": "REFnmUWQh0So",
        "outputId": "2a03b463-aa5a-40a9-b8bf-bc1fe10a1e0e",
        "colab": {
          "base_uri": "https://localhost:8080/",
          "height": 638
        }
      },
      "source": [
        "# check url for rows with no dates downloaded into dataframe\n",
        "df_null = df[df['published'].isnull()]\n",
        "\n",
        "df_null['url']"
      ],
      "execution_count": 19,
      "outputs": [
        {
          "output_type": "execute_result",
          "data": {
            "text/plain": [
              "2     https://www.nasdaq.com/article/invesco-qqq-cel...\n",
              "3     https://www.nasdaq.com/solutions/midpoint-exte...\n",
              "9     https://www.nasdaq.com/videos/tradetalks%3A-wh...\n",
              "10    https://www.nasdaq.com/videos/can-stock-pickin...\n",
              "11    https://www.nasdaq.com/videos/tradetalks%3A-th...\n",
              "12    https://www.nasdaq.com/videos/tradetalks%3A-ho...\n",
              "13    https://www.nasdaq.com/videos/tradetalks%3A-tr...\n",
              "14    https://www.nasdaq.com/videos/tradetalks%3A-ex...\n",
              "15    https://www.nasdaq.com/videos/tradetalks%3A-wh...\n",
              "16    https://www.nasdaq.com/videos/tradetalks%3A-op...\n",
              "17    https://www.nasdaq.com/videos/tradetalks%3A-th...\n",
              "18    https://www.nasdaq.com/videos/investing-strate...\n",
              "19    https://www.nasdaq.com/videos/investing-strate...\n",
              "20    https://www.nasdaq.com/videos/investing-strate...\n",
              "21    https://www.nasdaq.com/videos/investing-strate...\n",
              "22    https://www.nasdaq.com/videos/investing-strate...\n",
              "23    https://www.nasdaq.com/videos/investing-strate...\n",
              "24    https://www.nasdaq.com/videos/investing-strate...\n",
              "25    https://www.nasdaq.com/videos/investing-strate...\n",
              "26    https://www.nasdaq.com/videos/investing-strate...\n",
              "27    https://www.nasdaq.com/videos/investing-strate...\n",
              "28    https://www.nasdaq.com/videos/markets-undergoi...\n",
              "29    https://www.nasdaq.com/videos/its-getting-toug...\n",
              "30    https://www.nasdaq.com/videos/how-goldmans-koc...\n",
              "31    https://www.nasdaq.com/videos/abby-joseph-cohe...\n",
              "32    https://www.nasdaq.com/videos/yales-roach-says...\n",
              "33    https://www.nasdaq.com/videos/oil-range-from-%...\n",
              "34    https://www.nasdaq.com/videos/morgan-stanleys-...\n",
              "35    https://www.nasdaq.com/news-and-insights/in-th...\n",
              "36    http://ir.nasdaq.com/Income-Statement-Trend-Su...\n",
              "37    http://ir.nasdaq.com/events/event-details/barc...\n",
              "38    http://ir.nasdaq.com/events/event-details/ubs-...\n",
              "46    https://www.nasdaq.com/articles/fastlys-fsly-d...\n",
              "49    https://www.nasdaq.com/articles/daily-markets%...\n",
              "Name: url, dtype: object"
            ]
          },
          "metadata": {
            "tags": []
          },
          "execution_count": 19
        }
      ]
    },
    {
      "cell_type": "markdown",
      "metadata": {
        "id": "xFq1gRhajjbU"
      },
      "source": [
        "## Download Dataframe to a CSV file"
      ]
    },
    {
      "cell_type": "code",
      "metadata": {
        "id": "yD8ppSP-ik6z",
        "outputId": "f1be2347-297a-4e23-f2f0-0e677dffaace",
        "colab": {
          "base_uri": "https://localhost:8080/",
          "height": 887
        }
      },
      "source": [
        "# get df with dates and sorted with most recent at the top\n",
        "df_dates = df.dropna(subset=['published']).sort_values(by=['published'], inplace=False, ascending=False)\n",
        "df_dates"
      ],
      "execution_count": 22,
      "outputs": [
        {
          "output_type": "execute_result",
          "data": {
            "text/html": [
              "<div>\n",
              "<style scoped>\n",
              "    .dataframe tbody tr th:only-of-type {\n",
              "        vertical-align: middle;\n",
              "    }\n",
              "\n",
              "    .dataframe tbody tr th {\n",
              "        vertical-align: top;\n",
              "    }\n",
              "\n",
              "    .dataframe thead th {\n",
              "        text-align: right;\n",
              "    }\n",
              "</style>\n",
              "<table border=\"1\" class=\"dataframe\">\n",
              "  <thead>\n",
              "    <tr style=\"text-align: right;\">\n",
              "      <th></th>\n",
              "      <th>url</th>\n",
              "      <th>title</th>\n",
              "      <th>published</th>\n",
              "      <th>authors</th>\n",
              "      <th>summary</th>\n",
              "      <th>keywords</th>\n",
              "      <th>videos</th>\n",
              "    </tr>\n",
              "  </thead>\n",
              "  <tbody>\n",
              "    <tr>\n",
              "      <th>4</th>\n",
              "      <td>https://www.nasdaq.com/articles/weekly-preview...</td>\n",
              "      <td>Weekly Preview: Stocks To Watch (AMZN, INTC, M...</td>\n",
              "      <td>2020-10-18</td>\n",
              "      <td>[]</td>\n",
              "      <td>We will also get results from Microsoft (MSFT)...</td>\n",
              "      <td>[tesla, street, preview, watch, revenue, billi...</td>\n",
              "      <td>[]</td>\n",
              "    </tr>\n",
              "    <tr>\n",
              "      <th>55</th>\n",
              "      <td>https://www.nasdaq.com/articles/gol-american-a...</td>\n",
              "      <td>GOL, American Airlines' Codeshare Pact to Boos...</td>\n",
              "      <td>2020-10-17</td>\n",
              "      <td>[Zacks Equity Research]</td>\n",
              "      <td>In a customer-friendly move, American Airlines...</td>\n",
              "      <td>[rank, connectivity, group, deal, zacks, codes...</td>\n",
              "      <td>[]</td>\n",
              "    </tr>\n",
              "    <tr>\n",
              "      <th>61</th>\n",
              "      <td>https://www.nasdaq.com/articles/anaplan-plan-o...</td>\n",
              "      <td>Anaplan (PLAN) Outpaces Stock Market Gains: Wh...</td>\n",
              "      <td>2020-10-16</td>\n",
              "      <td>[Zacks Equity Research]</td>\n",
              "      <td>In the latest trading session, Anaplan (PLAN) ...</td>\n",
              "      <td>[gains, rank, plan, latest, zacks, estimate, s...</td>\n",
              "      <td>[]</td>\n",
              "    </tr>\n",
              "    <tr>\n",
              "      <th>57</th>\n",
              "      <td>https://www.nasdaq.com/articles/what-taiwan-se...</td>\n",
              "      <td>What Taiwan Semiconductor Earnings Indicate Ab...</td>\n",
              "      <td>2020-10-16</td>\n",
              "      <td>[Sejuti Banerjea]</td>\n",
              "      <td>Taiwan Semiconductor Manufacturing Company TSM...</td>\n",
              "      <td>[growth, tech, players, zacks, taiwan, expecte...</td>\n",
              "      <td>[]</td>\n",
              "    </tr>\n",
              "    <tr>\n",
              "      <th>52</th>\n",
              "      <td>https://www.nasdaq.com/articles/3-biotech-stoc...</td>\n",
              "      <td>3 Biotech Stocks to Buy Right Now</td>\n",
              "      <td>2020-10-16</td>\n",
              "      <td>[Chris Tyler]</td>\n",
              "      <td>Still, if there’s one sector with stocks to bu...</td>\n",
              "      <td>[right, buy, shares, stocks, nasdaq, stock, bi...</td>\n",
              "      <td>[]</td>\n",
              "    </tr>\n",
              "    <tr>\n",
              "      <th>53</th>\n",
              "      <td>https://www.nasdaq.com/articles/buy-the-next-d...</td>\n",
              "      <td>Buy the Next Dip in Red-Hot Nvidia Stock</td>\n",
              "      <td>2020-10-16</td>\n",
              "      <td>[Nicolas Chahine]</td>\n",
              "      <td>InvestorPlace - Stock Market News, Stock Advic...</td>\n",
              "      <td>[buy, nvda, future, dip, redhot, shares, amd, ...</td>\n",
              "      <td>[]</td>\n",
              "    </tr>\n",
              "    <tr>\n",
              "      <th>45</th>\n",
              "      <td>https://www.nasdaq.com/articles/stay-at-home-s...</td>\n",
              "      <td>'Stay at Home' Stocks Can Still Thrive Even Wh...</td>\n",
              "      <td>2020-10-16</td>\n",
              "      <td>[]</td>\n",
              "      <td>In most cases, there will be a correction to t...</td>\n",
              "      <td>[likely, growth, demand, continue, disease, re...</td>\n",
              "      <td>[]</td>\n",
              "    </tr>\n",
              "    <tr>\n",
              "      <th>54</th>\n",
              "      <td>https://www.nasdaq.com/articles/get-ready-to-b...</td>\n",
              "      <td>Get Ready To Bull Trade Novavax Stock For A Se...</td>\n",
              "      <td>2020-10-16</td>\n",
              "      <td>[Chris Tyler]</td>\n",
              "      <td>InvestorPlace - Stock Market News, Stock Advic...</td>\n",
              "      <td>[novavax, ready, vaccine, trade, second, stock...</td>\n",
              "      <td>[]</td>\n",
              "    </tr>\n",
              "    <tr>\n",
              "      <th>56</th>\n",
              "      <td>https://www.nasdaq.com/articles/this-decades-s...</td>\n",
              "      <td>This Decade’s Stock Leaders</td>\n",
              "      <td>2020-10-16</td>\n",
              "      <td>[Jeff Remsburg]</td>\n",
              "      <td>InvestorPlace - Stock Market News, Stock Advic...</td>\n",
              "      <td>[investor, small, decades, leaders, stocks, su...</td>\n",
              "      <td>[]</td>\n",
              "    </tr>\n",
              "    <tr>\n",
              "      <th>58</th>\n",
              "      <td>https://www.nasdaq.com/articles/enbridge-enb-o...</td>\n",
              "      <td>Enbridge (ENB) Outpaces Stock Market Gains: Wh...</td>\n",
              "      <td>2020-10-16</td>\n",
              "      <td>[Zacks Equity Research]</td>\n",
              "      <td>In the latest trading session, Enbridge (ENB) ...</td>\n",
              "      <td>[gains, rank, enbridge, zacks, changes, stocks...</td>\n",
              "      <td>[]</td>\n",
              "    </tr>\n",
              "    <tr>\n",
              "      <th>51</th>\n",
              "      <td>https://www.nasdaq.com/articles/4-top-stock-tr...</td>\n",
              "      <td>4 Top Stock Trades for Monday: PTON, PFE, FSLY...</td>\n",
              "      <td>2020-10-16</td>\n",
              "      <td>[Bret Kenwell]</td>\n",
              "      <td>Let’s look at a few top stock trades for Monda...</td>\n",
              "      <td>[resistance, moving, higher, pfe, trades, spaq...</td>\n",
              "      <td>[]</td>\n",
              "    </tr>\n",
              "    <tr>\n",
              "      <th>59</th>\n",
              "      <td>https://www.nasdaq.com/articles/dominion-energ...</td>\n",
              "      <td>Dominion Energy (D) Outpaces Stock Market Gain...</td>\n",
              "      <td>2020-10-16</td>\n",
              "      <td>[Zacks Equity Research]</td>\n",
              "      <td>Dominion Energy (D) closed at $81.41 in the la...</td>\n",
              "      <td>[gains, rank, latest, zacks, d, estimate, chan...</td>\n",
              "      <td>[]</td>\n",
              "    </tr>\n",
              "    <tr>\n",
              "      <th>8</th>\n",
              "      <td>https://www.nasdaq.com/articles/canaccord-pred...</td>\n",
              "      <td>Canaccord Predicts Over 100% Rally for These 3...</td>\n",
              "      <td>2020-10-16</td>\n",
              "      <td>[Maya Sasson]</td>\n",
              "      <td>To this end, the top analyst rates ZYNE a Buy ...</td>\n",
              "      <td>[buy, zyne, atrc101, predicts, stocks, target,...</td>\n",
              "      <td>[]</td>\n",
              "    </tr>\n",
              "    <tr>\n",
              "      <th>7</th>\n",
              "      <td>https://www.nasdaq.com/articles/getting-in-the...</td>\n",
              "      <td>Getting in the Game with a High-Flying Video G...</td>\n",
              "      <td>2020-10-16</td>\n",
              "      <td>[]</td>\n",
              "      <td>Supported by shelter-in-place directives enfor...</td>\n",
              "      <td>[growth, espos, getting, game, mobile, vaneck,...</td>\n",
              "      <td>[]</td>\n",
              "    </tr>\n",
              "    <tr>\n",
              "      <th>60</th>\n",
              "      <td>https://www.nasdaq.com/articles/united-parcel-...</td>\n",
              "      <td>United Parcel Service (UPS) Outpaces Stock Mar...</td>\n",
              "      <td>2020-10-16</td>\n",
              "      <td>[Zacks Equity Research]</td>\n",
              "      <td>In the latest trading session, United Parcel S...</td>\n",
              "      <td>[gains, rank, zacks, united, parcel, estimate,...</td>\n",
              "      <td>[]</td>\n",
              "    </tr>\n",
              "    <tr>\n",
              "      <th>5</th>\n",
              "      <td>https://www.nasdaq.com/articles/3-high-yield-s...</td>\n",
              "      <td>3 High-Yield Stocks at Rock-Bottom Prices</td>\n",
              "      <td>2020-10-16</td>\n",
              "      <td>[James Brumley]</td>\n",
              "      <td>It's easy to be wary of dividend stocks right ...</td>\n",
              "      <td>[business, right, prices, lyondellbasell, low,...</td>\n",
              "      <td>[]</td>\n",
              "    </tr>\n",
              "    <tr>\n",
              "      <th>50</th>\n",
              "      <td>https://www.nasdaq.com/articles/wall-street-ba...</td>\n",
              "      <td>Wall Street bank trading boom does little to a...</td>\n",
              "      <td>2020-10-16</td>\n",
              "      <td>[Matt Scuffham]</td>\n",
              "      <td>Trading revenue was up 4% to 29% at the five U...</td>\n",
              "      <td>[bank, street, volatility, revenue, lending, d...</td>\n",
              "      <td>[]</td>\n",
              "    </tr>\n",
              "    <tr>\n",
              "      <th>47</th>\n",
              "      <td>https://www.nasdaq.com/articles/the-case-again...</td>\n",
              "      <td>The Case Against Another Airline Bailout</td>\n",
              "      <td>2020-10-14</td>\n",
              "      <td>[]</td>\n",
              "      <td>As corporations, they know better than most th...</td>\n",
              "      <td>[passengers, good, times, way, bailout, execut...</td>\n",
              "      <td>[]</td>\n",
              "    </tr>\n",
              "    <tr>\n",
              "      <th>48</th>\n",
              "      <td>https://www.nasdaq.com/articles/2-picks-in-the...</td>\n",
              "      <td>2 Picks in the Booming Used Car Industry</td>\n",
              "      <td>2020-10-13</td>\n",
              "      <td>[]</td>\n",
              "      <td>The most noticeable of those was a massive 6.7...</td>\n",
              "      <td>[car, booming, prices, higher, cash, value, fc...</td>\n",
              "      <td>[]</td>\n",
              "    </tr>\n",
              "    <tr>\n",
              "      <th>44</th>\n",
              "      <td>https://www.nasdaq.com/articles/bank-of-americ...</td>\n",
              "      <td>Bank of America (BAC) 3rd Quarter Earnings: Wh...</td>\n",
              "      <td>2020-10-13</td>\n",
              "      <td>[]</td>\n",
              "      <td>You would be hard-pressed to find a bank that ...</td>\n",
              "      <td>[3rd, bank, bac, revenue, cents, billion, quar...</td>\n",
              "      <td>[]</td>\n",
              "    </tr>\n",
              "    <tr>\n",
              "      <th>43</th>\n",
              "      <td>https://www.nasdaq.com/articles/wells-fargo-wf...</td>\n",
              "      <td>Wells Fargo (WFC) 3rd Quarter Earnings: What t...</td>\n",
              "      <td>2020-10-13</td>\n",
              "      <td>[]</td>\n",
              "      <td>Although Wells Fargo (WFC) has had its own leg...</td>\n",
              "      <td>[3rd, bank, revenue, analysts, wells, cents, b...</td>\n",
              "      <td>[]</td>\n",
              "    </tr>\n",
              "    <tr>\n",
              "      <th>42</th>\n",
              "      <td>https://www.nasdaq.com/articles/delta-airlines...</td>\n",
              "      <td>Delta Airlines (DAL) 3rd Quarter Earnings: Wha...</td>\n",
              "      <td>2020-10-12</td>\n",
              "      <td>[]</td>\n",
              "      <td>Delta Airlines (DAL) will report third quarter...</td>\n",
              "      <td>[3rd, revenue, quarter, dal, expect, expected,...</td>\n",
              "      <td>[]</td>\n",
              "    </tr>\n",
              "    <tr>\n",
              "      <th>41</th>\n",
              "      <td>https://www.nasdaq.com/articles/why-cloudflare...</td>\n",
              "      <td>Why Cloudflare Stock Soared on Monday</td>\n",
              "      <td>2020-10-12</td>\n",
              "      <td>[Daniel Sparks]</td>\n",
              "      <td>What happenedShares of cloud computing company...</td>\n",
              "      <td>[alphabet, facebook, zuckerberg, cloudflare, s...</td>\n",
              "      <td>[]</td>\n",
              "    </tr>\n",
              "    <tr>\n",
              "      <th>39</th>\n",
              "      <td>https://www.nasdaq.com/articles/what-apple-aap...</td>\n",
              "      <td>What Apple (AAPL) Investors Can Expect Followi...</td>\n",
              "      <td>2020-10-12</td>\n",
              "      <td>[]</td>\n",
              "      <td>Earnings season is getting underway, so this w...</td>\n",
              "      <td>[phone, aapl, tomorrows, past, following, upgr...</td>\n",
              "      <td>[]</td>\n",
              "    </tr>\n",
              "    <tr>\n",
              "      <th>6</th>\n",
              "      <td>https://www.nasdaq.com/articles/making-a-portf...</td>\n",
              "      <td>Making A Portfolio Election-Proof</td>\n",
              "      <td>2020-10-12</td>\n",
              "      <td>[Lyn Alden Schwartzer]</td>\n",
              "      <td>Federal Debt GrowthThis chart shows federal de...</td>\n",
              "      <td>[federal, election, spending, debt, source, d,...</td>\n",
              "      <td>[]</td>\n",
              "    </tr>\n",
              "    <tr>\n",
              "      <th>40</th>\n",
              "      <td>https://www.nasdaq.com/articles/3-top-5g-stock...</td>\n",
              "      <td>3 Top 5G Stocks to Buy Right Now</td>\n",
              "      <td>2020-10-09</td>\n",
              "      <td>[Leo Sun]</td>\n",
              "      <td>AppleApple is widely expected to reveal the iP...</td>\n",
              "      <td>[5g, right, buy, times, skyworks, revenue, sto...</td>\n",
              "      <td>[]</td>\n",
              "    </tr>\n",
              "    <tr>\n",
              "      <th>1</th>\n",
              "      <td>https://www.nasdaq.com/articles/adena-friedman...</td>\n",
              "      <td>Adena Friedman: ESG, AI, Cryptocurrency In Foc...</td>\n",
              "      <td>2019-01-21</td>\n",
              "      <td>[]</td>\n",
              "      <td>The world economy is growing more slowly than ...</td>\n",
              "      <td>[focus, economic, cryptocurrency, companies, d...</td>\n",
              "      <td>[]</td>\n",
              "    </tr>\n",
              "    <tr>\n",
              "      <th>0</th>\n",
              "      <td>https://www.nasdaq.com/articles/nasdaqs-johan-...</td>\n",
              "      <td>Nasdaq's Johan Toll Wins FinTech Person of the...</td>\n",
              "      <td>2018-05-16</td>\n",
              "      <td>[]</td>\n",
              "      <td>Johan Toll, head of Blockchain Product Managem...</td>\n",
              "      <td>[wins, business, framework, blockchain, nasdaq...</td>\n",
              "      <td>[]</td>\n",
              "    </tr>\n",
              "  </tbody>\n",
              "</table>\n",
              "</div>"
            ],
            "text/plain": [
              "                                                  url  ... videos\n",
              "4   https://www.nasdaq.com/articles/weekly-preview...  ...     []\n",
              "55  https://www.nasdaq.com/articles/gol-american-a...  ...     []\n",
              "61  https://www.nasdaq.com/articles/anaplan-plan-o...  ...     []\n",
              "57  https://www.nasdaq.com/articles/what-taiwan-se...  ...     []\n",
              "52  https://www.nasdaq.com/articles/3-biotech-stoc...  ...     []\n",
              "53  https://www.nasdaq.com/articles/buy-the-next-d...  ...     []\n",
              "45  https://www.nasdaq.com/articles/stay-at-home-s...  ...     []\n",
              "54  https://www.nasdaq.com/articles/get-ready-to-b...  ...     []\n",
              "56  https://www.nasdaq.com/articles/this-decades-s...  ...     []\n",
              "58  https://www.nasdaq.com/articles/enbridge-enb-o...  ...     []\n",
              "51  https://www.nasdaq.com/articles/4-top-stock-tr...  ...     []\n",
              "59  https://www.nasdaq.com/articles/dominion-energ...  ...     []\n",
              "8   https://www.nasdaq.com/articles/canaccord-pred...  ...     []\n",
              "7   https://www.nasdaq.com/articles/getting-in-the...  ...     []\n",
              "60  https://www.nasdaq.com/articles/united-parcel-...  ...     []\n",
              "5   https://www.nasdaq.com/articles/3-high-yield-s...  ...     []\n",
              "50  https://www.nasdaq.com/articles/wall-street-ba...  ...     []\n",
              "47  https://www.nasdaq.com/articles/the-case-again...  ...     []\n",
              "48  https://www.nasdaq.com/articles/2-picks-in-the...  ...     []\n",
              "44  https://www.nasdaq.com/articles/bank-of-americ...  ...     []\n",
              "43  https://www.nasdaq.com/articles/wells-fargo-wf...  ...     []\n",
              "42  https://www.nasdaq.com/articles/delta-airlines...  ...     []\n",
              "41  https://www.nasdaq.com/articles/why-cloudflare...  ...     []\n",
              "39  https://www.nasdaq.com/articles/what-apple-aap...  ...     []\n",
              "6   https://www.nasdaq.com/articles/making-a-portf...  ...     []\n",
              "40  https://www.nasdaq.com/articles/3-top-5g-stock...  ...     []\n",
              "1   https://www.nasdaq.com/articles/adena-friedman...  ...     []\n",
              "0   https://www.nasdaq.com/articles/nasdaqs-johan-...  ...     []\n",
              "\n",
              "[28 rows x 7 columns]"
            ]
          },
          "metadata": {
            "tags": []
          },
          "execution_count": 22
        }
      ]
    },
    {
      "cell_type": "code",
      "metadata": {
        "id": "QBgMFaHxj5Fs",
        "outputId": "9ce92a48-01c9-4837-d8d7-033bf29234e9",
        "colab": {
          "base_uri": "https://localhost:8080/",
          "height": 16
        }
      },
      "source": [
        "# convert to a csv file\n",
        "from google.colab import files\n",
        "df_dates.to_csv('NDX_news_headlines_accessed_2020-10-18.csv') \n",
        "files.download('NDX_news_headlines_accessed_2020-10-18.csv')\n"
      ],
      "execution_count": 24,
      "outputs": [
        {
          "output_type": "display_data",
          "data": {
            "application/javascript": [
              "\n",
              "    async function download(id, filename, size) {\n",
              "      if (!google.colab.kernel.accessAllowed) {\n",
              "        return;\n",
              "      }\n",
              "      const div = document.createElement('div');\n",
              "      const label = document.createElement('label');\n",
              "      label.textContent = `Downloading \"${filename}\": `;\n",
              "      div.appendChild(label);\n",
              "      const progress = document.createElement('progress');\n",
              "      progress.max = size;\n",
              "      div.appendChild(progress);\n",
              "      document.body.appendChild(div);\n",
              "\n",
              "      const buffers = [];\n",
              "      let downloaded = 0;\n",
              "\n",
              "      const channel = await google.colab.kernel.comms.open(id);\n",
              "      // Send a message to notify the kernel that we're ready.\n",
              "      channel.send({})\n",
              "\n",
              "      for await (const message of channel.messages) {\n",
              "        // Send a message to notify the kernel that we're ready.\n",
              "        channel.send({})\n",
              "        if (message.buffers) {\n",
              "          for (const buffer of message.buffers) {\n",
              "            buffers.push(buffer);\n",
              "            downloaded += buffer.byteLength;\n",
              "            progress.value = downloaded;\n",
              "          }\n",
              "        }\n",
              "      }\n",
              "      const blob = new Blob(buffers, {type: 'application/binary'});\n",
              "      const a = document.createElement('a');\n",
              "      a.href = window.URL.createObjectURL(blob);\n",
              "      a.download = filename;\n",
              "      div.appendChild(a);\n",
              "      a.click();\n",
              "      div.remove();\n",
              "    }\n",
              "  "
            ],
            "text/plain": [
              "<IPython.core.display.Javascript object>"
            ]
          },
          "metadata": {
            "tags": []
          }
        },
        {
          "output_type": "display_data",
          "data": {
            "application/javascript": [
              "download(\"download_18cba936-8fd1-48b8-bacb-edcb3116b337\", \"NDX_news_headlines_accessed_2020-10-18.csv\", 27809)"
            ],
            "text/plain": [
              "<IPython.core.display.Javascript object>"
            ]
          },
          "metadata": {
            "tags": []
          }
        }
      ]
    },
    {
      "cell_type": "markdown",
      "metadata": {
        "id": "BsEs6ULQvnlm"
      },
      "source": [
        "References: \n",
        "\n",
        "1. [NDX News Headlines](https://www.nasdaq.com/market-activity/index/ndx/news-headlines) accessed 18-October-2020.\n",
        "2. [Quickstart Guide - Newspaper](https://newspaper.readthedocs.io/en/latest/user_guide/quickstart.html#extracting-articles) accessed 18-October-2020.\n",
        "3. [Scraping articles about stocks](http://theautomatic.net/2017/08/24/scraping-articles-about-stocks/) accessed 18-October-2020.\n",
        "4. [Scrape and Summarize News Articles by Computer Science](https://www.youtube.com/watch?v=YzMA2O_v5co&t=451s) accessed 18-October-2020.\n"
      ]
    }
  ]
}