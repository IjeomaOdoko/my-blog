{
  "nbformat": 4,
  "nbformat_minor": 0,
  "metadata": {
    "colab": {
      "name": "Scrape and Summarize News Articles about Stocks.ipynb",
      "provenance": [],
      "collapsed_sections": []
    },
    "kernelspec": {
      "name": "python3",
      "display_name": "Python 3"
    }
  },
  "cells": [
    {
      "cell_type": "markdown",
      "metadata": {
        "id": "YL9rYP3jpYtJ"
      },
      "source": [
        "# \"Scrape and Summarize News Articles using Python\"\n",
        "\n",
        "> \"Original post created 18-October-2020. Updated 23-October-2020.\"\n",
        "\n",
        "- toc: false\n",
        "- branch: master\n",
        "- badges: true\n",
        "- comments: true\n",
        "- author: Ijeoma Odoko\n",
        "- categories: [python, nlp, scrape_website]"
      ]
    },
    {
      "cell_type": "markdown",
      "metadata": {
        "id": "plveqN5w0_dR"
      },
      "source": [
        "## About "
      ]
    },
    {
      "cell_type": "markdown",
      "metadata": {
        "id": "_EaDsqw4-me4"
      },
      "source": [
        "This project will scrape and summarize news articles using nltk and newspaper3K python libraries. \n",
        "\n",
        "We will try to download a summary of all the articles based on the news headlines for a particular ticker symbol in this case 'NDX' (the NASDAQ-100 index) from the [Nasdaq website.](https://www.nasdaq.com/)\n",
        "\n",
        "To go to the url for a specific ticker simply replace the **ticker value** with your ticker of choice. \n",
        "\n",
        "http://www.nasdaq.com/symbol/**ndx**/news-headlines\n"
      ]
    },
    {
      "cell_type": "markdown",
      "metadata": {
        "id": "dgkzKMtk-7jM"
      },
      "source": [
        "## Install Required Libraries"
      ]
    },
    {
      "cell_type": "code",
      "metadata": {
        "id": "a-zJkUpz9ikQ",
        "outputId": "c3747af4-e80d-41f2-d41d-9977192e0fa0",
        "colab": {
          "base_uri": "https://localhost:8080/",
          "height": 958
        }
      },
      "source": [
        "# install required libraries \n",
        "\n",
        "!pip install nltk\n",
        "!pip install newspaper3k"
      ],
      "execution_count": null,
      "outputs": [
        {
          "output_type": "stream",
          "text": [
            "Requirement already satisfied: nltk in /usr/local/lib/python3.6/dist-packages (3.2.5)\n",
            "Requirement already satisfied: six in /usr/local/lib/python3.6/dist-packages (from nltk) (1.15.0)\n",
            "Collecting newspaper3k\n",
            "\u001b[?25l  Downloading https://files.pythonhosted.org/packages/d7/b9/51afecb35bb61b188a4b44868001de348a0e8134b4dfa00ffc191567c4b9/newspaper3k-0.2.8-py3-none-any.whl (211kB)\n",
            "\u001b[K     |████████████████████████████████| 215kB 6.5MB/s \n",
            "\u001b[?25hCollecting tinysegmenter==0.3\n",
            "  Downloading https://files.pythonhosted.org/packages/17/82/86982e4b6d16e4febc79c2a1d68ee3b707e8a020c5d2bc4af8052d0f136a/tinysegmenter-0.3.tar.gz\n",
            "Requirement already satisfied: nltk>=3.2.1 in /usr/local/lib/python3.6/dist-packages (from newspaper3k) (3.2.5)\n",
            "Collecting tldextract>=2.0.1\n",
            "\u001b[?25l  Downloading https://files.pythonhosted.org/packages/5d/c3/f4e90ae5b7dd02257c3b9dfb6747aba0b8a9c788f5401700fda055e814fc/tldextract-3.0.1-py2.py3-none-any.whl (86kB)\n",
            "\u001b[K     |████████████████████████████████| 92kB 5.2MB/s \n",
            "\u001b[?25hCollecting feedfinder2>=0.0.4\n",
            "  Downloading https://files.pythonhosted.org/packages/35/82/1251fefec3bb4b03fd966c7e7f7a41c9fc2bb00d823a34c13f847fd61406/feedfinder2-0.0.4.tar.gz\n",
            "Requirement already satisfied: PyYAML>=3.11 in /usr/local/lib/python3.6/dist-packages (from newspaper3k) (3.13)\n",
            "Requirement already satisfied: requests>=2.10.0 in /usr/local/lib/python3.6/dist-packages (from newspaper3k) (2.23.0)\n",
            "Requirement already satisfied: Pillow>=3.3.0 in /usr/local/lib/python3.6/dist-packages (from newspaper3k) (7.0.0)\n",
            "Collecting jieba3k>=0.35.1\n",
            "\u001b[?25l  Downloading https://files.pythonhosted.org/packages/a9/cb/2c8332bcdc14d33b0bedd18ae0a4981a069c3513e445120da3c3f23a8aaa/jieba3k-0.35.1.zip (7.4MB)\n",
            "\u001b[K     |████████████████████████████████| 7.4MB 7.1MB/s \n",
            "\u001b[?25hCollecting feedparser>=5.2.1\n",
            "\u001b[?25l  Downloading https://files.pythonhosted.org/packages/2c/84/df6de99cba01afc82344c9cb3a79df100a00ac33396120f8aa66c72f0d84/feedparser-6.0.1-py2.py3-none-any.whl (80kB)\n",
            "\u001b[K     |████████████████████████████████| 81kB 10.7MB/s \n",
            "\u001b[?25hCollecting cssselect>=0.9.2\n",
            "  Downloading https://files.pythonhosted.org/packages/3b/d4/3b5c17f00cce85b9a1e6f91096e1cc8e8ede2e1be8e96b87ce1ed09e92c5/cssselect-1.1.0-py2.py3-none-any.whl\n",
            "Requirement already satisfied: lxml>=3.6.0 in /usr/local/lib/python3.6/dist-packages (from newspaper3k) (4.2.6)\n",
            "Requirement already satisfied: python-dateutil>=2.5.3 in /usr/local/lib/python3.6/dist-packages (from newspaper3k) (2.8.1)\n",
            "Requirement already satisfied: beautifulsoup4>=4.4.1 in /usr/local/lib/python3.6/dist-packages (from newspaper3k) (4.6.3)\n",
            "Requirement already satisfied: six in /usr/local/lib/python3.6/dist-packages (from nltk>=3.2.1->newspaper3k) (1.15.0)\n",
            "Requirement already satisfied: filelock>=3.0.8 in /usr/local/lib/python3.6/dist-packages (from tldextract>=2.0.1->newspaper3k) (3.0.12)\n",
            "Collecting requests-file>=1.4\n",
            "  Downloading https://files.pythonhosted.org/packages/77/86/cdb5e8eaed90796aa83a6d9f75cfbd37af553c47a291cd47bc410ef9bdb2/requests_file-1.5.1-py2.py3-none-any.whl\n",
            "Requirement already satisfied: idna in /usr/local/lib/python3.6/dist-packages (from tldextract>=2.0.1->newspaper3k) (2.10)\n",
            "Requirement already satisfied: certifi>=2017.4.17 in /usr/local/lib/python3.6/dist-packages (from requests>=2.10.0->newspaper3k) (2020.6.20)\n",
            "Requirement already satisfied: chardet<4,>=3.0.2 in /usr/local/lib/python3.6/dist-packages (from requests>=2.10.0->newspaper3k) (3.0.4)\n",
            "Requirement already satisfied: urllib3!=1.25.0,!=1.25.1,<1.26,>=1.21.1 in /usr/local/lib/python3.6/dist-packages (from requests>=2.10.0->newspaper3k) (1.24.3)\n",
            "Collecting sgmllib3k\n",
            "  Downloading https://files.pythonhosted.org/packages/9e/bd/3704a8c3e0942d711c1299ebf7b9091930adae6675d7c8f476a7ce48653c/sgmllib3k-1.0.0.tar.gz\n",
            "Building wheels for collected packages: tinysegmenter, feedfinder2, jieba3k, sgmllib3k\n",
            "  Building wheel for tinysegmenter (setup.py) ... \u001b[?25l\u001b[?25hdone\n",
            "  Created wheel for tinysegmenter: filename=tinysegmenter-0.3-cp36-none-any.whl size=13538 sha256=21d80e684d759950290a5522214b146594a5846d32b0ca24500b2fddca70553e\n",
            "  Stored in directory: /root/.cache/pip/wheels/81/2b/43/a02ede72324dd40cdd7ca53aad718c7710628e91b8b0dc0f02\n",
            "  Building wheel for feedfinder2 (setup.py) ... \u001b[?25l\u001b[?25hdone\n",
            "  Created wheel for feedfinder2: filename=feedfinder2-0.0.4-cp36-none-any.whl size=3355 sha256=f080f14c61ae68c7a747068c93d0abf2acb08950d0cae3dc16a21a1857a781d1\n",
            "  Stored in directory: /root/.cache/pip/wheels/de/03/ca/778e3a7a627e3d98836cc890e7cb40c7575424cfd3340f40ed\n",
            "  Building wheel for jieba3k (setup.py) ... \u001b[?25l\u001b[?25hdone\n",
            "  Created wheel for jieba3k: filename=jieba3k-0.35.1-cp36-none-any.whl size=7398406 sha256=a36c59aa31ede8f68ac300bf99f8eed3d23c555646fcd8d810de80648a540526\n",
            "  Stored in directory: /root/.cache/pip/wheels/83/15/9c/a3f1f67e7f7181170ad37d32e503c35da20627c013f438ed34\n",
            "  Building wheel for sgmllib3k (setup.py) ... \u001b[?25l\u001b[?25hdone\n",
            "  Created wheel for sgmllib3k: filename=sgmllib3k-1.0.0-cp36-none-any.whl size=6067 sha256=65eb0a2526fecb90fd3c1fb03c6fb531514631316c5b46f960ac526206787c77\n",
            "  Stored in directory: /root/.cache/pip/wheels/f1/80/5a/444ba08a550cdd241bd9baf8bae44be750efe370adb944506a\n",
            "Successfully built tinysegmenter feedfinder2 jieba3k sgmllib3k\n",
            "Installing collected packages: tinysegmenter, requests-file, tldextract, feedfinder2, jieba3k, sgmllib3k, feedparser, cssselect, newspaper3k\n",
            "Successfully installed cssselect-1.1.0 feedfinder2-0.0.4 feedparser-6.0.1 jieba3k-0.35.1 newspaper3k-0.2.8 requests-file-1.5.1 sgmllib3k-1.0.0 tinysegmenter-0.3 tldextract-3.0.1\n"
          ],
          "name": "stdout"
        }
      ]
    },
    {
      "cell_type": "code",
      "metadata": {
        "id": "Nz9DlUAr-_eW"
      },
      "source": [
        "import nltk\n",
        "import newspaper\n",
        "import datetime\n",
        "import pandas as pd\n"
      ],
      "execution_count": null,
      "outputs": []
    },
    {
      "cell_type": "markdown",
      "metadata": {
        "id": "cTU3KnBLKEK7"
      },
      "source": [
        "## Load the newspaper articles"
      ]
    },
    {
      "cell_type": "code",
      "metadata": {
        "id": "b0aynVnxCyOj",
        "outputId": "f4916f1c-dc82-458f-97b7-53905ded2e80",
        "colab": {
          "base_uri": "https://localhost:8080/",
          "height": 1000
        }
      },
      "source": [
        "  ndx_news = newspaper.build('https://www.nasdaq.com/market-activity/index/ndx/news-headlines')\n",
        "\n",
        "  for article in ndx_news.articles:\n",
        "    print(article.url)"
      ],
      "execution_count": null,
      "outputs": [
        {
          "output_type": "stream",
          "text": [
            "http://ir.nasdaq.com/Income-Statement-Trend-Summary-and-GAAP-to-Non-GAAP-Reconciliation\n",
            "http://ir.nasdaq.com/events/event-details/barclays-global-financial-services-conference-2020\n",
            "http://ir.nasdaq.com/events/event-details/ubs-virtual-financial-services-conference-2020\n",
            "https://www.nasdaq.com/videos/tradetalks%3A-what-trends-will-dominate-the-next-decade\n",
            "https://www.nasdaq.com/videos/can-stock-picking-ever-be-fun-again\n",
            "https://www.nasdaq.com/videos/tradetalks%3A-how-will-2020-impact-investment-portfolios\n",
            "https://www.nasdaq.com/videos/tradetalks%3A-the-toys-for-tots-campaign-for-holiday-2020\n",
            "https://www.nasdaq.com/videos/tradetalks%3A-the-launch-of-jaaa-and-democratizing-access-to-clos\n",
            "https://www.nasdaq.com/videos/tradetalks%3A-what-paypals-cryptocurrency-means-for-growth-in-the-space\n",
            "https://www.nasdaq.com/videos/tradetalks%3A-how-do-franchise-businesses-properly-open-while-protecting-staff-and-customers\n",
            "https://www.nasdaq.com/videos/tradetalks%3A-volatility-around-elections-is-normal\n",
            "https://www.nasdaq.com/videos/tradetalks%3A-finding-the-best-credit-card-for-you-credit-best-practices-and-rewards-trends\n",
            "https://www.nasdaq.com/videos/investing-strategies%3A-crowdstrike-ceo-insights-how-to-handle-election-2020-market-volatility\n",
            "https://www.nasdaq.com/videos/investing-strategies%3A-long-term-investing%3A-tips-to-maximize-returns-as-you-set-and-forget\n",
            "https://www.nasdaq.com/videos/investing-strategies%3A-election-2020%3A-how-to-handle-your-portfolio-amid-market-moving\n",
            "https://www.nasdaq.com/videos/investing-strategies%3A-crowdstrike-ceo-on-security-software-leadership-work-from-anywhere\n",
            "https://www.nasdaq.com/videos/investing-strategies%3A-one-on-one-with-cadence-ceo-a-look-at-blank-check-ipos-analysis-of\n",
            "https://www.nasdaq.com/videos/investing-strategies%3A-top-stocks-to-watch%3A-cadence-ceo-on-track-record-of-innovation-growth\n",
            "https://www.nasdaq.com/videos/investing-strategies%3A-virgin-galactic-draftkings-nikola-whats-next-everything-you-need-to\n",
            "https://www.nasdaq.com/videos/investing-strategies%3A-analyzing-strength-of-large-cap-tech-stocks-in-current-bull-market\n",
            "https://www.nasdaq.com/videos/investing-strategies%3A-health-care-trends-to-watch-with-medical-sector-on-the-move\n",
            "https://www.nasdaq.com/videos/investing-strategies%3A-trader-education%3A-ibds-top-investing-rules-for-beginners\n",
            "https://www.nasdaq.com/videos/how-clean-is-the-fashion-industry\n",
            "https://www.nasdaq.com/videos/whiskey-as-a-covid-19-hedge\n",
            "https://www.nasdaq.com/videos/a-cyclical-move-overall-in-the-markets-is-afoot-bofas-hyzy-says\n",
            "https://www.nasdaq.com/videos/ignoring-science-led-to-over-200000-u.s.-deaths%3A-johns-hopkins\n",
            "https://www.nasdaq.com/videos/markets-undergoing-a-reality-check%3A-fidelitys-richards\n",
            "https://www.nasdaq.com/videos/its-getting-tougher-for-opec-to-cut-oil-output%3A-nomura\n",
            "https://www.nasdaq.com/news-and-insights/in-the-money-with-fidelity-investments-dan-nathan\n",
            "https://www.nasdaq.com/articles/iphone-12-could-be-a-tailwind-for-apples-accessories-segment-says-analyst-2020-10-23\n",
            "https://www.nasdaq.com/articles/covid-19-is-driving-a-surge-in-e-commerce-ad-spending-2020-10-23\n",
            "https://www.nasdaq.com/articles/the-pandemic-shopping-list%3A-dolls-detergent-and-campers-2020-10-23\n",
            "https://www.nasdaq.com/articles/the-advantages-of-blockchain-over-traditional-payments-2020-10-23\n",
            "https://www.nasdaq.com/articles/forget-5g%3A-this-tech-stock-trend-is-generating-even-bigger-returns-2020-10-23\n",
            "https://www.nasdaq.com/articles/whats-happening-with-moderna-stock-2020-10-19\n",
            "https://www.nasdaq.com/articles/3-top-5g-stocks-to-buy-right-now-2020-10-09\n",
            "https://www.nasdaq.com/articles/3-high-yield-stocks-at-rock-bottom-prices-2020-10-16\n",
            "https://www.nasdaq.com/articles/workhorse-stock-could-skyrocket-on-a-u.s.-postal-service-contract-2020-10-16\n",
            "https://www.nasdaq.com/articles/intel-intc-3rd-quarter-earnings%3A-what-to-expect-2020-10-22\n",
            "https://www.nasdaq.com/articles/microsoft-msft-1st-quarter-earnings%3A-what-to-expect-2020-10-21\n",
            "https://www.nasdaq.com/articles/tesla-tsla-3rd-quarter-earnings%3A-what-to-expect-2020-10-21\n",
            "https://www.nasdaq.com/articles/netflix-nflx-3rd-quarter-earnings%3A-what-to-expect-2020-10-20\n",
            "https://www.nasdaq.com/articles/is-the-market-reaction-to-intels-intc-earnings-overdone-2020-10-23\n",
            "https://www.nasdaq.com/articles/the-market-is-focused-on-stimulus-will-it-come-soon-or-at-all-2020-10-22\n",
            "https://www.nasdaq.com/articles/the-reaction-to-netflixs-nflx-earnings%3A-deja-vu-all-over-again-2020-10-21\n",
            "https://www.nasdaq.com/articles/u.s.-debt%3A-the-elephant-in-the-room-that-keeps-growing-2020-10-19\n",
            "https://www.nasdaq.com/articles/daily-markets%3A-stocks-could-hinge-on-news-from-washington-on-stimulus-or-lack-thereof-2020\n",
            "https://www.nasdaq.com/articles/wall-st-week-ahead-more-u.s.-companies-offer-earnings-guidance-despite-pandemic-2020-10-23\n",
            "https://www.nasdaq.com/articles/why-investors-should-be-upbeat-about-exxon-mobil-2020-10-21\n",
            "https://www.nasdaq.com/articles/top-stock-trades-for-thursday%3A-snap-fb-pins-pypl-2020-10-21\n",
            "https://www.nasdaq.com/articles/plug-workhorse-stock-into-your-trading-portfolio-because-it-is-electric-2020-10-21\n",
            "https://www.nasdaq.com/articles/how-good-is-the-surf-in-ocean-power-technologies-stock-2020-10-21\n",
            "https://www.nasdaq.com/articles/bp-bp-stock-sinks-as-market-gains%3A-what-you-should-know-2020-10-23\n",
            "https://www.nasdaq.com/articles/target-tgt-outpaces-stock-market-gains%3A-what-you-should-know-2020-10-23\n",
            "https://www.nasdaq.com/articles/united-parcel-service-ups-stock-sinks-as-market-gains%3A-what-you-should-know-2020-10-23\n",
            "https://www.nasdaq.com/articles/hanesbrands-hbi-stock-sinks-as-market-gains%3A-what-you-should-know-2020-10-23\n",
            "https://www.nasdaq.com/articles/dominion-energy-d-stock-sinks-as-market-gains%3A-what-you-should-know-2020-10-23\n",
            "https://www.nasdaq.com/articles/noble-midstream-partners-nblx-stock-sinks-as-market-gains%3A-what-you-should-know-2020-10-23\n",
            "https://www.nasdaq.com/articles/ciena-cien-stock-sinks-as-market-gains%3A-what-you-should-know-2020-10-23\n",
            "https://www.nasdaq.com/articles/enbridge-enb-stock-sinks-as-market-gains%3A-what-you-should-know-2020-10-23\n",
            "https://www.nasdaq.com/articles/nasdaqs-johan-toll-wins-fintech-person-year-2018-05-16\n",
            "https://www.nasdaq.com/articles/adena-friedman%3A-esg-ai-cryptocurrency-in-focus-at-davos-2019-01-21\n",
            "https://www.nasdaq.com/article/invesco-qqq-celebrates-20-years-of-curating-innovation-cm1112647?utm_source=Nasdaq_LINKEDIN_COMPANY_2185074219&utm_medium=QQQ%20anniversary%20__%20%C2%A0\n",
            "https://www.nasdaq.com/solutions/midpoint-extended-life-order-m-elo\n"
          ],
          "name": "stdout"
        }
      ]
    },
    {
      "cell_type": "code",
      "metadata": {
        "id": "kABKRhpgd7XQ",
        "outputId": "b0559d8b-0290-424c-b414-6ba0a9c967c0",
        "colab": {
          "base_uri": "https://localhost:8080/",
          "height": 265
        }
      },
      "source": [
        "# extract source categories\n",
        "for category in ndx_news.category_urls():\n",
        "  print(category)"
      ],
      "execution_count": null,
      "outputs": [
        {
          "output_type": "stream",
          "text": [
            "https://www.nasdaq.com/market-activity/index/ndx/news-headlines\n",
            "https://www.nasdaq.com/mediakit\n",
            "https://www.nasdaq.com/GlobalIndexes\n",
            "https://www.nasdaq.com/TotalMarkets\n",
            "https://www.nasdaq.com/marketsite\n",
            "http://ir.nasdaq.com\n",
            "https://www.nasdaq.com/public-policy\n",
            "https://www.nasdaq.com/videos\n",
            "https://www.nasdaq.com\n",
            "https://www.nasdaq.com/symbol\n",
            "https://www.nasdaq.com/solutions\n",
            "https://portfolio.nasdaq.com\n",
            "https://www.nasdaq.com/trust-center\n",
            "https://www.nasdaq.com/ESG-Guide\n"
          ],
          "name": "stdout"
        }
      ]
    },
    {
      "cell_type": "code",
      "metadata": {
        "id": "uVh1KYvSICLD",
        "outputId": "6cdd9c80-7ba6-4391-d380-153894bcb4d7",
        "colab": {
          "base_uri": "https://localhost:8080/",
          "height": 52
        }
      },
      "source": [
        "ndx_article = ndx_news.articles[0]\n",
        "ndx_article.download()\n",
        "ndx_article.parse()\n",
        "nltk.download('punkt')\n",
        "ndx_article.nlp()"
      ],
      "execution_count": null,
      "outputs": [
        {
          "output_type": "stream",
          "text": [
            "[nltk_data] Downloading package punkt to /root/nltk_data...\n",
            "[nltk_data]   Unzipping tokenizers/punkt.zip.\n"
          ],
          "name": "stdout"
        }
      ]
    },
    {
      "cell_type": "code",
      "metadata": {
        "id": "sCYp7lNLI3PU",
        "outputId": "00a93d55-0910-4007-99d2-95f5b41ed65f",
        "colab": {
          "base_uri": "https://localhost:8080/",
          "height": 35
        }
      },
      "source": [
        "ndx_article.summary"
      ],
      "execution_count": null,
      "outputs": [
        {
          "output_type": "execute_result",
          "data": {
            "application/vnd.google.colaboratory.intrinsic+json": {
              "type": "string"
            },
            "text/plain": [
              "''"
            ]
          },
          "metadata": {
            "tags": []
          },
          "execution_count": 6
        }
      ]
    },
    {
      "cell_type": "code",
      "metadata": {
        "id": "I4fKlY_oJCYP",
        "outputId": "c17bd981-d40b-4a49-a05d-3b731fd71622",
        "colab": {
          "base_uri": "https://localhost:8080/",
          "height": 141
        }
      },
      "source": [
        "ndx_article.keywords"
      ],
      "execution_count": null,
      "outputs": [
        {
          "output_type": "execute_result",
          "data": {
            "text/plain": [
              "['nongaap',\n",
              " 'trend',\n",
              " 'income',\n",
              " 'gaap',\n",
              " 'summary',\n",
              " 'reconciliation',\n",
              " 'statement']"
            ]
          },
          "metadata": {
            "tags": []
          },
          "execution_count": 7
        }
      ]
    },
    {
      "cell_type": "code",
      "metadata": {
        "id": "dYonpyvmJMMQ"
      },
      "source": [
        "ndx_article.publish_date"
      ],
      "execution_count": null,
      "outputs": []
    },
    {
      "cell_type": "code",
      "metadata": {
        "id": "dkVW9nDEByxI",
        "outputId": "5559849d-b988-477d-8b05-988286626803",
        "colab": {
          "base_uri": "https://localhost:8080/",
          "height": 34
        }
      },
      "source": [
        "ndx_article.authors"
      ],
      "execution_count": null,
      "outputs": [
        {
          "output_type": "execute_result",
          "data": {
            "text/plain": [
              "[]"
            ]
          },
          "metadata": {
            "tags": []
          },
          "execution_count": 9
        }
      ]
    },
    {
      "cell_type": "code",
      "metadata": {
        "id": "hTJ0_5vYCIzW",
        "outputId": "8b7276af-7db9-41e9-93a5-24f0321a0ee1",
        "colab": {
          "base_uri": "https://localhost:8080/",
          "height": 35
        }
      },
      "source": [
        "ndx_article.title"
      ],
      "execution_count": null,
      "outputs": [
        {
          "output_type": "execute_result",
          "data": {
            "application/vnd.google.colaboratory.intrinsic+json": {
              "type": "string"
            },
            "text/plain": [
              "'Income Statement Trend Summary and GAAP to Non-GAAP Reconciliation'"
            ]
          },
          "metadata": {
            "tags": []
          },
          "execution_count": 10
        }
      ]
    },
    {
      "cell_type": "markdown",
      "metadata": {
        "id": "owOI2vvCKLdT"
      },
      "source": [
        "## Create Dataframe for the articles \n",
        "\n"
      ]
    },
    {
      "cell_type": "code",
      "metadata": {
        "id": "3Ak0yuNiKNhl"
      },
      "source": [
        "url = []\n",
        "keywords = []\n",
        "title = []\n",
        "published =[]\n",
        "summary = []\n",
        "authors=[]\n",
        "videos = []\n",
        "\n",
        "\n",
        "for article in ndx_news.articles:\n",
        "    url.append(article.url)\n",
        "    article.download()\n",
        "    article.parse()\n",
        "    article.nlp()\n",
        "    keywords.append(article.keywords)\n",
        "    title.append(article.title)\n",
        "    published.append(article.publish_date)\n",
        "    summary.append(article.summary)\n",
        "    authors.append(article.authors)\n",
        "    videos.append(article.movies)\n",
        "   \n",
        "\n",
        " "
      ],
      "execution_count": null,
      "outputs": []
    },
    {
      "cell_type": "code",
      "metadata": {
        "id": "w8P0matfSJ5n",
        "outputId": "f5ffaa56-583f-4881-a9d9-bfbed23693b1",
        "colab": {
          "base_uri": "https://localhost:8080/",
          "height": 34
        }
      },
      "source": [
        "type(url)"
      ],
      "execution_count": null,
      "outputs": [
        {
          "output_type": "execute_result",
          "data": {
            "text/plain": [
              "list"
            ]
          },
          "metadata": {
            "tags": []
          },
          "execution_count": 12
        }
      ]
    },
    {
      "cell_type": "code",
      "metadata": {
        "id": "L1KEHJp4Uipe",
        "outputId": "88e5392c-79b3-4a51-b61c-8ad892ec5345",
        "colab": {
          "base_uri": "https://localhost:8080/",
          "height": 34
        }
      },
      "source": [
        "len(url)"
      ],
      "execution_count": null,
      "outputs": [
        {
          "output_type": "execute_result",
          "data": {
            "text/plain": [
              "64"
            ]
          },
          "metadata": {
            "tags": []
          },
          "execution_count": 13
        }
      ]
    },
    {
      "cell_type": "code",
      "metadata": {
        "id": "xO7kbvDgS75y",
        "outputId": "e8663926-2f6d-48f6-e5dd-c556a0025e11",
        "colab": {
          "base_uri": "https://localhost:8080/",
          "height": 406
        }
      },
      "source": [
        "# convert the lists to dataframe columns\n",
        "data = [url, title, published, authors, summary, keywords, videos] # create list of lists\n",
        "\n",
        "df = pd.DataFrame(data).transpose()  #transpose to get 7 columns instead of 62\n",
        "\n",
        "df.columns=['url', 'title', 'published', 'authors', 'summary', 'keywords', 'videos']  # name the columns\n",
        "\n",
        "df"
      ],
      "execution_count": null,
      "outputs": [
        {
          "output_type": "execute_result",
          "data": {
            "text/html": [
              "<div>\n",
              "<style scoped>\n",
              "    .dataframe tbody tr th:only-of-type {\n",
              "        vertical-align: middle;\n",
              "    }\n",
              "\n",
              "    .dataframe tbody tr th {\n",
              "        vertical-align: top;\n",
              "    }\n",
              "\n",
              "    .dataframe thead th {\n",
              "        text-align: right;\n",
              "    }\n",
              "</style>\n",
              "<table border=\"1\" class=\"dataframe\">\n",
              "  <thead>\n",
              "    <tr style=\"text-align: right;\">\n",
              "      <th></th>\n",
              "      <th>url</th>\n",
              "      <th>title</th>\n",
              "      <th>published</th>\n",
              "      <th>authors</th>\n",
              "      <th>summary</th>\n",
              "      <th>keywords</th>\n",
              "      <th>videos</th>\n",
              "    </tr>\n",
              "  </thead>\n",
              "  <tbody>\n",
              "    <tr>\n",
              "      <th>0</th>\n",
              "      <td>http://ir.nasdaq.com/Income-Statement-Trend-Su...</td>\n",
              "      <td>Income Statement Trend Summary and GAAP to Non...</td>\n",
              "      <td>NaT</td>\n",
              "      <td>[]</td>\n",
              "      <td></td>\n",
              "      <td>[nongaap, trend, income, gaap, summary, reconc...</td>\n",
              "      <td>[]</td>\n",
              "    </tr>\n",
              "    <tr>\n",
              "      <th>1</th>\n",
              "      <td>http://ir.nasdaq.com/events/event-details/barc...</td>\n",
              "      <td>Barclays Global Financial Services Conference ...</td>\n",
              "      <td>NaT</td>\n",
              "      <td>[]</td>\n",
              "      <td></td>\n",
              "      <td>[financial, services, barclays, 2020, global, ...</td>\n",
              "      <td>[]</td>\n",
              "    </tr>\n",
              "    <tr>\n",
              "      <th>2</th>\n",
              "      <td>http://ir.nasdaq.com/events/event-details/ubs-...</td>\n",
              "      <td>UBS Virtual Financial Services Conference 2020</td>\n",
              "      <td>NaT</td>\n",
              "      <td>[]</td>\n",
              "      <td></td>\n",
              "      <td>[financial, services, ubs, virtual, 2020, conf...</td>\n",
              "      <td>[]</td>\n",
              "    </tr>\n",
              "    <tr>\n",
              "      <th>3</th>\n",
              "      <td>https://www.nasdaq.com/videos/tradetalks%3A-wh...</td>\n",
              "      <td>#TradeTalks: What Trends Will Dominate the Nex...</td>\n",
              "      <td>NaT</td>\n",
              "      <td>[]</td>\n",
              "      <td>Caleb Silver from Investopedia returns to #Tra...</td>\n",
              "      <td>[investopedia, silver, decade, tradetalks, ret...</td>\n",
              "      <td>[]</td>\n",
              "    </tr>\n",
              "    <tr>\n",
              "      <th>4</th>\n",
              "      <td>https://www.nasdaq.com/videos/can-stock-pickin...</td>\n",
              "      <td>Can Stock Picking Ever be Fun Again?</td>\n",
              "      <td>NaT</td>\n",
              "      <td>[]</td>\n",
              "      <td>Michael Holland, Holland &amp; Co. founder, talks ...</td>\n",
              "      <td>[picking, surveillance, strategy, stock, bloom...</td>\n",
              "      <td>[]</td>\n",
              "    </tr>\n",
              "    <tr>\n",
              "      <th>...</th>\n",
              "      <td>...</td>\n",
              "      <td>...</td>\n",
              "      <td>...</td>\n",
              "      <td>...</td>\n",
              "      <td>...</td>\n",
              "      <td>...</td>\n",
              "      <td>...</td>\n",
              "    </tr>\n",
              "    <tr>\n",
              "      <th>59</th>\n",
              "      <td>https://www.nasdaq.com/articles/enbridge-enb-s...</td>\n",
              "      <td>Enbridge (ENB) Stock Sinks As Market Gains: Wh...</td>\n",
              "      <td>2020-10-23</td>\n",
              "      <td>[Zacks Equity Research]</td>\n",
              "      <td>In the latest trading session, Enbridge (ENB) ...</td>\n",
              "      <td>[sinks, enbridge, ratio, enb, stock, estimate,...</td>\n",
              "      <td>[]</td>\n",
              "    </tr>\n",
              "    <tr>\n",
              "      <th>60</th>\n",
              "      <td>https://www.nasdaq.com/articles/nasdaqs-johan-...</td>\n",
              "      <td>Nasdaq's Johan Toll Wins FinTech Person of the...</td>\n",
              "      <td>2018-05-16</td>\n",
              "      <td>[]</td>\n",
              "      <td>Johan Toll, head of Blockchain Product Managem...</td>\n",
              "      <td>[markets, johan, financial, nasdaq, toll, trad...</td>\n",
              "      <td>[]</td>\n",
              "    </tr>\n",
              "    <tr>\n",
              "      <th>61</th>\n",
              "      <td>https://www.nasdaq.com/articles/adena-friedman...</td>\n",
              "      <td>Adena Friedman: ESG, AI, Cryptocurrency In Foc...</td>\n",
              "      <td>2019-01-21</td>\n",
              "      <td>[]</td>\n",
              "      <td>The world economy is growing more slowly than ...</td>\n",
              "      <td>[focus, markets, public, economic, nasdaq, com...</td>\n",
              "      <td>[]</td>\n",
              "    </tr>\n",
              "    <tr>\n",
              "      <th>62</th>\n",
              "      <td>https://www.nasdaq.com/article/invesco-qqq-cel...</td>\n",
              "      <td>Invesco QQQ Celebrates 20 Years of Curating In...</td>\n",
              "      <td>NaT</td>\n",
              "      <td>[]</td>\n",
              "      <td>Invesco recognizes leading ETF’s long-standing...</td>\n",
              "      <td>[funds, dec, growth, 20, invesco, 2018, rank, ...</td>\n",
              "      <td>[]</td>\n",
              "    </tr>\n",
              "    <tr>\n",
              "      <th>63</th>\n",
              "      <td>https://www.nasdaq.com/solutions/midpoint-exte...</td>\n",
              "      <td>Midpoint Extended Life Order (M-ELO)</td>\n",
              "      <td>NaT</td>\n",
              "      <td>[]</td>\n",
              "      <td>See M-ELO in action and learn moreNasdaq's EVP...</td>\n",
              "      <td>[public, extended, structure, life, services, ...</td>\n",
              "      <td>[]</td>\n",
              "    </tr>\n",
              "  </tbody>\n",
              "</table>\n",
              "<p>64 rows × 7 columns</p>\n",
              "</div>"
            ],
            "text/plain": [
              "                                                  url  ... videos\n",
              "0   http://ir.nasdaq.com/Income-Statement-Trend-Su...  ...     []\n",
              "1   http://ir.nasdaq.com/events/event-details/barc...  ...     []\n",
              "2   http://ir.nasdaq.com/events/event-details/ubs-...  ...     []\n",
              "3   https://www.nasdaq.com/videos/tradetalks%3A-wh...  ...     []\n",
              "4   https://www.nasdaq.com/videos/can-stock-pickin...  ...     []\n",
              "..                                                ...  ...    ...\n",
              "59  https://www.nasdaq.com/articles/enbridge-enb-s...  ...     []\n",
              "60  https://www.nasdaq.com/articles/nasdaqs-johan-...  ...     []\n",
              "61  https://www.nasdaq.com/articles/adena-friedman...  ...     []\n",
              "62  https://www.nasdaq.com/article/invesco-qqq-cel...  ...     []\n",
              "63  https://www.nasdaq.com/solutions/midpoint-exte...  ...     []\n",
              "\n",
              "[64 rows x 7 columns]"
            ]
          },
          "metadata": {
            "tags": []
          },
          "execution_count": 14
        }
      ]
    },
    {
      "cell_type": "markdown",
      "metadata": {
        "id": "tpHHBaxtddP1"
      },
      "source": [
        "## Inspect the data "
      ]
    },
    {
      "cell_type": "code",
      "metadata": {
        "id": "JKPPdpcrNmpP",
        "outputId": "4247b87f-7cc4-4c31-d9a0-7c7d8ee812c8",
        "colab": {
          "base_uri": "https://localhost:8080/",
          "height": 34
        }
      },
      "source": [
        "print(df.loc[0,'summary'])"
      ],
      "execution_count": null,
      "outputs": [
        {
          "output_type": "stream",
          "text": [
            "\n"
          ],
          "name": "stdout"
        }
      ]
    },
    {
      "cell_type": "code",
      "metadata": {
        "id": "bM_qDVcmYo2D",
        "outputId": "01e40ead-0751-4cf0-f733-8206d0cb69f8",
        "colab": {
          "base_uri": "https://localhost:8080/",
          "height": 158
        }
      },
      "source": [
        "for i in df.columns: \n",
        "  print(df.loc[3, i])"
      ],
      "execution_count": null,
      "outputs": [
        {
          "output_type": "stream",
          "text": [
            "https://www.nasdaq.com/videos/tradetalks%3A-what-trends-will-dominate-the-next-decade\n",
            "#TradeTalks: What Trends Will Dominate the Next Decade?\n",
            "NaT\n",
            "[]\n",
            "Caleb Silver from Investopedia returns to #TradeTalks!\n",
            "He and Jill Malandrino go over what trends will dominate in the next decade.\n",
            "['investopedia', 'silver', 'decade', 'tradetalks', 'returns', 'dominate', 'trends', 'malandrino', 'jill', 'caleb']\n",
            "[]\n"
          ],
          "name": "stdout"
        }
      ]
    },
    {
      "cell_type": "code",
      "metadata": {
        "id": "kyr-jHOkdcwB",
        "outputId": "31b0eece-989d-4917-f575-b605d13f7e3a",
        "colab": {
          "base_uri": "https://localhost:8080/",
          "height": 265
        }
      },
      "source": [
        "# check the dataframe info\n",
        "\n",
        "df.info()\n"
      ],
      "execution_count": null,
      "outputs": [
        {
          "output_type": "stream",
          "text": [
            "<class 'pandas.core.frame.DataFrame'>\n",
            "RangeIndex: 64 entries, 0 to 63\n",
            "Data columns (total 7 columns):\n",
            " #   Column     Non-Null Count  Dtype         \n",
            "---  ------     --------------  -----         \n",
            " 0   url        64 non-null     object        \n",
            " 1   title      64 non-null     object        \n",
            " 2   published  32 non-null     datetime64[ns]\n",
            " 3   authors    64 non-null     object        \n",
            " 4   summary    64 non-null     object        \n",
            " 5   keywords   64 non-null     object        \n",
            " 6   videos     64 non-null     object        \n",
            "dtypes: datetime64[ns](1), object(6)\n",
            "memory usage: 3.6+ KB\n"
          ],
          "name": "stdout"
        }
      ]
    },
    {
      "cell_type": "code",
      "metadata": {
        "id": "Gag9Odc1hRES",
        "outputId": "1069a751-b802-4e1c-c4f8-e9a41a70f7c6",
        "colab": {
          "base_uri": "https://localhost:8080/",
          "height": 123
        }
      },
      "source": [
        "df['published'].unique()"
      ],
      "execution_count": null,
      "outputs": [
        {
          "output_type": "execute_result",
          "data": {
            "text/plain": [
              "array([                          'NaT', '2020-10-23T00:00:00.000000000',\n",
              "       '2020-10-19T00:00:00.000000000', '2020-10-09T00:00:00.000000000',\n",
              "       '2020-10-16T00:00:00.000000000', '2020-10-22T00:00:00.000000000',\n",
              "       '2020-10-21T00:00:00.000000000', '2020-10-20T00:00:00.000000000',\n",
              "       '2018-05-16T00:00:00.000000000', '2019-01-21T00:00:00.000000000'],\n",
              "      dtype='datetime64[ns]')"
            ]
          },
          "metadata": {
            "tags": []
          },
          "execution_count": 18
        }
      ]
    },
    {
      "cell_type": "code",
      "metadata": {
        "id": "REFnmUWQh0So",
        "outputId": "1050fd0d-2a96-4588-94ee-9e688ae80661",
        "colab": {
          "base_uri": "https://localhost:8080/",
          "height": 603
        }
      },
      "source": [
        "# check url for rows with no dates downloaded into dataframe\n",
        "df_null = df[df['published'].isnull()]\n",
        "\n",
        "df_null['url']"
      ],
      "execution_count": null,
      "outputs": [
        {
          "output_type": "execute_result",
          "data": {
            "text/plain": [
              "0     http://ir.nasdaq.com/Income-Statement-Trend-Su...\n",
              "1     http://ir.nasdaq.com/events/event-details/barc...\n",
              "2     http://ir.nasdaq.com/events/event-details/ubs-...\n",
              "3     https://www.nasdaq.com/videos/tradetalks%3A-wh...\n",
              "4     https://www.nasdaq.com/videos/can-stock-pickin...\n",
              "5     https://www.nasdaq.com/videos/tradetalks%3A-ho...\n",
              "6     https://www.nasdaq.com/videos/tradetalks%3A-th...\n",
              "7     https://www.nasdaq.com/videos/tradetalks%3A-th...\n",
              "8     https://www.nasdaq.com/videos/tradetalks%3A-wh...\n",
              "9     https://www.nasdaq.com/videos/tradetalks%3A-ho...\n",
              "10    https://www.nasdaq.com/videos/tradetalks%3A-vo...\n",
              "11    https://www.nasdaq.com/videos/tradetalks%3A-fi...\n",
              "12    https://www.nasdaq.com/videos/investing-strate...\n",
              "13    https://www.nasdaq.com/videos/investing-strate...\n",
              "14    https://www.nasdaq.com/videos/investing-strate...\n",
              "15    https://www.nasdaq.com/videos/investing-strate...\n",
              "16    https://www.nasdaq.com/videos/investing-strate...\n",
              "17    https://www.nasdaq.com/videos/investing-strate...\n",
              "18    https://www.nasdaq.com/videos/investing-strate...\n",
              "19    https://www.nasdaq.com/videos/investing-strate...\n",
              "20    https://www.nasdaq.com/videos/investing-strate...\n",
              "21    https://www.nasdaq.com/videos/investing-strate...\n",
              "22    https://www.nasdaq.com/videos/how-clean-is-the...\n",
              "23    https://www.nasdaq.com/videos/whiskey-as-a-cov...\n",
              "24    https://www.nasdaq.com/videos/a-cyclical-move-...\n",
              "25    https://www.nasdaq.com/videos/ignoring-science...\n",
              "26    https://www.nasdaq.com/videos/markets-undergoi...\n",
              "27    https://www.nasdaq.com/videos/its-getting-toug...\n",
              "28    https://www.nasdaq.com/news-and-insights/in-th...\n",
              "46    https://www.nasdaq.com/articles/daily-markets%...\n",
              "62    https://www.nasdaq.com/article/invesco-qqq-cel...\n",
              "63    https://www.nasdaq.com/solutions/midpoint-exte...\n",
              "Name: url, dtype: object"
            ]
          },
          "metadata": {
            "tags": []
          },
          "execution_count": 19
        }
      ]
    },
    {
      "cell_type": "markdown",
      "metadata": {
        "id": "xFq1gRhajjbU"
      },
      "source": [
        "## Download Dataframe to a CSV file"
      ]
    },
    {
      "cell_type": "code",
      "metadata": {
        "id": "yD8ppSP-ik6z",
        "outputId": "8b4af39a-b83a-4da5-b9d1-e49d206bd647",
        "colab": {
          "base_uri": "https://localhost:8080/",
          "height": 1000
        }
      },
      "source": [
        "# get df with dates and sorted with most recent at the top\n",
        "df_dates = df.dropna(subset=['published']).sort_values(by=['published'], inplace=False, ascending=False) #drop rows that did not load the published dates, and sort by date published\n",
        "df_dates"
      ],
      "execution_count": null,
      "outputs": [
        {
          "output_type": "execute_result",
          "data": {
            "text/html": [
              "<div>\n",
              "<style scoped>\n",
              "    .dataframe tbody tr th:only-of-type {\n",
              "        vertical-align: middle;\n",
              "    }\n",
              "\n",
              "    .dataframe tbody tr th {\n",
              "        vertical-align: top;\n",
              "    }\n",
              "\n",
              "    .dataframe thead th {\n",
              "        text-align: right;\n",
              "    }\n",
              "</style>\n",
              "<table border=\"1\" class=\"dataframe\">\n",
              "  <thead>\n",
              "    <tr style=\"text-align: right;\">\n",
              "      <th></th>\n",
              "      <th>url</th>\n",
              "      <th>title</th>\n",
              "      <th>published</th>\n",
              "      <th>authors</th>\n",
              "      <th>summary</th>\n",
              "      <th>keywords</th>\n",
              "      <th>videos</th>\n",
              "    </tr>\n",
              "  </thead>\n",
              "  <tbody>\n",
              "    <tr>\n",
              "      <th>29</th>\n",
              "      <td>https://www.nasdaq.com/articles/iphone-12-coul...</td>\n",
              "      <td>iPhone 12 Could Be a Tailwind for Apple’s Acce...</td>\n",
              "      <td>2020-10-23</td>\n",
              "      <td>[Marty Shtrubel]</td>\n",
              "      <td>Apple’s (AAPL) accessories business might make...</td>\n",
              "      <td>[aapl, tailwind, 12, opinions, feature, access...</td>\n",
              "      <td>[]</td>\n",
              "    </tr>\n",
              "    <tr>\n",
              "      <th>56</th>\n",
              "      <td>https://www.nasdaq.com/articles/dominion-energ...</td>\n",
              "      <td>Dominion Energy (D) Stock Sinks As Market Gain...</td>\n",
              "      <td>2020-10-23</td>\n",
              "      <td>[Zacks Equity Research]</td>\n",
              "      <td>Dominion Energy (D) closed at $81.14 in the la...</td>\n",
              "      <td>[sinks, energy, d, stock, ratio, gains, estima...</td>\n",
              "      <td>[]</td>\n",
              "    </tr>\n",
              "    <tr>\n",
              "      <th>53</th>\n",
              "      <td>https://www.nasdaq.com/articles/target-tgt-out...</td>\n",
              "      <td>Target (TGT) Outpaces Stock Market Gains: What...</td>\n",
              "      <td>2020-10-23</td>\n",
              "      <td>[Zacks Equity Research]</td>\n",
              "      <td>On that day, TGT is projected to report earnin...</td>\n",
              "      <td>[tgt, ratio, stock, estimate, gains, stocks, s...</td>\n",
              "      <td>[]</td>\n",
              "    </tr>\n",
              "    <tr>\n",
              "      <th>52</th>\n",
              "      <td>https://www.nasdaq.com/articles/bp-bp-stock-si...</td>\n",
              "      <td>BP (BP) Stock Sinks As Market Gains: What You ...</td>\n",
              "      <td>2020-10-23</td>\n",
              "      <td>[Zacks Equity Research]</td>\n",
              "      <td>In the latest trading session, BP (BP) closed ...</td>\n",
              "      <td>[sinks, reflect, revisions, stock, estimate, g...</td>\n",
              "      <td>[]</td>\n",
              "    </tr>\n",
              "    <tr>\n",
              "      <th>47</th>\n",
              "      <td>https://www.nasdaq.com/articles/wall-st-week-a...</td>\n",
              "      <td>Wall St Week Ahead-More U.S. companies offer e...</td>\n",
              "      <td>2020-10-23</td>\n",
              "      <td>[David Randall]</td>\n",
              "      <td>By David RandallNEW YORK, Oct 23 (Reuters) - W...</td>\n",
              "      <td>[sp, investors, far, week, offer, pandemic, re...</td>\n",
              "      <td>[]</td>\n",
              "    </tr>\n",
              "    <tr>\n",
              "      <th>30</th>\n",
              "      <td>https://www.nasdaq.com/articles/covid-19-is-dr...</td>\n",
              "      <td>COVID-19 Is Driving a Surge in E-Commerce Ad S...</td>\n",
              "      <td>2020-10-23</td>\n",
              "      <td>[Evan Niu]</td>\n",
              "      <td>That's also causing a related surge in ad spen...</td>\n",
              "      <td>[covid19, surge, fool, ad, revenue, ecommerce,...</td>\n",
              "      <td>[]</td>\n",
              "    </tr>\n",
              "    <tr>\n",
              "      <th>42</th>\n",
              "      <td>https://www.nasdaq.com/articles/is-the-market-...</td>\n",
              "      <td>Is the Market Reaction to Intel's (INTC) Earni...</td>\n",
              "      <td>2020-10-23</td>\n",
              "      <td>[]</td>\n",
              "      <td>It is not unusual for a stock to fall followin...</td>\n",
              "      <td>[stock, good, growth, revenue, intc, billion, ...</td>\n",
              "      <td>[]</td>\n",
              "    </tr>\n",
              "    <tr>\n",
              "      <th>55</th>\n",
              "      <td>https://www.nasdaq.com/articles/hanesbrands-hb...</td>\n",
              "      <td>HanesBrands (HBI) Stock Sinks As Market Gains:...</td>\n",
              "      <td>2020-10-23</td>\n",
              "      <td>[Zacks Equity Research]</td>\n",
              "      <td>In the latest trading session, HanesBrands (HB...</td>\n",
              "      <td>[sinks, trading, hbi, stock, stocks, gains, ra...</td>\n",
              "      <td>[]</td>\n",
              "    </tr>\n",
              "    <tr>\n",
              "      <th>54</th>\n",
              "      <td>https://www.nasdaq.com/articles/united-parcel-...</td>\n",
              "      <td>United Parcel Service (UPS) Stock Sinks As Mar...</td>\n",
              "      <td>2020-10-23</td>\n",
              "      <td>[Zacks Equity Research]</td>\n",
              "      <td>United Parcel Service (UPS) closed at $171.90 ...</td>\n",
              "      <td>[sinks, service, transportation, ratio, gained...</td>\n",
              "      <td>[]</td>\n",
              "    </tr>\n",
              "    <tr>\n",
              "      <th>57</th>\n",
              "      <td>https://www.nasdaq.com/articles/noble-midstrea...</td>\n",
              "      <td>Noble Midstream Partners (NBLX) Stock Sinks As...</td>\n",
              "      <td>2020-10-23</td>\n",
              "      <td>[Zacks Equity Research]</td>\n",
              "      <td>Noble Midstream Partners (NBLX) closed at $9.0...</td>\n",
              "      <td>[sinks, trading, revisions, stock, estimate, g...</td>\n",
              "      <td>[]</td>\n",
              "    </tr>\n",
              "    <tr>\n",
              "      <th>58</th>\n",
              "      <td>https://www.nasdaq.com/articles/ciena-cien-sto...</td>\n",
              "      <td>Ciena (CIEN) Stock Sinks As Market Gains: What...</td>\n",
              "      <td>2020-10-23</td>\n",
              "      <td>[Zacks Equity Research]</td>\n",
              "      <td>Our research shows that these estimate changes...</td>\n",
              "      <td>[sinks, ciena, ratio, stock, estimate, gains, ...</td>\n",
              "      <td>[]</td>\n",
              "    </tr>\n",
              "    <tr>\n",
              "      <th>59</th>\n",
              "      <td>https://www.nasdaq.com/articles/enbridge-enb-s...</td>\n",
              "      <td>Enbridge (ENB) Stock Sinks As Market Gains: Wh...</td>\n",
              "      <td>2020-10-23</td>\n",
              "      <td>[Zacks Equity Research]</td>\n",
              "      <td>In the latest trading session, Enbridge (ENB) ...</td>\n",
              "      <td>[sinks, enbridge, ratio, enb, stock, estimate,...</td>\n",
              "      <td>[]</td>\n",
              "    </tr>\n",
              "    <tr>\n",
              "      <th>33</th>\n",
              "      <td>https://www.nasdaq.com/articles/forget-5g%3A-t...</td>\n",
              "      <td>Forget 5G: This Tech Stock Trend Is Generating...</td>\n",
              "      <td>2020-10-23</td>\n",
              "      <td>[Leo Sun]</td>\n",
              "      <td>A wide range of industries will benefit from t...</td>\n",
              "      <td>[snowflake, silobusting, stock, trend, forget,...</td>\n",
              "      <td>[]</td>\n",
              "    </tr>\n",
              "    <tr>\n",
              "      <th>32</th>\n",
              "      <td>https://www.nasdaq.com/articles/the-advantages...</td>\n",
              "      <td>The Advantages of Blockchain over Traditional ...</td>\n",
              "      <td>2020-10-23</td>\n",
              "      <td>[]</td>\n",
              "      <td>By eliminating middlemen, cross-border blockch...</td>\n",
              "      <td>[funds, stack, transaction, trust, payments, b...</td>\n",
              "      <td>[]</td>\n",
              "    </tr>\n",
              "    <tr>\n",
              "      <th>31</th>\n",
              "      <td>https://www.nasdaq.com/articles/the-pandemic-s...</td>\n",
              "      <td>The pandemic shopping list: Dolls, detergent a...</td>\n",
              "      <td>2020-10-23</td>\n",
              "      <td>[Uday Sampath]</td>\n",
              "      <td>Oct 23 (Reuters) - Consumers have been snappin...</td>\n",
              "      <td>[quarterly, views, list, dolls, robot, revenue...</td>\n",
              "      <td>[]</td>\n",
              "    </tr>\n",
              "    <tr>\n",
              "      <th>38</th>\n",
              "      <td>https://www.nasdaq.com/articles/intel-intc-3rd...</td>\n",
              "      <td>Intel (INTC) 3rd Quarter Earnings: What to Expect</td>\n",
              "      <td>2020-10-22</td>\n",
              "      <td>[]</td>\n",
              "      <td>Chip stocks have caught fire, thanks to strong...</td>\n",
              "      <td>[3rd, company, billion, revenue, intc, strong,...</td>\n",
              "      <td>[]</td>\n",
              "    </tr>\n",
              "    <tr>\n",
              "      <th>43</th>\n",
              "      <td>https://www.nasdaq.com/articles/the-market-is-...</td>\n",
              "      <td>The Market Is Focused on Stimulus; Will It Com...</td>\n",
              "      <td>2020-10-22</td>\n",
              "      <td>[]</td>\n",
              "      <td>For a few weeks now, the stock market seems to...</td>\n",
              "      <td>[stimulus, weeks, democrats, thing, focused, c...</td>\n",
              "      <td>[]</td>\n",
              "    </tr>\n",
              "    <tr>\n",
              "      <th>39</th>\n",
              "      <td>https://www.nasdaq.com/articles/microsoft-msft...</td>\n",
              "      <td>Microsoft (MSFT) 1st Quarter Earnings: What to...</td>\n",
              "      <td>2020-10-21</td>\n",
              "      <td>[]</td>\n",
              "      <td>The software giant is set to report first quar...</td>\n",
              "      <td>[microsofts, cloud, 1st, azure, billion, growt...</td>\n",
              "      <td>[]</td>\n",
              "    </tr>\n",
              "    <tr>\n",
              "      <th>40</th>\n",
              "      <td>https://www.nasdaq.com/articles/tesla-tsla-3rd...</td>\n",
              "      <td>Tesla (TSLA) 3rd Quarter Earnings: What to Expect</td>\n",
              "      <td>2020-10-21</td>\n",
              "      <td>[]</td>\n",
              "      <td>Tesla's strong stock surge has been driven by ...</td>\n",
              "      <td>[3rd, vehicles, company, vehicle, totals, reve...</td>\n",
              "      <td>[]</td>\n",
              "    </tr>\n",
              "    <tr>\n",
              "      <th>44</th>\n",
              "      <td>https://www.nasdaq.com/articles/the-reaction-t...</td>\n",
              "      <td>The Reaction to Netflix's (NFLX) Earnings: Déj...</td>\n",
              "      <td>2020-10-21</td>\n",
              "      <td>[]</td>\n",
              "      <td>Netflix (NFLX) released earnings after the bel...</td>\n",
              "      <td>[released, political, nflx, growth, revenue, t...</td>\n",
              "      <td>[]</td>\n",
              "    </tr>\n",
              "    <tr>\n",
              "      <th>48</th>\n",
              "      <td>https://www.nasdaq.com/articles/why-investors-...</td>\n",
              "      <td>Why Investors Should Be Upbeat About Exxon Mobil</td>\n",
              "      <td>2020-10-21</td>\n",
              "      <td>[Chris Tyler]</td>\n",
              "      <td>InvestorPlace - Stock Market News, Stock Advic...</td>\n",
              "      <td>[shares, investors, stock, oil, exxon, income,...</td>\n",
              "      <td>[]</td>\n",
              "    </tr>\n",
              "    <tr>\n",
              "      <th>49</th>\n",
              "      <td>https://www.nasdaq.com/articles/top-stock-trad...</td>\n",
              "      <td>Top Stock Trades for Thursday: SNAP, FB, PINS,...</td>\n",
              "      <td>2020-10-21</td>\n",
              "      <td>[Bret Kenwell]</td>\n",
              "      <td>InvestorPlace - Stock Market News, Stock Advic...</td>\n",
              "      <td>[trades, shares, trading, pypl, stock, pins, t...</td>\n",
              "      <td>[]</td>\n",
              "    </tr>\n",
              "    <tr>\n",
              "      <th>50</th>\n",
              "      <td>https://www.nasdaq.com/articles/plug-workhorse...</td>\n",
              "      <td>Plug Workhorse Stock into Your Trading Portfol...</td>\n",
              "      <td>2020-10-21</td>\n",
              "      <td>[Nicolas Chahine]</td>\n",
              "      <td>InvestorPlace - Stock Market News, Stock Advic...</td>\n",
              "      <td>[workhorse, trading, twice, stock, stocks, tra...</td>\n",
              "      <td>[]</td>\n",
              "    </tr>\n",
              "    <tr>\n",
              "      <th>51</th>\n",
              "      <td>https://www.nasdaq.com/articles/how-good-is-th...</td>\n",
              "      <td>How Good Is the Surf in Ocean Power Technologi...</td>\n",
              "      <td>2020-10-21</td>\n",
              "      <td>[Chris Tyler]</td>\n",
              "      <td>Some are seeing dollar signs in Ocean Power Te...</td>\n",
              "      <td>[purchase, energy, stock, technologies, good, ...</td>\n",
              "      <td>[]</td>\n",
              "    </tr>\n",
              "    <tr>\n",
              "      <th>41</th>\n",
              "      <td>https://www.nasdaq.com/articles/netflix-nflx-3...</td>\n",
              "      <td>Netflix (NFLX) 3rd Quarter Earnings: What to E...</td>\n",
              "      <td>2020-10-20</td>\n",
              "      <td>[]</td>\n",
              "      <td>Netflix (NFLX) is set to report third quarter ...</td>\n",
              "      <td>[3rd, netflix, company, stock, nflx, billion, ...</td>\n",
              "      <td>[]</td>\n",
              "    </tr>\n",
              "    <tr>\n",
              "      <th>45</th>\n",
              "      <td>https://www.nasdaq.com/articles/u.s.-debt%3A-t...</td>\n",
              "      <td>U.S. Debt: The Elephant in the Room That Keeps...</td>\n",
              "      <td>2020-10-19</td>\n",
              "      <td>[]</td>\n",
              "      <td>The elephant referred to back then was the nat...</td>\n",
              "      <td>[trillion, yes, room, gdp, debt, elephant, don...</td>\n",
              "      <td>[]</td>\n",
              "    </tr>\n",
              "    <tr>\n",
              "      <th>34</th>\n",
              "      <td>https://www.nasdaq.com/articles/whats-happenin...</td>\n",
              "      <td>What's Happening With Moderna Stock?</td>\n",
              "      <td>2020-10-19</td>\n",
              "      <td>[Trefis Team]</td>\n",
              "      <td>To recall, earlier this month, Moderna agreed ...</td>\n",
              "      <td>[covid19, doses, vaccine, stock, phase, likely...</td>\n",
              "      <td>[]</td>\n",
              "    </tr>\n",
              "    <tr>\n",
              "      <th>37</th>\n",
              "      <td>https://www.nasdaq.com/articles/workhorse-stoc...</td>\n",
              "      <td>Workhorse Stock Could Skyrocket on a U.S. Post...</td>\n",
              "      <td>2020-10-16</td>\n",
              "      <td>[Tom Taulli]</td>\n",
              "      <td>InvestorPlace - Stock Market News, Stock Advic...</td>\n",
              "      <td>[service, workhorse, vehicles, company, stock,...</td>\n",
              "      <td>[]</td>\n",
              "    </tr>\n",
              "    <tr>\n",
              "      <th>36</th>\n",
              "      <td>https://www.nasdaq.com/articles/3-high-yield-s...</td>\n",
              "      <td>3 High-Yield Stocks at Rock-Bottom Prices</td>\n",
              "      <td>2020-10-16</td>\n",
              "      <td>[James Brumley]</td>\n",
              "      <td>It's easy to be wary of dividend stocks right ...</td>\n",
              "      <td>[att, lyondellbasell, stock, stocks, interest,...</td>\n",
              "      <td>[]</td>\n",
              "    </tr>\n",
              "    <tr>\n",
              "      <th>35</th>\n",
              "      <td>https://www.nasdaq.com/articles/3-top-5g-stock...</td>\n",
              "      <td>3 Top 5G Stocks to Buy Right Now</td>\n",
              "      <td>2020-10-09</td>\n",
              "      <td>[Leo Sun]</td>\n",
              "      <td>AppleApple is widely expected to reveal the iP...</td>\n",
              "      <td>[apple, skyworks, stock, stocks, earnings, 5g,...</td>\n",
              "      <td>[]</td>\n",
              "    </tr>\n",
              "    <tr>\n",
              "      <th>61</th>\n",
              "      <td>https://www.nasdaq.com/articles/adena-friedman...</td>\n",
              "      <td>Adena Friedman: ESG, AI, Cryptocurrency In Foc...</td>\n",
              "      <td>2019-01-21</td>\n",
              "      <td>[]</td>\n",
              "      <td>The world economy is growing more slowly than ...</td>\n",
              "      <td>[focus, markets, public, economic, nasdaq, com...</td>\n",
              "      <td>[]</td>\n",
              "    </tr>\n",
              "    <tr>\n",
              "      <th>60</th>\n",
              "      <td>https://www.nasdaq.com/articles/nasdaqs-johan-...</td>\n",
              "      <td>Nasdaq's Johan Toll Wins FinTech Person of the...</td>\n",
              "      <td>2018-05-16</td>\n",
              "      <td>[]</td>\n",
              "      <td>Johan Toll, head of Blockchain Product Managem...</td>\n",
              "      <td>[markets, johan, financial, nasdaq, toll, trad...</td>\n",
              "      <td>[]</td>\n",
              "    </tr>\n",
              "  </tbody>\n",
              "</table>\n",
              "</div>"
            ],
            "text/plain": [
              "                                                  url  ... videos\n",
              "29  https://www.nasdaq.com/articles/iphone-12-coul...  ...     []\n",
              "56  https://www.nasdaq.com/articles/dominion-energ...  ...     []\n",
              "53  https://www.nasdaq.com/articles/target-tgt-out...  ...     []\n",
              "52  https://www.nasdaq.com/articles/bp-bp-stock-si...  ...     []\n",
              "47  https://www.nasdaq.com/articles/wall-st-week-a...  ...     []\n",
              "30  https://www.nasdaq.com/articles/covid-19-is-dr...  ...     []\n",
              "42  https://www.nasdaq.com/articles/is-the-market-...  ...     []\n",
              "55  https://www.nasdaq.com/articles/hanesbrands-hb...  ...     []\n",
              "54  https://www.nasdaq.com/articles/united-parcel-...  ...     []\n",
              "57  https://www.nasdaq.com/articles/noble-midstrea...  ...     []\n",
              "58  https://www.nasdaq.com/articles/ciena-cien-sto...  ...     []\n",
              "59  https://www.nasdaq.com/articles/enbridge-enb-s...  ...     []\n",
              "33  https://www.nasdaq.com/articles/forget-5g%3A-t...  ...     []\n",
              "32  https://www.nasdaq.com/articles/the-advantages...  ...     []\n",
              "31  https://www.nasdaq.com/articles/the-pandemic-s...  ...     []\n",
              "38  https://www.nasdaq.com/articles/intel-intc-3rd...  ...     []\n",
              "43  https://www.nasdaq.com/articles/the-market-is-...  ...     []\n",
              "39  https://www.nasdaq.com/articles/microsoft-msft...  ...     []\n",
              "40  https://www.nasdaq.com/articles/tesla-tsla-3rd...  ...     []\n",
              "44  https://www.nasdaq.com/articles/the-reaction-t...  ...     []\n",
              "48  https://www.nasdaq.com/articles/why-investors-...  ...     []\n",
              "49  https://www.nasdaq.com/articles/top-stock-trad...  ...     []\n",
              "50  https://www.nasdaq.com/articles/plug-workhorse...  ...     []\n",
              "51  https://www.nasdaq.com/articles/how-good-is-th...  ...     []\n",
              "41  https://www.nasdaq.com/articles/netflix-nflx-3...  ...     []\n",
              "45  https://www.nasdaq.com/articles/u.s.-debt%3A-t...  ...     []\n",
              "34  https://www.nasdaq.com/articles/whats-happenin...  ...     []\n",
              "37  https://www.nasdaq.com/articles/workhorse-stoc...  ...     []\n",
              "36  https://www.nasdaq.com/articles/3-high-yield-s...  ...     []\n",
              "35  https://www.nasdaq.com/articles/3-top-5g-stock...  ...     []\n",
              "61  https://www.nasdaq.com/articles/adena-friedman...  ...     []\n",
              "60  https://www.nasdaq.com/articles/nasdaqs-johan-...  ...     []\n",
              "\n",
              "[32 rows x 7 columns]"
            ]
          },
          "metadata": {
            "tags": []
          },
          "execution_count": 20
        }
      ]
    },
    {
      "cell_type": "code",
      "metadata": {
        "id": "QBgMFaHxj5Fs",
        "outputId": "ab641890-e81d-4bd4-d1fb-65f6e00f634e",
        "colab": {
          "base_uri": "https://localhost:8080/",
          "height": 16
        }
      },
      "source": [
        "# convert to a csv file\n",
        "from google.colab import files\n",
        "df_dates.to_csv('NDX_news_headlines_accessed_2020-10-23.csv', index=False) \n",
        "files.download('NDX_news_headlines_accessed_2020-10-23.csv')\n"
      ],
      "execution_count": null,
      "outputs": [
        {
          "output_type": "display_data",
          "data": {
            "application/javascript": [
              "\n",
              "    async function download(id, filename, size) {\n",
              "      if (!google.colab.kernel.accessAllowed) {\n",
              "        return;\n",
              "      }\n",
              "      const div = document.createElement('div');\n",
              "      const label = document.createElement('label');\n",
              "      label.textContent = `Downloading \"${filename}\": `;\n",
              "      div.appendChild(label);\n",
              "      const progress = document.createElement('progress');\n",
              "      progress.max = size;\n",
              "      div.appendChild(progress);\n",
              "      document.body.appendChild(div);\n",
              "\n",
              "      const buffers = [];\n",
              "      let downloaded = 0;\n",
              "\n",
              "      const channel = await google.colab.kernel.comms.open(id);\n",
              "      // Send a message to notify the kernel that we're ready.\n",
              "      channel.send({})\n",
              "\n",
              "      for await (const message of channel.messages) {\n",
              "        // Send a message to notify the kernel that we're ready.\n",
              "        channel.send({})\n",
              "        if (message.buffers) {\n",
              "          for (const buffer of message.buffers) {\n",
              "            buffers.push(buffer);\n",
              "            downloaded += buffer.byteLength;\n",
              "            progress.value = downloaded;\n",
              "          }\n",
              "        }\n",
              "      }\n",
              "      const blob = new Blob(buffers, {type: 'application/binary'});\n",
              "      const a = document.createElement('a');\n",
              "      a.href = window.URL.createObjectURL(blob);\n",
              "      a.download = filename;\n",
              "      div.appendChild(a);\n",
              "      a.click();\n",
              "      div.remove();\n",
              "    }\n",
              "  "
            ],
            "text/plain": [
              "<IPython.core.display.Javascript object>"
            ]
          },
          "metadata": {
            "tags": []
          }
        },
        {
          "output_type": "display_data",
          "data": {
            "application/javascript": [
              "download(\"download_1d802688-9468-4de3-8340-1ac23fd0d8d9\", \"NDX_news_headlines_accessed_2020-10-18.csv\", 31300)"
            ],
            "text/plain": [
              "<IPython.core.display.Javascript object>"
            ]
          },
          "metadata": {
            "tags": []
          }
        }
      ]
    },
    {
      "cell_type": "markdown",
      "metadata": {
        "id": "BsEs6ULQvnlm"
      },
      "source": [
        "References: \n",
        "\n",
        "1. [NDX News Headlines](https://www.nasdaq.com/market-activity/index/ndx/news-headlines) accessed 23-October-2020.\n",
        "2. [Quickstart Guide - Newspaper](https://newspaper.readthedocs.io/en/latest/user_guide/quickstart.html#extracting-articles) accessed 18-October-2020.\n",
        "3. [Scraping articles about stocks](http://theautomatic.net/2017/08/24/scraping-articles-about-stocks/) accessed 18-October-2020.\n",
        "4. [Scrape and Summarize News Articles by Computer Science](https://www.youtube.com/watch?v=YzMA2O_v5co&t=451s) accessed 18-October-2020.\n"
      ]
    }
  ]
}